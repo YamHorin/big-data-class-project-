{
 "cells": [
  {
   "cell_type": "code",
   "execution_count": 7,
   "id": "77f13e0d",
   "metadata": {},
   "outputs": [
    {
     "name": "stderr",
     "output_type": "stream",
     "text": [
      "                                                                                \r"
     ]
    }
   ],
   "source": [
    "from pyspark.sql import SparkSession\n",
    "from pyspark.sql.functions import to_json, struct\n",
    "from confluent_kafka import Producer\n",
    "import time\n",
    "\n",
    "# Initialize Spark session\n",
    "spark = SparkSession.builder \\\n",
    "    .appName(\"SparkToKafkaBatch\") \\\n",
    "    .getOrCreate()\n",
    "\n",
    "# Define batch size and topic\n",
    "batch_size = 100\n",
    "topic = 'Football'\n",
    "csv_file_path = \"train.csv\"\n",
    "\n",
    "# Read CSV file into Spark DataFrame\n",
    "train_df = spark.read.csv(csv_file_path, header=True, inferSchema=True)\n",
    "\n",
    "# Kafka configuration\n",
    "kafka_conf = {\n",
    "    'bootstrap.servers': 'localhost:9092',  # Kafka server address\n",
    "}\n",
    "\n",
    "# Create Kafka producer instance\n",
    "producer = Producer(kafka_conf)"
   ]
  },
  {
   "cell_type": "code",
   "execution_count": 8,
   "id": "6ffa843c",
   "metadata": {},
   "outputs": [],
   "source": [
    "# Function to send DataFrame batch to Kafka\n",
    "def send_batch_to_kafka(df_batch, topic):\n",
    "    # Convert DataFrame to JSON format\n",
    "    df_batch = df_batch.select(to_json(struct(*df_batch.columns)).alias(\"json\"))\n",
    "    \n",
    "    # Collect data as a list of JSON strings\n",
    "    json_data = df_batch.rdd.map(lambda row: row[\"json\"]).collect()\n",
    "    \n",
    "    # Produce messages to Kafka\n",
    "    for json_row in json_data:\n",
    "        producer.produce(topic, value=json_row)\n",
    "    producer.flush()\n",
    "\n",
    "# Function to process DataFrame in batches and send to Kafka\n",
    "def process_and_send_batches(df, batch_size, producer, topic):\n",
    "    # Get total number of rows in the DataFrame\n",
    "    total_rows = df.count()\n",
    "    \n",
    "    # Calculate the number of batches\n",
    "    num_batches = (total_rows + batch_size - 1) // batch_size  # Ceiling division\n",
    "    \n",
    "    # Iterate over batches\n",
    "    for i in range(num_batches):\n",
    "        start_index = i * batch_size\n",
    "        end_index = (i + 1) * batch_size\n",
    "        \n",
    "        # Get the batch DataFrame\n",
    "        batch_df = df.limit(end_index).subtract(df.limit(start_index))\n",
    "        \n",
    "        # Send the batch to Kafka\n",
    "        send_batch_to_kafka(batch_df, topic)\n",
    "        print(f\"Batch {i+1}/{num_batches} sent to Kafka.\")\n",
    "        time.sleep(360)  # Sleep for 60 seconds (1 minute)\n",
    "\n"
   ]
  },
  {
   "cell_type": "code",
   "execution_count": null,
   "id": "ddc5aad1",
   "metadata": {
    "scrolled": true
   },
   "outputs": [
    {
     "name": "stderr",
     "output_type": "stream",
     "text": [
      "                                                                                \r"
     ]
    },
    {
     "name": "stdout",
     "output_type": "stream",
     "text": [
      "Batch 1/1110 sent to Kafka.\n",
      "Batch 2/1110 sent to Kafka.\n",
      "Batch 3/1110 sent to Kafka.\n",
      "Batch 4/1110 sent to Kafka.\n",
      "Batch 5/1110 sent to Kafka.\n",
      "Batch 6/1110 sent to Kafka.\n",
      "Batch 7/1110 sent to Kafka.\n",
      "Batch 8/1110 sent to Kafka.\n",
      "Batch 9/1110 sent to Kafka.\n"
     ]
    },
    {
     "name": "stderr",
     "output_type": "stream",
     "text": [
      "\r",
      "[Stage 61:>                                                         (0 + 1) / 1]\r",
      "\r",
      "                                                                                \r"
     ]
    },
    {
     "name": "stdout",
     "output_type": "stream",
     "text": [
      "Batch 10/1110 sent to Kafka.\n",
      "Batch 11/1110 sent to Kafka.\n",
      "Batch 12/1110 sent to Kafka.\n"
     ]
    },
    {
     "name": "stderr",
     "output_type": "stream",
     "text": [
      "\r",
      "[Stage 75:===========================================>              (3 + 1) / 4]\r",
      "\r",
      "                                                                                \r"
     ]
    },
    {
     "name": "stdout",
     "output_type": "stream",
     "text": [
      "Batch 13/1110 sent to Kafka.\n",
      "Batch 14/1110 sent to Kafka.\n",
      "Batch 15/1110 sent to Kafka.\n"
     ]
    },
    {
     "name": "stderr",
     "output_type": "stream",
     "text": [
      "                                                                                \r"
     ]
    },
    {
     "name": "stdout",
     "output_type": "stream",
     "text": [
      "Batch 16/1110 sent to Kafka.\n"
     ]
    },
    {
     "name": "stderr",
     "output_type": "stream",
     "text": [
      "\r",
      "[Stage 99:=============================>                            (2 + 2) / 4]\r",
      "\r",
      "                                                                                \r"
     ]
    },
    {
     "name": "stdout",
     "output_type": "stream",
     "text": [
      "Batch 17/1110 sent to Kafka.\n"
     ]
    },
    {
     "name": "stderr",
     "output_type": "stream",
     "text": [
      "                                                                                \r"
     ]
    },
    {
     "name": "stdout",
     "output_type": "stream",
     "text": [
      "Batch 18/1110 sent to Kafka.\n",
      "Batch 19/1110 sent to Kafka.\n"
     ]
    },
    {
     "name": "stderr",
     "output_type": "stream",
     "text": [
      "                                                                                \r"
     ]
    },
    {
     "name": "stdout",
     "output_type": "stream",
     "text": [
      "Batch 20/1110 sent to Kafka.\n"
     ]
    },
    {
     "name": "stderr",
     "output_type": "stream",
     "text": [
      "                                                                                \r"
     ]
    },
    {
     "name": "stdout",
     "output_type": "stream",
     "text": [
      "Batch 21/1110 sent to Kafka.\n"
     ]
    },
    {
     "name": "stderr",
     "output_type": "stream",
     "text": [
      "                                                                                \r"
     ]
    },
    {
     "name": "stdout",
     "output_type": "stream",
     "text": [
      "Batch 22/1110 sent to Kafka.\n"
     ]
    },
    {
     "name": "stderr",
     "output_type": "stream",
     "text": [
      "                                                                                \r"
     ]
    },
    {
     "name": "stdout",
     "output_type": "stream",
     "text": [
      "Batch 23/1110 sent to Kafka.\n"
     ]
    },
    {
     "name": "stderr",
     "output_type": "stream",
     "text": [
      "                                                                                \r"
     ]
    },
    {
     "name": "stdout",
     "output_type": "stream",
     "text": [
      "Batch 24/1110 sent to Kafka.\n"
     ]
    },
    {
     "name": "stderr",
     "output_type": "stream",
     "text": [
      "                                                                                \r"
     ]
    },
    {
     "name": "stdout",
     "output_type": "stream",
     "text": [
      "Batch 25/1110 sent to Kafka.\n"
     ]
    },
    {
     "name": "stderr",
     "output_type": "stream",
     "text": [
      "                                                                                \r"
     ]
    },
    {
     "name": "stdout",
     "output_type": "stream",
     "text": [
      "Batch 26/1110 sent to Kafka.\n"
     ]
    },
    {
     "name": "stderr",
     "output_type": "stream",
     "text": [
      "                                                                                \r"
     ]
    },
    {
     "name": "stdout",
     "output_type": "stream",
     "text": [
      "Batch 27/1110 sent to Kafka.\n"
     ]
    },
    {
     "name": "stderr",
     "output_type": "stream",
     "text": [
      "                                                                                \r"
     ]
    },
    {
     "name": "stdout",
     "output_type": "stream",
     "text": [
      "Batch 28/1110 sent to Kafka.\n"
     ]
    },
    {
     "name": "stderr",
     "output_type": "stream",
     "text": [
      "\r",
      "[Stage 171:==========================================>              (3 + 1) / 4]\r",
      "\r",
      "                                                                                \r"
     ]
    },
    {
     "name": "stdout",
     "output_type": "stream",
     "text": [
      "Batch 29/1110 sent to Kafka.\n"
     ]
    },
    {
     "name": "stderr",
     "output_type": "stream",
     "text": [
      "                                                                                \r"
     ]
    },
    {
     "name": "stdout",
     "output_type": "stream",
     "text": [
      "Batch 30/1110 sent to Kafka.\n"
     ]
    },
    {
     "name": "stderr",
     "output_type": "stream",
     "text": [
      "\r",
      "[Stage 183:============================>                            (2 + 2) / 4]\r",
      "\r",
      "                                                                                \r"
     ]
    },
    {
     "name": "stdout",
     "output_type": "stream",
     "text": [
      "Batch 31/1110 sent to Kafka.\n"
     ]
    },
    {
     "name": "stderr",
     "output_type": "stream",
     "text": [
      "                                                                                \r"
     ]
    },
    {
     "name": "stdout",
     "output_type": "stream",
     "text": [
      "Batch 32/1110 sent to Kafka.\n"
     ]
    },
    {
     "name": "stderr",
     "output_type": "stream",
     "text": [
      "                                                                                \r"
     ]
    },
    {
     "name": "stdout",
     "output_type": "stream",
     "text": [
      "Batch 33/1110 sent to Kafka.\n"
     ]
    },
    {
     "name": "stderr",
     "output_type": "stream",
     "text": [
      "                                                                                \r"
     ]
    },
    {
     "name": "stdout",
     "output_type": "stream",
     "text": [
      "Batch 34/1110 sent to Kafka.\n"
     ]
    },
    {
     "name": "stderr",
     "output_type": "stream",
     "text": [
      "                                                                                \r"
     ]
    },
    {
     "name": "stdout",
     "output_type": "stream",
     "text": [
      "Batch 35/1110 sent to Kafka.\n",
      "Batch 36/1110 sent to Kafka.\n"
     ]
    }
   ],
   "source": [
    "# Process and send data to Kafka in batches\n",
    "try:\n",
    "    process_and_send_batches(train_df, batch_size, producer, topic)\n",
    "except Exception as e:\n",
    "    print(f\"An error occurred: {e}\")\n",
    "finally:\n",
    "    producer.flush()  # Ensure all messages are sent before exiting\n",
    "    spark.stop()  # Stop the Spark session\n"
   ]
  },
  {
   "cell_type": "code",
   "execution_count": null,
   "id": "2bbcee2f",
   "metadata": {},
   "outputs": [],
   "source": [
    "# Stop the Spark session\n",
    "spark.stop()"
   ]
  },
  {
   "cell_type": "code",
   "execution_count": null,
   "id": "e19cfc63",
   "metadata": {},
   "outputs": [],
   "source": []
  },
  {
   "cell_type": "code",
   "execution_count": null,
   "id": "b8c84e20",
   "metadata": {},
   "outputs": [],
   "source": []
  }
 ],
 "metadata": {
  "kernelspec": {
   "display_name": "Python 3 (ipykernel)",
   "language": "python",
   "name": "python3"
  },
  "language_info": {
   "codemirror_mode": {
    "name": "ipython",
    "version": 3
   },
   "file_extension": ".py",
   "mimetype": "text/x-python",
   "name": "python",
   "nbconvert_exporter": "python",
   "pygments_lexer": "ipython3",
   "version": "3.9.12"
  }
 },
 "nbformat": 4,
 "nbformat_minor": 5
}
