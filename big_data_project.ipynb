{
 "cells": [
  {
   "cell_type": "code",
   "execution_count": 1,
   "id": "3eb36e18",
   "metadata": {},
   "outputs": [],
   "source": [
    "import time\n",
    "import warnings\n",
    "\n",
    "import numpy as np\n",
    "import matplotlib.pyplot as plt\n",
    "from pyspark.sql import SparkSession\n",
    "from pyspark.sql import DataFrame\n",
    "from pyspark.ml.linalg import Vectors\n",
    "\n",
    "from pyspark.ml import Pipeline\n",
    "from pyspark.sql import functions as F\n",
    "from pyspark.sql.window import Window\n",
    "from pyspark.ml.feature import VectorAssembler\n",
    "from pyspark.ml.feature import VectorSlicer\n",
    "from pyspark.ml.feature import StandardScaler\n",
    "from pyspark.ml.feature import PCA\n",
    "from pyspark.ml.feature import StringIndexer, OneHotEncoder\n",
    "from pyspark.ml.feature import VectorAssembler, ChiSqSelector\n",
    "from pyspark.ml.classification import LinearSVC\n",
    "from pyspark.ml.evaluation import ClusteringEvaluator\n",
    "from pyspark.sql.functions import mean , col, regexp_extract\n",
    "from pyspark.sql.functions import explode, split, count, when\n",
    "from pyspark.sql.functions import col, lit, sum as spark_sum\n",
    "from functools import reduce\n",
    "from pyspark.sql.types import StructType, StructField, StringType, FloatType, IntegerType, TimestampType, BooleanType, DoubleType\n",
    "from pyspark.ml.evaluation import MulticlassClassificationEvaluator\n",
    "from pyspark.ml.classification import RandomForestClassifier\n",
    "from pyspark.ml.classification import GBTClassifier\n",
    "from pyspark.ml.classification import DecisionTreeClassifier\n",
    "from pyspark.ml.classification import LogisticRegression\n",
    "from pyspark.sql.functions import to_json, struct\n",
    "from pyspark.sql.functions import from_json, col\n",
    "from pyspark.sql.types import StructType, StructField, StringType\n",
    "from pyspark.ml.linalg import VectorUDT\n"
   ]
  },
  {
   "cell_type": "code",
   "execution_count": 2,
   "id": "9499f33d",
   "metadata": {},
   "outputs": [
    {
     "name": "stderr",
     "output_type": "stream",
     "text": [
      "24/08/21 20:29:13 WARN SparkSession: Using an existing Spark session; only runtime SQL configurations will take effect.\n"
     ]
    }
   ],
   "source": [
    "\n",
    "# Initialize Spark session\n",
    "spark = SparkSession.builder \\\n",
    "    .appName(\"SparkToKafkaBatch\") \\\n",
    "    .getOrCreate()\n",
    "\n",
    "\n",
    "random_seed = 42\n",
    "\n",
    "# Define your partitioning strategy based on a key column\n",
    "partition_col = 'id'  # Replace with your actual column for partitioning\n",
    "\n",
    "# Define a window specification\n",
    "windowSpec = Window.partitionBy(partition_col).orderBy('match_date')\n",
    "\n",
    "\n",
    "GBT_List = []\n",
    "random_forest_List = []\n",
    "decision_tree_List = []\n",
    "Linear_regression_List =[]\n",
    "SVC_List = []\n",
    "KNN_List = []"
   ]
  },
  {
   "cell_type": "markdown",
   "id": "c8bdf047",
   "metadata": {},
   "source": [
    "csv_file_path = \"train.csv\"\n",
    "train_df = spark.read.csv(csv_file_path, header=True, inferSchema=True)\n",
    "\n",
    "# Show DataFrame\n",
    "train_df.show()"
   ]
  },
  {
   "cell_type": "code",
   "execution_count": 3,
   "id": "69fbc452",
   "metadata": {},
   "outputs": [],
   "source": [
    "\n",
    "# Define the df schema\n",
    "schema = StructType([\n",
    "    StructField(\"id\", IntegerType(), True),\n",
    "    StructField(\"target\", StringType(), True),\n",
    "    StructField(\"home_team_name\", StringType(), True),\n",
    "    StructField(\"away_team_name\", StringType(), True),\n",
    "    StructField(\"match_date\", TimestampType(), True),\n",
    "    StructField(\"league_name\", StringType(), True),\n",
    "    StructField(\"league_id\", IntegerType(), True),\n",
    "    StructField(\"is_cup\", BooleanType(), True),\n",
    "    StructField(\"home_team_coach_id\", DoubleType(), True),\n",
    "    StructField(\"away_team_coach_id\", DoubleType(), True),\n",
    "\n",
    "    # Home team history fields\n",
    "    StructField(\"home_team_history_match_date_1\", TimestampType(), True),\n",
    "    StructField(\"home_team_history_match_date_2\", TimestampType(), True),\n",
    "    StructField(\"home_team_history_match_date_3\", TimestampType(), True),\n",
    "    StructField(\"home_team_history_match_date_4\", TimestampType(), True),\n",
    "    StructField(\"home_team_history_match_date_5\", TimestampType(), True),\n",
    "    StructField(\"home_team_history_match_date_6\", TimestampType(), True),\n",
    "    StructField(\"home_team_history_match_date_7\", TimestampType(), True),\n",
    "    StructField(\"home_team_history_match_date_8\", TimestampType(), True),\n",
    "    StructField(\"home_team_history_match_date_9\", TimestampType(), True),\n",
    "    StructField(\"home_team_history_match_date_10\", TimestampType(), True),\n",
    "    StructField(\"home_team_history_is_play_home_1\", DoubleType(), True),\n",
    "    StructField(\"home_team_history_is_play_home_2\", DoubleType(), True),\n",
    "    StructField(\"home_team_history_is_play_home_3\", DoubleType(), True),\n",
    "    StructField(\"home_team_history_is_play_home_4\", DoubleType(), True),\n",
    "    StructField(\"home_team_history_is_play_home_5\", DoubleType(), True),\n",
    "    StructField(\"home_team_history_is_play_home_6\", DoubleType(), True),\n",
    "    StructField(\"home_team_history_is_play_home_7\", DoubleType(), True),\n",
    "    StructField(\"home_team_history_is_play_home_8\", DoubleType(), True),\n",
    "    StructField(\"home_team_history_is_play_home_9\", DoubleType(), True),\n",
    "    StructField(\"home_team_history_is_play_home_10\", DoubleType(), True),\n",
    "    StructField(\"home_team_history_is_cup_1\", DoubleType(), True),\n",
    "    StructField(\"home_team_history_is_cup_2\", DoubleType(), True),\n",
    "    StructField(\"home_team_history_is_cup_3\", DoubleType(), True),\n",
    "    StructField(\"home_team_history_is_cup_4\", DoubleType(), True),\n",
    "    StructField(\"home_team_history_is_cup_5\", DoubleType(), True),\n",
    "    StructField(\"home_team_history_is_cup_6\", DoubleType(), True),\n",
    "    StructField(\"home_team_history_is_cup_7\", DoubleType(), True),\n",
    "    StructField(\"home_team_history_is_cup_8\", DoubleType(), True),\n",
    "    StructField(\"home_team_history_is_cup_9\", DoubleType(), True),\n",
    "    StructField(\"home_team_history_is_cup_10\", DoubleType(), True),\n",
    "    StructField(\"home_team_history_goal_1\", DoubleType(), True),\n",
    "    StructField(\"home_team_history_goal_2\", DoubleType(), True),\n",
    "    StructField(\"home_team_history_goal_3\", DoubleType(), True),\n",
    "    StructField(\"home_team_history_goal_4\", DoubleType(), True),\n",
    "    StructField(\"home_team_history_goal_5\", DoubleType(), True),\n",
    "    StructField(\"home_team_history_goal_6\", DoubleType(), True),\n",
    "    StructField(\"home_team_history_goal_7\", DoubleType(), True),\n",
    "    StructField(\"home_team_history_goal_8\", DoubleType(), True),\n",
    "    StructField(\"home_team_history_goal_9\", DoubleType(), True),\n",
    "    StructField(\"home_team_history_goal_10\", DoubleType(), True),\n",
    "    StructField(\"home_team_history_opponent_goal_1\", DoubleType(), True),\n",
    "    StructField(\"home_team_history_opponent_goal_2\", DoubleType(), True),\n",
    "    StructField(\"home_team_history_opponent_goal_3\", DoubleType(), True),\n",
    "    StructField(\"home_team_history_opponent_goal_4\", DoubleType(), True),\n",
    "    StructField(\"home_team_history_opponent_goal_5\", DoubleType(), True),\n",
    "    StructField(\"home_team_history_opponent_goal_6\", DoubleType(), True),\n",
    "    StructField(\"home_team_history_opponent_goal_7\", DoubleType(), True),\n",
    "    StructField(\"home_team_history_opponent_goal_8\", DoubleType(), True),\n",
    "    StructField(\"home_team_history_opponent_goal_9\", DoubleType(), True),\n",
    "    StructField(\"home_team_history_opponent_goal_10\", DoubleType(), True),\n",
    "    StructField(\"home_team_history_rating_1\", DoubleType(), True),\n",
    "    StructField(\"home_team_history_rating_2\", DoubleType(), True),\n",
    "    StructField(\"home_team_history_rating_3\", DoubleType(), True),\n",
    "    StructField(\"home_team_history_rating_4\", DoubleType(), True),\n",
    "    StructField(\"home_team_history_rating_5\", DoubleType(), True),\n",
    "    StructField(\"home_team_history_rating_6\", DoubleType(), True),\n",
    "    StructField(\"home_team_history_rating_7\", DoubleType(), True),\n",
    "    StructField(\"home_team_history_rating_8\", DoubleType(), True),\n",
    "    StructField(\"home_team_history_rating_9\", DoubleType(), True),\n",
    "    StructField(\"home_team_history_rating_10\", DoubleType(), True),\n",
    "    StructField(\"home_team_history_opponent_rating_1\", DoubleType(), True),\n",
    "    StructField(\"home_team_history_opponent_rating_2\", DoubleType(), True),\n",
    "    StructField(\"home_team_history_opponent_rating_3\", DoubleType(), True),\n",
    "    StructField(\"home_team_history_opponent_rating_4\", DoubleType(), True),\n",
    "    StructField(\"home_team_history_opponent_rating_5\", DoubleType(), True),\n",
    "    StructField(\"home_team_history_opponent_rating_6\", DoubleType(), True),\n",
    "    StructField(\"home_team_history_opponent_rating_7\", DoubleType(), True),\n",
    "    StructField(\"home_team_history_opponent_rating_8\", DoubleType(), True),\n",
    "    StructField(\"home_team_history_opponent_rating_9\", DoubleType(), True),\n",
    "    StructField(\"home_team_history_opponent_rating_10\", DoubleType(), True),\n",
    "    StructField(\"home_team_history_coach_1\", DoubleType(), True),\n",
    "    StructField(\"home_team_history_coach_2\", DoubleType(), True),\n",
    "    StructField(\"home_team_history_coach_3\", DoubleType(), True),\n",
    "    StructField(\"home_team_history_coach_4\", DoubleType(), True),\n",
    "    StructField(\"home_team_history_coach_5\", DoubleType(), True),\n",
    "    StructField(\"home_team_history_coach_6\", DoubleType(), True),\n",
    "    StructField(\"home_team_history_coach_7\", DoubleType(), True),\n",
    "    StructField(\"home_team_history_coach_8\", DoubleType(), True),\n",
    "    StructField(\"home_team_history_coach_9\", DoubleType(), True),\n",
    "    StructField(\"home_team_history_coach_10\", DoubleType(), True),\n",
    "    StructField(\"home_team_history_league_id_1\", DoubleType(), True),\n",
    "    StructField(\"home_team_history_league_id_2\", DoubleType(), True),\n",
    "    StructField(\"home_team_history_league_id_3\", DoubleType(), True),\n",
    "    StructField(\"home_team_history_league_id_4\", DoubleType(), True),\n",
    "    StructField(\"home_team_history_league_id_5\", DoubleType(), True),\n",
    "    StructField(\"home_team_history_league_id_6\", DoubleType(), True),\n",
    "    StructField(\"home_team_history_league_id_7\", DoubleType(), True),\n",
    "    StructField(\"home_team_history_league_id_8\", DoubleType(), True),\n",
    "    StructField(\"home_team_history_league_id_9\", DoubleType(), True),\n",
    "    StructField(\"home_team_history_league_id_10\", DoubleType(), True),\n",
    "\n",
    "    # Away team history fields\n",
    "    StructField(\"away_team_history_match_date_1\", TimestampType(), True),\n",
    "    StructField(\"away_team_history_match_date_2\", TimestampType(), True),\n",
    "    StructField(\"away_team_history_match_date_3\", TimestampType(), True),\n",
    "    StructField(\"away_team_history_match_date_4\", TimestampType(), True),\n",
    "    StructField(\"away_team_history_match_date_5\", TimestampType(), True),\n",
    "    StructField(\"away_team_history_match_date_6\", TimestampType(), True),\n",
    "    StructField(\"away_team_history_match_date_7\", TimestampType(), True),\n",
    "    StructField(\"away_team_history_match_date_8\", TimestampType(), True),\n",
    "    StructField(\"away_team_history_match_date_9\", TimestampType(), True),\n",
    "    StructField(\"away_team_history_match_date_10\", TimestampType(), True),\n",
    "    StructField(\"away_team_history_is_play_home_1\", DoubleType(), True),\n",
    "    StructField(\"away_team_history_is_play_home_2\", DoubleType(), True),\n",
    "    StructField(\"away_team_history_is_play_home_3\", DoubleType(), True),\n",
    "    StructField(\"away_team_history_is_play_home_4\", DoubleType(), True),\n",
    "    StructField(\"away_team_history_is_play_home_5\", DoubleType(), True),\n",
    "    StructField(\"away_team_history_is_play_home_6\", DoubleType(), True),\n",
    "    StructField(\"away_team_history_is_play_home_7\", DoubleType(), True),\n",
    "    StructField(\"away_team_history_is_play_home_8\", DoubleType(), True),\n",
    "    StructField(\"away_team_history_is_play_home_9\", DoubleType(), True),\n",
    "    StructField(\"away_team_history_is_play_home_10\", DoubleType(), True),\n",
    "    StructField(\"away_team_history_is_cup_1\", DoubleType(), True),\n",
    "    StructField(\"away_team_history_is_cup_2\", DoubleType(), True),\n",
    "    StructField(\"away_team_history_is_cup_3\", DoubleType(), True),\n",
    "    StructField(\"away_team_history_is_cup_4\", DoubleType(), True),\n",
    "    StructField(\"away_team_history_is_cup_5\", DoubleType(), True),\n",
    "    StructField(\"away_team_history_is_cup_6\", DoubleType(), True),\n",
    "    StructField(\"away_team_history_is_cup_7\", DoubleType(), True),\n",
    "    StructField(\"away_team_history_is_cup_8\", DoubleType(), True),\n",
    "    StructField(\"away_team_history_is_cup_9\", DoubleType(), True),\n",
    "    StructField(\"away_team_history_is_cup_10\", DoubleType(), True),\n",
    "    StructField(\"away_team_history_goal_1\", DoubleType(), True),\n",
    "    StructField(\"away_team_history_goal_2\", DoubleType(), True),\n",
    "    StructField(\"away_team_history_goal_3\", DoubleType(), True),\n",
    "    StructField(\"away_team_history_goal_4\", DoubleType(), True),\n",
    "    StructField(\"away_team_history_goal_5\", DoubleType(), True),\n",
    "    StructField(\"away_team_history_goal_6\", DoubleType(), True),\n",
    "    StructField(\"away_team_history_goal_7\", DoubleType(), True),\n",
    "    StructField(\"away_team_history_goal_8\", DoubleType(), True),\n",
    "    StructField(\"away_team_history_goal_9\", DoubleType(), True),\n",
    "    StructField(\"away_team_history_goal_10\", DoubleType(), True),\n",
    "    StructField(\"away_team_history_opponent_goal_1\", DoubleType(), True),\n",
    "    StructField(\"away_team_history_opponent_goal_2\", DoubleType(), True),\n",
    "    StructField(\"away_team_history_opponent_goal_3\", DoubleType(), True),\n",
    "    StructField(\"away_team_history_opponent_goal_4\", DoubleType(), True),\n",
    "    StructField(\"away_team_history_opponent_goal_5\", DoubleType(), True),\n",
    "    StructField(\"away_team_history_opponent_goal_6\", DoubleType(), True),\n",
    "    StructField(\"away_team_history_opponent_goal_7\", DoubleType(), True),\n",
    "    StructField(\"away_team_history_opponent_goal_8\", DoubleType(), True),\n",
    "    StructField(\"away_team_history_opponent_goal_9\", DoubleType(), True),\n",
    "    StructField(\"away_team_history_opponent_goal_10\", DoubleType(), True),\n",
    "    StructField(\"away_team_history_rating_1\", DoubleType(), True),\n",
    "    StructField(\"away_team_history_rating_2\", DoubleType(), True),\n",
    "    StructField(\"away_team_history_rating_3\", DoubleType(), True),\n",
    "    StructField(\"away_team_history_rating_4\", DoubleType(), True),\n",
    "    StructField(\"away_team_history_rating_5\", DoubleType(), True),\n",
    "    StructField(\"away_team_history_rating_6\", DoubleType(), True),\n",
    "    StructField(\"away_team_history_rating_7\", DoubleType(), True),\n",
    "    StructField(\"away_team_history_rating_8\", DoubleType(), True),\n",
    "    StructField(\"away_team_history_rating_9\", DoubleType(), True),\n",
    "    StructField(\"away_team_history_rating_10\", DoubleType(), True),\n",
    "    StructField(\"away_team_history_opponent_rating_1\", DoubleType(), True),\n",
    "    StructField(\"away_team_history_opponent_rating_2\", DoubleType(), True),\n",
    "    StructField(\"away_team_history_opponent_rating_3\", DoubleType(), True),\n",
    "    StructField(\"away_team_history_opponent_rating_4\", DoubleType(), True),\n",
    "    StructField(\"away_team_history_opponent_rating_5\", DoubleType(), True),\n",
    "    StructField(\"away_team_history_opponent_rating_6\", DoubleType(), True),\n",
    "    StructField(\"away_team_history_opponent_rating_7\", DoubleType(), True),\n",
    "    StructField(\"away_team_history_opponent_rating_8\", DoubleType(), True),\n",
    "    StructField(\"away_team_history_opponent_rating_9\", DoubleType(), True),\n",
    "    StructField(\"away_team_history_opponent_rating_10\", DoubleType(), True),\n",
    "    StructField(\"away_team_history_coach_1\", DoubleType(), True),\n",
    "    StructField(\"away_team_history_coach_2\", DoubleType(), True),\n",
    "    StructField(\"away_team_history_coach_3\", DoubleType(), True),\n",
    "    StructField(\"away_team_history_coach_4\", DoubleType(), True),\n",
    "    StructField(\"away_team_history_coach_5\", DoubleType(), True),\n",
    "    StructField(\"away_team_history_coach_6\", DoubleType(), True),\n",
    "    StructField(\"away_team_history_coach_7\", DoubleType(), True),\n",
    "    StructField(\"away_team_history_coach_8\", DoubleType(), True),\n",
    "    StructField(\"away_team_history_coach_9\", DoubleType(), True),\n",
    "    StructField(\"away_team_history_coach_10\", DoubleType(), True),\n",
    "    StructField(\"away_team_history_league_id_1\", DoubleType(), True),\n",
    "    StructField(\"away_team_history_league_id_2\", DoubleType(), True),\n",
    "    StructField(\"away_team_history_league_id_3\", DoubleType(), True),\n",
    "    StructField(\"away_team_history_league_id_4\", DoubleType(), True),\n",
    "    StructField(\"away_team_history_league_id_5\", DoubleType(), True),\n",
    "    StructField(\"away_team_history_league_id_6\", DoubleType(), True),\n",
    "    StructField(\"away_team_history_league_id_7\", DoubleType(), True),\n",
    "    StructField(\"away_team_history_league_id_8\", DoubleType(), True),\n",
    "    StructField(\"away_team_history_league_id_9\", DoubleType(), True),\n",
    "    StructField(\"away_team_history_league_id_10\", DoubleType(), True),\n",
    "])\n"
   ]
  },
  {
   "cell_type": "code",
   "execution_count": 4,
   "id": "3d6ebed0",
   "metadata": {},
   "outputs": [],
   "source": [
    "from pyspark.sql.functions import col, sum as spark_sum\n",
    "\n",
    "def remove_na_cols(df: DataFrame, threshold=0.1) -> DataFrame:\n",
    "    # Calculate the number of null values in each column\n",
    "    na_counts = df.select([\n",
    "        spark_sum(col(c).isNull().cast(\"integer\")).alias(c) for c in df.columns\n",
    "    ])\n",
    "    \n",
    "    # Calculate the total number of rows\n",
    "    total_rows = df.count()\n",
    "    \n",
    "    # Calculate the percentage of nulls for each column and filter columns to remove\n",
    "    cols_to_remove = [\n",
    "        c for c in df.columns\n",
    "        if na_counts.select(col(c)).collect()[0][0] / total_rows > threshold and c != \"target\"\n",
    "    ]\n",
    "    \n",
    "    # Drop the identified columns from the DataFrame\n",
    "    df = df.drop(*cols_to_remove)\n",
    "    \n",
    "    return df\n"
   ]
  },
  {
   "cell_type": "code",
   "execution_count": 5,
   "id": "31bdc77e",
   "metadata": {},
   "outputs": [],
   "source": [
    "def remove_redundant_col(df: DataFrame) -> DataFrame:\n",
    "    col_to_remove = \"league_name\"\n",
    "    if col_to_remove in df.columns:\n",
    "        df = df.drop(col_to_remove)\n",
    "    return df\n"
   ]
  },
  {
   "cell_type": "code",
   "execution_count": 6,
   "id": "73effdb2",
   "metadata": {},
   "outputs": [],
   "source": [
    "def convert_target(df):\n",
    "    \"\"\"\n",
    "    Convert a column of 3 possible string values to numerical values (0, 1, 2) in a Spark DataFrame.\n",
    "\n",
    "    Parameters:\n",
    "    - df: Spark DataFrame containing the data.\n",
    "    - column_name: Name of the column to be converted.\n",
    "\n",
    "    Returns:\n",
    "    - Spark DataFrame with the original column replaced by numerical values (0, 1, 2).\n",
    "    \"\"\"\n",
    "    # Use when() and otherwise() functions to create conditional transformations\n",
    "    df = df.withColumn(\"target\" + \"_numeric\",\n",
    "                       when(col(\"target\") == \"home\", 0)\n",
    "                       .when(col(\"target\") == \"draw\", 1)\n",
    "                       .when(col(\"target\") == \"away\", 1)\n",
    "                       .otherwise(None))\n",
    "\n",
    "    # Drop the original string column\n",
    "    df = df.drop(\"target\")\n",
    "\n",
    "    # Rename the new column to the original column name\n",
    "    df = df.withColumnRenamed(\"target\" + \"_numeric\", \"target\")\n",
    "\n",
    "    return df"
   ]
  },
  {
   "cell_type": "code",
   "execution_count": 7,
   "id": "3355918f",
   "metadata": {},
   "outputs": [],
   "source": [
    "def divide_columns(columns):\n",
    "    numerical_cols = []\n",
    "    categorical_cols = []\n",
    "\n",
    "    for col_name, col_type in columns:\n",
    "        if col_type in ['int', 'double']:\n",
    "            numerical_cols.append((col_name))\n",
    "        elif col_type in ['timestamp', 'string','boolean']:\n",
    "            categorical_cols.append((col_name))\n",
    "        else:\n",
    "            raise ValueError(f\"Unsupported column type: {col_type}\")\n",
    "\n",
    "    return numerical_cols, categorical_cols\n",
    "\n",
    "\n"
   ]
  },
  {
   "cell_type": "code",
   "execution_count": 8,
   "id": "afab4139",
   "metadata": {},
   "outputs": [],
   "source": [
    "\n",
    "def divide_columns(dtypes):\n",
    "    numerical_cols = [c for c, t in dtypes if t in ('int', 'bigint', 'float', 'double', 'decimal')]\n",
    "    categorical_cols = [c for c, t in dtypes if t in ('string', 'binary')]\n",
    "    return numerical_cols, categorical_cols\n",
    "\n",
    "def fill_na(df: DataFrame) -> DataFrame:\n",
    "    # Determine numerical and categorical columns\n",
    "    numerical_cols, categorical_cols = divide_columns(df.dtypes)\n",
    "    \n",
    "    # Calculate mean values for numerical columns\n",
    "    mean_values = df.select(*[F.mean(F.col(c)).alias(c) for c in numerical_cols]).collect()[0].asDict()\n",
    "    \n",
    "    # Fill numerical columns with mean\n",
    "    for col in numerical_cols:\n",
    "        mean_value = mean_values[col]\n",
    "        df = df.fillna({col: mean_value})\n",
    "\n",
    "    # Fill categorical columns with previous non-null value (ffill)\n",
    "    # Use a window spec for forward fill\n",
    "    window = Window.partitionBy(partition_col).orderBy(F.monotonically_increasing_id()).rowsBetween(Window.unboundedPreceding, Window.currentRow)\n",
    "    for col in categorical_cols:\n",
    "        df = df.withColumn(col, F.last(col, ignorenulls=True).over(window))\n",
    "\n",
    "    return df\n"
   ]
  },
  {
   "cell_type": "code",
   "execution_count": 9,
   "id": "ce4c03a8",
   "metadata": {},
   "outputs": [],
   "source": [
    "def combine_history(df):\n",
    "    \n",
    "    # Combine columns into a single column\n",
    "    df['combined_history'] = df.apply(lambda row: ','.join([str(row[f'home_team_history_is_play_home_{i+1}']) for i in range(10)]), axis=1)\n",
    "    # Drop original columns if needed\n",
    "    df = df.drop(columns=[f'home_team_history_is_play_home_{i+1}' for i in range(10)])\n"
   ]
  },
  {
   "cell_type": "markdown",
   "id": "7f8ba63e",
   "metadata": {},
   "source": [
    "\n",
    "## create new features\n"
   ]
  },
  {
   "cell_type": "code",
   "execution_count": 10,
   "id": "83c3eb95",
   "metadata": {},
   "outputs": [],
   "source": [
    "def is_cup_conversion(df):\n",
    "    '''convert is_cup column from boolean to 0/1'''\n",
    "    \n",
    "    # Convert boolean to integer (0 or 1)\n",
    "    df = df.withColumn(\"is_cup\", F.when(F.col(\"is_cup\"), 1).otherwise(0))\n",
    "    \n",
    "    # Fill missing values with 0 (assuming missing values are False or non-cup games)\n",
    "    df = df.withColumn(\"is_cup\", F.coalesce(F.col(\"is_cup\"), F.lit(0)))\n",
    "    \n",
    "    return df\n"
   ]
  },
  {
   "cell_type": "code",
   "execution_count": 11,
   "id": "45c94fb7",
   "metadata": {},
   "outputs": [],
   "source": [
    "def convert_dates_to_numerical(df):\n",
    "    # Iterate over all columns and convert 'date' columns to numerical\n",
    "    for col_name, col_type in df.dtypes:\n",
    "        if col_type == \"timestamp\":\n",
    "\n",
    "            df = df.withColumn(col_name , \n",
    "                          df[col_name].cast(FloatType()))\n",
    "    return df"
   ]
  },
  {
   "cell_type": "code",
   "execution_count": 12,
   "id": "bcf22219",
   "metadata": {},
   "outputs": [],
   "source": [
    "def string_to_onehot_encode_column(df: DataFrame):\n",
    "    columns_to_replace = []\n",
    "    for col_name, col_type in df.dtypes:\n",
    "        if col_type == 'string':\n",
    "            columns_to_replace.append(col_name)\n",
    "    \n",
    "    # StringIndexer to convert categorical values to indices\n",
    "    index_cols = [col + \"_index\" for col in columns_to_replace]\n",
    "    string_indexer = StringIndexer(inputCols=columns_to_replace, outputCols=index_cols,handleInvalid=\"keep\")\n",
    "    model = string_indexer.fit(df)\n",
    "    df_indexed = model.transform(df)\n",
    "\n",
    "    new_column_names = [\"converted_\" + col for col in columns_to_replace]\n",
    "        \n",
    "    encoder = OneHotEncoder(inputCols=index_cols, outputCols=new_column_names)\n",
    "    \n",
    "    encoded = encoder.fit(df_indexed).transform(df_indexed)\n",
    "    \n",
    "    # Drop the original columns and index columns\n",
    "    encoded = encoded.drop(*columns_to_replace)\n",
    "    encoded = encoded.drop(*index_cols)\n",
    "    \n",
    "    return encoded"
   ]
  },
  {
   "cell_type": "code",
   "execution_count": 13,
   "id": "250bbbf5",
   "metadata": {},
   "outputs": [],
   "source": [
    "\n",
    "def add_features(df):\n",
    "    \n",
    "    \n",
    "    for i in range(1, 11):  # range from 1 to 10\n",
    "        # Date differences\n",
    "        df = df.withColumn(\n",
    "            f'home_team_history_match_DIFF_days_{i}',\n",
    "            F.datediff(F.col('match_date'), F.col(f'home_team_history_match_date_{i}'))\n",
    "        )\n",
    "        df = df.withColumn(\n",
    "            f'away_team_history_match_DIFF_days_{i}',\n",
    "            F.datediff(F.col('match_date'), F.col(f'away_team_history_match_date_{i}'))\n",
    "        )\n",
    "        \n",
    "        # Goal differences\n",
    "        df = df.withColumn(\n",
    "            f'home_team_history_DIFF_goal_{i}',\n",
    "            F.col(f'home_team_history_goal_{i}') - F.col(f'home_team_history_opponent_goal_{i}')\n",
    "        )\n",
    "        df = df.withColumn(\n",
    "            f'away_team_history_DIFF_goal_{i}',\n",
    "            F.col(f'away_team_history_goal_{i}') - F.col(f'away_team_history_opponent_goal_{i}')\n",
    "        )\n",
    "        \n",
    "        # Match results based on goal differences\n",
    "        df = df.withColumn(\n",
    "            f'home_team_result_{i}',\n",
    "            F.when(F.col(f'home_team_history_DIFF_goal_{i}') > 0, 2)\n",
    "            .when(F.col(f'home_team_history_DIFF_goal_{i}') == 0, 1)\n",
    "            .otherwise(F.when(F.col(f'home_team_history_DIFF_goal_{i}').isNull(), None).otherwise(0))\n",
    "        )\n",
    "        df = df.withColumn(\n",
    "            f'away_team_result_{i}',\n",
    "            F.when(F.col(f'away_team_history_DIFF_goal_{i}') > 0, 2)\n",
    "            .when(F.col(f'away_team_history_DIFF_goal_{i}') == 0, 1)\n",
    "            .otherwise(F.when(F.col(f'away_team_history_DIFF_goal_{i}').isNull(), None).otherwise(0))\n",
    "        )\n",
    "        \n",
    "        # Same coach id\n",
    "        df = df.withColumn(\n",
    "            f'home_team_history_SAME_coaX_{i}',\n",
    "            F.when(F.col('home_team_coach_id') == F.col(f'home_team_history_coach_{i}'), 1).otherwise(0)\n",
    "        )\n",
    "        df = df.withColumn(\n",
    "            f'away_team_history_SAME_coaX_{i}',\n",
    "            F.when(F.col('away_team_coach_id') == F.col(f'away_team_history_coach_{i}'), 1).otherwise(0)\n",
    "        )\n",
    "        \n",
    "        # Same league id\n",
    "        df = df.withColumn(\n",
    "            f'home_team_history_SAME_leaG_{i}',\n",
    "            F.when(F.col('league_id') == F.col(f'home_team_history_league_id_{i}'), 1).otherwise(0)\n",
    "        )\n",
    "        df = df.withColumn(\n",
    "            f'away_team_history_SAME_leaG_{i}',\n",
    "            F.when(F.col('league_id') == F.col(f'away_team_history_league_id_{i}'), 1).otherwise(0)\n",
    "        )\n",
    "    \n",
    "    return df\n"
   ]
  },
  {
   "cell_type": "code",
   "execution_count": 14,
   "id": "8244f573",
   "metadata": {},
   "outputs": [],
   "source": [
    "\n",
    "def average_goals_in_history(df):\n",
    "    # List of historical goal columns\n",
    "    home_goals_cols = [f\"home_team_history_goal_{i}\" for i in range(1, 11)]\n",
    "    opponent_goals_cols = [f\"home_team_history_opponent_goal_{i}\" for i in range(1, 11)]\n",
    "    \n",
    "    # Calculate the goal differences for each match\n",
    "    goal_diffs = [F.col(home_goals_cols[i]) - F.col(opponent_goals_cols[i]) for i in range(len(home_goals_cols))]\n",
    "    \n",
    "    # Calculate the sum of goal differences\n",
    "    goal_diff_sum = sum(goal_diffs)\n",
    "    \n",
    "    # Number of matches\n",
    "    num_matches = len(goal_diffs)\n",
    "    \n",
    "    # Calculate the average goal difference\n",
    "    avg_goal_diff = goal_diff_sum / num_matches\n",
    "    \n",
    "    # Add new column to DataFrame\n",
    "    df = df.withColumn(\"avg_goal_diff\", avg_goal_diff.cast(\"double\"))\n",
    "    \n",
    "    return df\n"
   ]
  },
  {
   "cell_type": "code",
   "execution_count": 15,
   "id": "71d233eb",
   "metadata": {},
   "outputs": [],
   "source": [
    "\n",
    "def average_goals_home_away(df):\n",
    "    # List of historical goal columns\n",
    "    home_goals_cols = [f\"home_team_history_goal_{i}\" for i in range(1, 11)]\n",
    "    away_goals_cols = [f\"away_team_history_goal_{i}\" for i in range(1, 11)]\n",
    "    \n",
    "    # Calculate the sum of home goals\n",
    "    home_goals_sum = sum(F.col(col) for col in home_goals_cols)\n",
    "    away_goals_sum = sum(F.col(col) for col in away_goals_cols)\n",
    "    \n",
    "    # Number of home and away goals columns\n",
    "    num_home_goals = len(home_goals_cols)\n",
    "    num_away_goals = len(away_goals_cols)\n",
    "    \n",
    "    # Calculate the average goals\n",
    "    avg_home_goals = home_goals_sum / num_home_goals\n",
    "    avg_away_goals = away_goals_sum / num_away_goals\n",
    "    \n",
    "    # Add new columns to DataFrame\n",
    "    df = df.withColumn(\"avg_home_goals\", avg_home_goals.cast(\"double\")) \\\n",
    "           .withColumn(\"avg_away_goals\", avg_away_goals.cast(\"double\"))\n",
    "    \n",
    "    return df\n"
   ]
  },
  {
   "cell_type": "code",
   "execution_count": 16,
   "id": "eb2fb0d8",
   "metadata": {},
   "outputs": [],
   "source": [
    "\n",
    "def count_coach_changes(df):\n",
    "    # List of historical coach columns for home and away teams\n",
    "    home_coach_cols = [f\"home_team_history_coach_{i}\" for i in range(1, 11)]\n",
    "    away_coach_cols = [f\"away_team_history_coach_{i}\" for i in range(1, 11)]\n",
    "    \n",
    "    def count_changes(coach_cols):\n",
    "        # Generate a list of conditions to check for coach changes\n",
    "        conditions = [\n",
    "            (F.col(coach_cols[i]) != F.col(coach_cols[i - 1])).cast(\"int\")\n",
    "            for i in range(1, len(coach_cols))\n",
    "        ]\n",
    "        # Sum the conditions to get the number of coach changes\n",
    "        return sum(conditions)\n",
    "    \n",
    "    # Count the coach changes\n",
    "    home_coach_changes = count_changes(home_coach_cols)\n",
    "    away_coach_changes = count_changes(away_coach_cols)\n",
    "    \n",
    "    # Add new columns to DataFrame\n",
    "    df = df.withColumn(\"home_coach_changes\", home_coach_changes) \\\n",
    "           .withColumn(\"away_coach_changes\", away_coach_changes)\n",
    "    \n",
    "    return df\n"
   ]
  },
  {
   "cell_type": "code",
   "execution_count": 17,
   "id": "c3acee78",
   "metadata": {},
   "outputs": [],
   "source": [
    "\n",
    "def league_change(df):\n",
    "    # List of historical league columns for home and away teams\n",
    "    home_league_cols = [f\"home_team_history_league_id_{i}\" for i in range(1, 11)]\n",
    "    away_league_cols = [f\"away_team_history_league_id_{i}\" for i in range(1, 11)]\n",
    "    \n",
    "    # Define a function to calculate league changes\n",
    "    def calculate_league_changes(league_cols):\n",
    "        changes = []\n",
    "        for i in range(1, len(league_cols)):\n",
    "            current_col = F.col(league_cols[i])\n",
    "            previous_col = F.lag(F.col(league_cols[i]), 1).over(windowSpec)\n",
    "            change = F.when(current_col != previous_col, 1).otherwise(0)\n",
    "            changes.append(change)\n",
    "        # Sum the changes to get the total count\n",
    "        return sum(changes)\n",
    "    \n",
    "    # Calculate league changes\n",
    "    home_league_changes = calculate_league_changes(home_league_cols)\n",
    "    away_league_changes = calculate_league_changes(away_league_cols)\n",
    "    \n",
    "    # Add new columns to DataFrame\n",
    "    df = df.withColumn(\"home_league_changed\", home_league_changes) \\\n",
    "           .withColumn(\"away_league_changed\", away_league_changes)\n",
    "    \n",
    "    return df\n"
   ]
  },
  {
   "cell_type": "code",
   "execution_count": 18,
   "id": "ebedc636",
   "metadata": {},
   "outputs": [],
   "source": [
    "\n",
    "def remove_columns_ending_with_number(df):\n",
    "    # Get all columns\n",
    "    columns = df.columns\n",
    "\n",
    "    # Filter columns that do not end with a number\n",
    "    filtered_columns = [col for col in columns if not col[-1].isdigit()]\n",
    "\n",
    "    # Select only the filtered columns\n",
    "    df_filtered = df.select(*filtered_columns)\n",
    "    \n",
    "    return df_filtered"
   ]
  },
  {
   "cell_type": "code",
   "execution_count": 19,
   "id": "fc12fbe5",
   "metadata": {},
   "outputs": [],
   "source": [
    "\n",
    "def sumerize_features(df):\n",
    "    # Helper function to calculate the total and count for conditional columns\n",
    "    def calculate_avg(col_prefix, num_columns):\n",
    "        goals_expr = ' + '.join([f'CASE WHEN {col_prefix}_is_cup_{i} = 1 THEN {col_prefix}_goal_{i} ELSE 0 END' for i in range(1, num_columns + 1)])\n",
    "        count_expr = ' + '.join([f'CASE WHEN {col_prefix}_is_cup_{i} = 1 THEN 1 ELSE 0 END' for i in range(1, num_columns + 1)])\n",
    "        total_goals_col = F.expr(goals_expr).alias(f'total_{col_prefix}_goals')\n",
    "        count_goals_col = F.expr(count_expr).alias(f'count_{col_prefix}_goals')\n",
    "        return total_goals_col, count_goals_col\n",
    "\n",
    "    # Sum of home team SAME_coaX values\n",
    "    home_coax_cols = [f'home_team_history_SAME_coaX_{i}' for i in range(1, 11)]\n",
    "    df = df.withColumn('sum_home_team_SAME_coaX', reduce(lambda a, b: a + b, (F.col(c) for c in home_coax_cols)))\n",
    "\n",
    "    # Sum of away team SAME_coaX values\n",
    "    away_coax_cols = [f'away_team_history_SAME_coaX_{i}' for i in range(1, 11)]\n",
    "    df = df.withColumn('sum_away_team_SAME_coaX', reduce(lambda a, b: a + b, (F.col(c) for c in away_coax_cols)))\n",
    "\n",
    "    # Sum of both home and away team SAME_coaX\n",
    "    df = df.withColumn('sum_coaX', F.col('sum_home_team_SAME_coaX') + F.col('sum_away_team_SAME_coaX'))\n",
    "    \n",
    "    # Sum of home team SAME_leaG values\n",
    "    home_leag_cols = [f'home_team_history_SAME_leaG_{i}' for i in range(1, 11)]\n",
    "    df = df.withColumn('sum_home_team_SAME_leaG', reduce(lambda a, b: a + b, (F.col(c) for c in home_leag_cols)))\n",
    "\n",
    "    # Sum of away team SAME_leaG values\n",
    "    away_leag_cols = [f'away_team_history_SAME_leaG_{i}' for i in range(1, 11)]\n",
    "    df = df.withColumn('sum_away_team_SAME_leaG', reduce(lambda a, b: a + b, (F.col(c) for c in away_leag_cols)))\n",
    "\n",
    "    # Sum of both home and away team SAME_leaG\n",
    "    df = df.withColumn('sum_leaG', F.col('sum_home_team_SAME_leaG') + F.col('sum_away_team_SAME_leaG'))\n",
    "\n",
    "    # Average calculations\n",
    "    num_history_games = 10\n",
    "\n",
    "    # Home team cup games\n",
    "    home_total_goals_col, home_count_col = calculate_avg('home_team_history', num_history_games)\n",
    "    df = df.withColumn('total_home_team_cup_goals', home_total_goals_col)\n",
    "    df = df.withColumn('count_home_team_cup_games', home_count_col)\n",
    "    df = df.withColumn('avg_home_team_cup_games', F.col('total_home_team_cup_goals') / F.col('count_home_team_cup_games'))\n",
    "\n",
    "    # Away team cup games\n",
    "    away_total_goals_col, away_count_col = calculate_avg('away_team_history', num_history_games)\n",
    "    df = df.withColumn('total_away_team_cup_goals', away_total_goals_col)\n",
    "    df = df.withColumn('count_away_team_cup_games', away_count_col)\n",
    "    df = df.withColumn('avg_away_team_cup_games', F.col('total_away_team_cup_goals') / F.col('count_away_team_cup_games'))\n",
    "\n",
    "    # Home team goals at home\n",
    "    df = df.withColumn('total_home_team_goals_at_home',\n",
    "                       F.expr(' + '.join([f'CASE WHEN home_team_history_match_date_{i} IS NOT NULL AND home_team_history_is_play_home_{i} = 1 THEN home_team_history_goal_{i} ELSE 0 END' for i in range(1, 11)]))\n",
    "                      )\n",
    "    df = df.withColumn('count_home_team_goals_at_home',\n",
    "                       F.expr(' + '.join([f'CASE WHEN home_team_history_match_date_{i} IS NOT NULL AND home_team_history_is_play_home_{i} = 1 THEN 1 ELSE 0 END' for i in range(1, 11)]))\n",
    "                      )\n",
    "    df = df.withColumn('avg_home_team_goals_at_home', F.col('total_home_team_goals_at_home') / F.col('count_home_team_goals_at_home'))\n",
    "\n",
    "    # Home team goals away\n",
    "    df = df.withColumn('total_home_team_goals_at_away',\n",
    "                       F.expr(' + '.join([f'CASE WHEN home_team_history_match_date_{i} IS NOT NULL AND home_team_history_is_play_home_{i} = 0 THEN home_team_history_goal_{i} ELSE 0 END' for i in range(1, 11)]))\n",
    "                      )\n",
    "    df = df.withColumn('count_home_team_goals_at_away',\n",
    "                       F.expr(' + '.join([f'CASE WHEN home_team_history_match_date_{i} IS NOT NULL AND home_team_history_is_play_home_{i} = 0 THEN 1 ELSE 0 END' for i in range(1, 11)]))\n",
    "                      )\n",
    "    df = df.withColumn('avg_home_team_goals_at_away', F.col('total_home_team_goals_at_away') / F.col('count_home_team_goals_at_away'))\n",
    "\n",
    "    # Away team goals at home\n",
    "    df = df.withColumn('total_away_team_goals_at_home',\n",
    "                       F.expr(' + '.join([f'CASE WHEN away_team_history_match_date_{i} IS NOT NULL AND away_team_history_is_play_home_{i} = 1 THEN away_team_history_goal_{i} ELSE 0 END' for i in range(1, 11)]))\n",
    "                      )\n",
    "    df = df.withColumn('count_away_team_goals_at_home',\n",
    "                       F.expr(' + '.join([f'CASE WHEN away_team_history_match_date_{i} IS NOT NULL AND away_team_history_is_play_home_{i} = 1 THEN 1 ELSE 0 END' for i in range(1, 11)]))\n",
    "                      )\n",
    "    df = df.withColumn('avg_away_team_goals_at_home', F.col('total_away_team_goals_at_home') / F.col('count_away_team_goals_at_home'))\n",
    "\n",
    "    # Away team goals away\n",
    "    df = df.withColumn('total_away_team_goals_at_away',\n",
    "                       F.expr(' + '.join([f'CASE WHEN away_team_history_match_date_{i} IS NOT NULL AND away_team_history_is_play_home_{i} = 0 THEN away_team_history_goal_{i} ELSE 0 END' for i in range(1, 11)]))\n",
    "                      )\n",
    "    df = df.withColumn('count_away_team_goals_at_away',\n",
    "                       F.expr(' + '.join([f'CASE WHEN away_team_history_match_date_{i} IS NOT NULL AND away_team_history_is_play_home_{i} = 0 THEN 1 ELSE 0 END' for i in range(1, 11)]))\n",
    "                      )\n",
    "    df = df.withColumn('avg_away_team_goals_at_away', F.col('total_away_team_goals_at_away') / F.col('count_away_team_goals_at_away'))\n",
    "\n",
    "    return df\n"
   ]
  },
  {
   "cell_type": "markdown",
   "id": "48ad7a42",
   "metadata": {},
   "source": [
    "\n",
    "## preprocession the data\n"
   ]
  },
  {
   "cell_type": "code",
   "execution_count": 20,
   "id": "14c12036",
   "metadata": {},
   "outputs": [],
   "source": [
    "def preprocession(df):\n",
    "    df = convert_target(df)\n",
    "    df = add_features(df)\n",
    "    print(\"added features\")\n",
    "    df = average_goals_in_history(df)\n",
    "    df = average_goals_home_away(df)\n",
    "    df = count_coach_changes(df)\n",
    "    df = league_change(df)\n",
    "    df = fill_na(df)\n",
    "    print(\"fill NA in cols\")\n",
    "    df = is_cup_conversion(df)\n",
    "    df = convert_dates_to_numerical(df)\n",
    "    df = string_to_onehot_encode_column(df)\n",
    "    print(\"convert string cols\")\n",
    "    df = sumerize_features(df)\n",
    "    print(\"sumerize features\")\n",
    "    df = remove_columns_ending_with_number(df)\n",
    "    df = remove_na_cols(df)\n",
    "    df = remove_redundant_col(df)\n",
    "    print(\"remove redundant features\")\n",
    "    df = fill_na(df)\n",
    "    \"\"\"add normalization\"\"\"\n",
    "    return df"
   ]
  },
  {
   "cell_type": "markdown",
   "id": "6918a60a",
   "metadata": {},
   "source": [
    "\n",
    "### will take some time\n"
   ]
  },
  {
   "cell_type": "code",
   "execution_count": 21,
   "id": "db958c9f",
   "metadata": {
    "scrolled": true
   },
   "outputs": [],
   "source": [
    "# p_train_df = preprocession(train_df)"
   ]
  },
  {
   "cell_type": "code",
   "execution_count": 22,
   "id": "f1e22da3",
   "metadata": {},
   "outputs": [],
   "source": [
    "#p_train_df.dtypes"
   ]
  },
  {
   "cell_type": "code",
   "execution_count": 23,
   "id": "6ea85100",
   "metadata": {
    "scrolled": true
   },
   "outputs": [],
   "source": [
    "#p_train_df.show(1)"
   ]
  },
  {
   "cell_type": "code",
   "execution_count": null,
   "id": "0f53c392",
   "metadata": {},
   "outputs": [],
   "source": []
  },
  {
   "cell_type": "markdown",
   "id": "7a22ffe9",
   "metadata": {},
   "source": [
    "\n",
    "# models\n"
   ]
  },
  {
   "cell_type": "code",
   "execution_count": null,
   "id": "2026803b",
   "metadata": {},
   "outputs": [],
   "source": []
  },
  {
   "cell_type": "code",
   "execution_count": 24,
   "id": "1aab9706",
   "metadata": {},
   "outputs": [],
   "source": [
    "\n",
    "def vectorAssembler(df):\n",
    "    # Prepare feature vector\n",
    "    numerical_cols, categorical_cols = divide_columns(df.dtypes)\n",
    "    numerical_cols.remove(\"target\")\n",
    "\n",
    "    assembler = VectorAssembler(inputCols=numerical_cols ,outputCol=\"features\")\n",
    "    train_df_features = assembler.transform(df)\n",
    "\n",
    "    # Split data into training and test sets\n",
    "    (trainingData, testData) = train_df_features.randomSplit([0.7, 0.3])\n",
    "    return numerical_cols, categorical_cols, train_df_features, trainingData, testData\n"
   ]
  },
  {
   "cell_type": "code",
   "execution_count": null,
   "id": "f3dee4c1",
   "metadata": {},
   "outputs": [],
   "source": []
  },
  {
   "cell_type": "markdown",
   "id": "0baf310d",
   "metadata": {},
   "source": [
    "\n",
    "## Gradient Boosted Trees (GBTs)\n"
   ]
  },
  {
   "cell_type": "code",
   "execution_count": 25,
   "id": "028b347d",
   "metadata": {
    "scrolled": true
   },
   "outputs": [],
   "source": [
    "from pyspark.ml.classification import GBTClassifier\n",
    "from pyspark.ml.evaluation import MulticlassClassificationEvaluator\n",
    "\n",
    "def GBT_pred(trainingData, testData, GBT_List, count):\n",
    "    \"\"\"\n",
    "    Train and evaluate a Gradient Boosted Tree (GBT) classifier on the given data.\n",
    "\n",
    "    Args:\n",
    "    trainingData (DataFrame): The training data for the model.\n",
    "    testData (DataFrame): The test data for making predictions.\n",
    "    GBT_List (list): A list to append results to, where each result is a tuple (count, accuracy).\n",
    "    count (int): An identifier or index for this particular model run.\n",
    "\n",
    "    Returns:\n",
    "    None\n",
    "    \"\"\"\n",
    "    \n",
    "    # Initialize GBTClassifier\n",
    "    gbt = GBTClassifier(\n",
    "        featuresCol=\"features\", \n",
    "        labelCol=\"target\", \n",
    "        predictionCol=\"prediction\"\n",
    "    )\n",
    "\n",
    "    # Train the model\n",
    "    model = gbt.fit(trainingData)\n",
    "\n",
    "    # Make predictions\n",
    "    predictions = model.transform(testData)\n",
    "\n",
    "    # Initialize evaluator for classification\n",
    "    evaluator = MulticlassClassificationEvaluator(\n",
    "        labelCol=\"target\",\n",
    "        predictionCol=\"prediction\",\n",
    "        metricName=\"accuracy\"\n",
    "    )\n",
    "\n",
    "    # Calculate accuracy on test data\n",
    "    accuracy = evaluator.evaluate(predictions)\n",
    "    print(f\"Accuracy on test data: {accuracy}\")\n",
    "\n",
    "    # Append results to list\n",
    "    GBT_List.append((count, accuracy))\n"
   ]
  },
  {
   "cell_type": "markdown",
   "id": "a056e651",
   "metadata": {},
   "source": [
    "\n",
    "## Random Forests\n"
   ]
  },
  {
   "cell_type": "code",
   "execution_count": 26,
   "id": "66afc71e",
   "metadata": {},
   "outputs": [],
   "source": [
    "\n",
    "\n",
    "def random_forest_pred(trainingData, testData, random_forest_List, count):\n",
    "\n",
    "    # Initialize RandomForestClassifier\n",
    "    rf = RandomForestClassifier(\n",
    "        featuresCol=\"features\", \n",
    "        labelCol=\"target\")\n",
    "\n",
    "    # Train model\n",
    "    model = rf.fit(trainingData)\n",
    "\n",
    "    # Make predictions\n",
    "    predictions = model.transform(testData)\n",
    "\n",
    "    # Initialize evaluator for classification\n",
    "    evaluator = MulticlassClassificationEvaluator(\n",
    "        labelCol=\"target\",\n",
    "        predictionCol=\"prediction\",\n",
    "        metricName=\"accuracy\"\n",
    "    )\n",
    "\n",
    "    # Calculate accuracy on test data\n",
    "    accuracy = evaluator.evaluate(predictions)\n",
    "    print(f\"Accuracy on test data: {accuracy}\")\n",
    "\n",
    "    # Show example predictions\n",
    "    predictions.select(\"features\", \"target\", \"prediction\").show(5)\n",
    "\n",
    "    # Append results to list\n",
    "    random_forest_List.append((count, accuracy))\n"
   ]
  },
  {
   "cell_type": "markdown",
   "id": "e2dda7b9",
   "metadata": {},
   "source": [
    "\n",
    "## Decision Tree Regression\n"
   ]
  },
  {
   "cell_type": "code",
   "execution_count": 27,
   "id": "de478ffd",
   "metadata": {},
   "outputs": [],
   "source": [
    "\n",
    "def decision_tree_pred(trainingData, testData, decision_tree_List, count):\n",
    "\n",
    "    # Initialize DecisionTreeClassifier\n",
    "    dt = DecisionTreeClassifier(featuresCol=\"features\", labelCol=\"target\")\n",
    "\n",
    "    # Train model\n",
    "    model = dt.fit(trainingData)\n",
    "\n",
    "    # Make predictions\n",
    "    predictions = model.transform(testData)\n",
    "\n",
    "    # Initialize evaluator for classification\n",
    "    evaluator = MulticlassClassificationEvaluator(\n",
    "        labelCol=\"target\",\n",
    "        predictionCol=\"prediction\",\n",
    "        metricName=\"accuracy\"\n",
    "    )\n",
    "\n",
    "    # Calculate accuracy on test data\n",
    "    accuracy = evaluator.evaluate(predictions)\n",
    "    print(f\"Accuracy on test data: {accuracy}\")\n",
    "\n",
    "    # Show example predictions\n",
    "    predictions.select(\"features\", \"target\", \"prediction\").show(5)\n",
    "\n",
    "    # Append results to list\n",
    "    decision_tree_List.append((count, accuracy))\n"
   ]
  },
  {
   "cell_type": "markdown",
   "id": "025446d9",
   "metadata": {},
   "source": [
    "\n",
    "## LinearRegression\n"
   ]
  },
  {
   "cell_type": "code",
   "execution_count": 28,
   "id": "6c5f8d26",
   "metadata": {},
   "outputs": [],
   "source": [
    "\n",
    "def Linear_regression_pred(trainingData, testData, Linear_regression_List, count):\n",
    "\n",
    "    # Initialize LogisticRegression\n",
    "    lr = LogisticRegression(featuresCol=\"features\", labelCol=\"target\")\n",
    "\n",
    "    # Train model\n",
    "    lr_model = lr.fit(trainingData)\n",
    "\n",
    "    # Make predictions\n",
    "    predictions = lr_model.transform(testData)\n",
    "\n",
    "    # Initialize evaluator for classification\n",
    "    evaluator = MulticlassClassificationEvaluator(\n",
    "        labelCol=\"target\",\n",
    "        predictionCol=\"prediction\",\n",
    "        metricName=\"accuracy\"\n",
    "    )\n",
    "\n",
    "    # Calculate accuracy on test data\n",
    "    accuracy = evaluator.evaluate(predictions)\n",
    "    print(f\"Accuracy on test data: {accuracy}\")\n",
    "\n",
    "    # Show example predictions\n",
    "    predictions.select(\"features\", \"target\", \"prediction\").show(5)\n",
    "\n",
    "    # Append results to list\n",
    "    Linear_regression_List.append((count, accuracy))\n",
    "\n"
   ]
  },
  {
   "cell_type": "markdown",
   "id": "db2bb6d5",
   "metadata": {},
   "source": [
    "\n",
    "## Support Vector Regression (SVC)\n"
   ]
  },
  {
   "cell_type": "code",
   "execution_count": 29,
   "id": "825ec39e",
   "metadata": {},
   "outputs": [],
   "source": [
    "\n",
    "def SVC_pred(trainingData, testData, SVC_List, count):\n",
    "    # Initialize LinearSVC\n",
    "    svc = LinearSVC(featuresCol=\"features\", labelCol=\"target\")\n",
    "\n",
    "    # Train model\n",
    "    svc_model = svc.fit(trainingData)\n",
    "\n",
    "    # Make predictions\n",
    "    predictions = svc_model.transform(testData)\n",
    "\n",
    "    # Initialize evaluator for classification\n",
    "    evaluator = MulticlassClassificationEvaluator(\n",
    "        labelCol=\"target\",\n",
    "        predictionCol=\"prediction\",\n",
    "        metricName=\"accuracy\"\n",
    "    )\n",
    "\n",
    "    # Calculate accuracy on test data\n",
    "    accuracy = evaluator.evaluate(predictions)\n",
    "    print(f\"Accuracy on test data: {accuracy}\")\n",
    "\n",
    "    # Show example predictions\n",
    "    predictions.select(\"features\", \"target\", \"prediction\").show(5)\n",
    "\n",
    "    # Append results to list\n",
    "    SVC_List.append((count, accuracy))\n"
   ]
  },
  {
   "cell_type": "markdown",
   "id": "9d300124",
   "metadata": {},
   "source": [
    "\n",
    "## K-Nearest Neighbors (K-NN)\n"
   ]
  },
  {
   "cell_type": "code",
   "execution_count": 30,
   "id": "070e3dc3",
   "metadata": {},
   "outputs": [],
   "source": [
    "# UDF to calculate Euclidean distance\n",
    "def euclidean_distance(vec1, vec2):\n",
    "    vec1 = np.array(vec1.toArray())\n",
    "    vec2 = np.array(vec2.toArray())\n",
    "    return float(np.sqrt(np.sum((vec1 - vec2) ** 2)))\n",
    "\n",
    "# Register the UDF\n",
    "euclidean_distance_udf = F.udf(euclidean_distance, DoubleType())\n",
    "\n",
    "def knn_pred(train_df, test_df, label_col, k, count):\n",
    "    \"\"\"\n",
    "    Perform K-Nearest Neighbors in PySpark with separate training and testing DataFrames.\n",
    "    \n",
    "    :param train_df: Training DataFrame with feature columns and a label column\n",
    "    :param test_df: Testing DataFrame with feature columns and label column\n",
    "    :param label_col: Column name of the label\n",
    "    :param k: Number of neighbors\n",
    "    :param count: Batch count or identifier for the results\n",
    "    :return: DataFrame with test data and predicted labels, and prints accuracy\n",
    "    \"\"\"\n",
    "    \n",
    "    # Perform a cross join between test and train DataFrames to compute the distance between every pair\n",
    "    cross_df = test_df.alias(\"test\").crossJoin(train_df.alias(\"train\"))\n",
    "    \n",
    "    # Rename columns to avoid ambiguity\n",
    "    cross_df = cross_df.select(\n",
    "        F.col(\"test.id\").alias(\"test_id\"),\n",
    "        F.col(\"train.id\").alias(\"train_id\"),\n",
    "        F.col(\"test.features\").alias(\"test_features\"),\n",
    "        F.col(\"train.features\").alias(\"train_features\"),\n",
    "        F.col(\"test.\" + label_col).alias(\"test_label\"),\n",
    "        F.col(\"train.\" + label_col).alias(\"train_label\")\n",
    "    )\n",
    "    \n",
    "    # Calculate the Euclidean distance between feature vectors\n",
    "    cross_df = cross_df.withColumn(\"distance\", euclidean_distance_udf(F.col(\"test_features\"), F.col(\"train_features\")))\n",
    "\n",
    "    # Rank the neighbors by distance for each test point\n",
    "    window_spec = Window.partitionBy(\"distance\").orderBy(\"distance\")\n",
    "    cross_df = cross_df.withColumn(\"rank\", F.row_number().over(window_spec))\n",
    "    \n",
    "    # Select the top k neighbors for each test point\n",
    "    knn_df = cross_df.filter(F.col(\"rank\") <= k)\n",
    "    \n",
    "    # Perform a majority vote to determine the predicted label for each test point\n",
    "    predicted_df = knn_df.groupBy(\"test_id\").agg(\n",
    "        F.first(\"test_label\").alias(\"true_label\"),\n",
    "        F.expr(f'first(train_label)').alias('predicted_label')  # Assuming single-label for simplicity\n",
    "    )\n",
    "    \n",
    "    # Calculate accuracy by comparing the true label with the predicted label\n",
    "    accuracy_df = predicted_df.withColumn(\"correct\", F.when(F.col(\"true_label\") == F.col(\"predicted_label\"), 1).otherwise(0))\n",
    "    accuracy = accuracy_df.select(F.avg(\"correct\")).first()[0] * 100\n",
    "    \n",
    "    print(f\"Accuracy: {accuracy:.2f}%\")\n",
    "    \n",
    "    # Append results to the list\n",
    "    KNN_List.append((count, accuracy/100))\n"
   ]
  },
  {
   "cell_type": "code",
   "execution_count": null,
   "id": "3199a595",
   "metadata": {},
   "outputs": [],
   "source": []
  },
  {
   "cell_type": "code",
   "execution_count": null,
   "id": "6097e908",
   "metadata": {},
   "outputs": [],
   "source": []
  },
  {
   "cell_type": "code",
   "execution_count": 31,
   "id": "e6ceff82",
   "metadata": {},
   "outputs": [],
   "source": [
    "def models_preds(df,GBT_List,\n",
    "            random_forest_List, decision_tree_List,\n",
    "            Linear_regression_List, SVC_List, KNN_List, count):\n",
    "    numerical_cols, categorical_cols, train_df_features, trainingData, testData = vectorAssembler(processed_df)\n",
    "    # Repartition data if necessary\n",
    "    trainingData = trainingData.repartition(100)\n",
    "    testData = testData.repartition(100)\n",
    "    knn_pred(trainingData, testData, \"target\", 5, count)\n",
    "    windowSpec = Window.partitionBy(partition_col).orderBy('match_date')\n",
    "\n",
    "    GBT_pred(trainingData, testData, GBT_List, count) #does not support multi-class only 0,1 not 0,1,2\n",
    "    SVC_pred(trainingData, testData, SVC_List, count) #does not support multi-class only 0,1 not 0,1,2\n",
    "    random_forest_pred(trainingData, testData, random_forest_List, count)\n",
    "    decision_tree_pred(trainingData, testData, decision_tree_List, count)\n",
    "    Linear_regression_pred(trainingData, testData, Linear_regression_List, count)\n",
    "\n",
    "    "
   ]
  },
  {
   "cell_type": "markdown",
   "id": "9926c2bc",
   "metadata": {},
   "source": [
    "## plot func"
   ]
  },
  {
   "cell_type": "code",
   "execution_count": 32,
   "id": "c42f725b",
   "metadata": {},
   "outputs": [],
   "source": [
    "def plot_model_acc(GBT_List,random_forest_List, decision_tree_List,\n",
    "                    Linear_regression_List, SVC_List):\n",
    "\n",
    "    def extract_data(data):\n",
    "        accuracies = [item[1] for item in data]\n",
    "        batch_numbers = [item[0] for item in data]\n",
    "        return batch_numbers, accuracies\n",
    "\n",
    "\n",
    "    GBT_batch, GBT_accuracy = extract_data(GBT_List)\n",
    "    random_forest_batch, random_forest_accuracy = extract_data(random_forest_List)\n",
    "    decision_tree_batch, decision_tree_accuracy = extract_data(decision_tree_List)\n",
    "    linear_regression_batch, linear_regression_accuracy = extract_data(Linear_regression_List)\n",
    "    SVC_batch, SVC_accuracy = extract_data(SVC_List)\n",
    "    KNN_batch, KNN_accuracy = extract_data(KNN_List)\n",
    "\n",
    "    # Plotting\n",
    "    plt.figure(figsize=(12, 8))\n",
    "    plt.plot(GBT_batch, GBT_accuracy, label='GBT', color='blue', marker='o')\n",
    "    plt.plot(random_forest_batch, random_forest_accuracy, label='random_forest', color='red', marker='s')\n",
    "    plt.plot(decision_tree_batch, decision_tree_accuracy, label='decision_tree', color='green', marker='^')\n",
    "    plt.plot(Linear_regression_List, linear_regression_accuracy, label='linear_regression', color='yellow', marker='*')\n",
    "    plt.plot(SVC_batch, SVC_accuracy, label='SVC', color='purple', marker='d')\n",
    "    plt.plot(KNN_batch, KNN_accuracy, label='KNN', color='orange', marker='+')\n",
    "\n",
    "    plt.xlabel('Batch Number')\n",
    "    plt.ylabel('Accuracy')\n",
    "    plt.title('Model Accuracy vs. Batch Number')\n",
    "    plt.legend()\n",
    "    plt.grid(True)\n",
    "    plt.tight_layout()  # Adjust layout to fit labels and titles\n",
    "\n",
    "    plt.show()"
   ]
  },
  {
   "cell_type": "markdown",
   "id": "e774242f",
   "metadata": {},
   "source": [
    "# kafka implementation"
   ]
  },
  {
   "cell_type": "code",
   "execution_count": 33,
   "id": "c3bf6779",
   "metadata": {},
   "outputs": [],
   "source": [
    "# Define Kafka parameters\n",
    "kafka_bootstrap_servers = 'localhost:9092'\n",
    "kafka_topic = 'Football'\n",
    "count = 0\n",
    "\n",
    "# Define your partitioning strategy based on a key column\n",
    "partition_col = 'id'  # Replace with your actual column for partitioning\n",
    "\n",
    "# Define a window specification\n",
    "windowSpec = Window.partitionBy(partition_col).orderBy('match_date')\n"
   ]
  },
  {
   "cell_type": "code",
   "execution_count": null,
   "id": "89c8875d",
   "metadata": {},
   "outputs": [],
   "source": []
  },
  {
   "cell_type": "code",
   "execution_count": null,
   "id": "f5a3223e",
   "metadata": {},
   "outputs": [],
   "source": []
  },
  {
   "cell_type": "code",
   "execution_count": 34,
   "id": "85d3e399",
   "metadata": {},
   "outputs": [
    {
     "name": "stderr",
     "output_type": "stream",
     "text": [
      "24/08/21 20:29:15 WARN SparkStringUtils: Truncated the string representation of a plan since it was too large. This behavior can be adjusted by setting 'spark.sql.debug.maxToStringFields'.\n"
     ]
    },
    {
     "name": "stdout",
     "output_type": "stream",
     "text": [
      "added features\n"
     ]
    },
    {
     "name": "stderr",
     "output_type": "stream",
     "text": [
      "                                                                                \r"
     ]
    },
    {
     "name": "stdout",
     "output_type": "stream",
     "text": [
      "fill NA in cols\n"
     ]
    },
    {
     "name": "stderr",
     "output_type": "stream",
     "text": [
      "                                                                                \r"
     ]
    },
    {
     "name": "stdout",
     "output_type": "stream",
     "text": [
      "convert string cols\n",
      "sumerize features\n"
     ]
    },
    {
     "name": "stderr",
     "output_type": "stream",
     "text": [
      "                                                                                \r"
     ]
    },
    {
     "name": "stdout",
     "output_type": "stream",
     "text": [
      "remove redundant features\n"
     ]
    },
    {
     "name": "stderr",
     "output_type": "stream",
     "text": [
      "24/08/21 20:34:33 WARN DAGScheduler: Broadcasting large task binary with size 1117.0 KiB\n",
      "24/08/21 20:35:34 WARN DAGScheduler: Broadcasting large task binary with size 1129.7 KiB\n",
      "24/08/21 20:35:36 WARN DAGScheduler: Broadcasting large task binary with size 1136.1 KiB\n",
      "                                                                                \r"
     ]
    },
    {
     "name": "stdout",
     "output_type": "stream",
     "text": [
      "Accuracy: 51.10%\n"
     ]
    },
    {
     "name": "stderr",
     "output_type": "stream",
     "text": [
      "24/08/21 20:36:50 WARN DAGScheduler: Broadcasting large task binary with size 1000.4 KiB\n",
      "24/08/21 20:36:50 WARN DAGScheduler: Broadcasting large task binary with size 1002.6 KiB\n",
      "24/08/21 20:36:52 WARN DAGScheduler: Broadcasting large task binary with size 1004.8 KiB\n",
      "24/08/21 20:36:52 WARN DAGScheduler: Broadcasting large task binary with size 1005.3 KiB\n",
      "24/08/21 20:36:53 WARN DAGScheduler: Broadcasting large task binary with size 1006.0 KiB\n",
      "24/08/21 20:36:54 WARN DAGScheduler: Broadcasting large task binary with size 1007.0 KiB\n",
      "24/08/21 20:36:55 WARN DAGScheduler: Broadcasting large task binary with size 1009.0 KiB\n",
      "24/08/21 20:36:56 WARN DAGScheduler: Broadcasting large task binary with size 1011.2 KiB\n",
      "24/08/21 20:36:57 WARN DAGScheduler: Broadcasting large task binary with size 1011.6 KiB\n",
      "24/08/21 20:36:58 WARN DAGScheduler: Broadcasting large task binary with size 1012.4 KiB\n",
      "24/08/21 20:36:59 WARN DAGScheduler: Broadcasting large task binary with size 1013.1 KiB\n",
      "24/08/21 20:37:00 WARN DAGScheduler: Broadcasting large task binary with size 1014.8 KiB\n",
      "24/08/21 20:37:01 WARN DAGScheduler: Broadcasting large task binary with size 1016.7 KiB\n",
      "24/08/21 20:37:02 WARN DAGScheduler: Broadcasting large task binary with size 1017.2 KiB\n",
      "24/08/21 20:37:03 WARN DAGScheduler: Broadcasting large task binary with size 1017.9 KiB\n",
      "24/08/21 20:37:03 WARN DAGScheduler: Broadcasting large task binary with size 1018.8 KiB\n",
      "24/08/21 20:37:04 WARN DAGScheduler: Broadcasting large task binary with size 1020.8 KiB\n",
      "24/08/21 20:37:05 WARN DAGScheduler: Broadcasting large task binary with size 1023.3 KiB\n",
      "24/08/21 20:37:06 WARN DAGScheduler: Broadcasting large task binary with size 1023.8 KiB\n",
      "24/08/21 20:37:07 WARN DAGScheduler: Broadcasting large task binary with size 1024.5 KiB\n",
      "24/08/21 20:37:08 WARN DAGScheduler: Broadcasting large task binary with size 1025.5 KiB\n",
      "24/08/21 20:37:09 WARN DAGScheduler: Broadcasting large task binary with size 1027.8 KiB\n",
      "24/08/21 20:37:10 WARN DAGScheduler: Broadcasting large task binary with size 1030.3 KiB\n",
      "24/08/21 20:37:11 WARN DAGScheduler: Broadcasting large task binary with size 1030.8 KiB\n",
      "24/08/21 20:37:12 WARN DAGScheduler: Broadcasting large task binary with size 1031.5 KiB\n",
      "24/08/21 20:37:13 WARN DAGScheduler: Broadcasting large task binary with size 1032.5 KiB\n",
      "24/08/21 20:37:14 WARN DAGScheduler: Broadcasting large task binary with size 1034.7 KiB\n",
      "24/08/21 20:37:15 WARN DAGScheduler: Broadcasting large task binary with size 1036.9 KiB\n",
      "24/08/21 20:37:16 WARN DAGScheduler: Broadcasting large task binary with size 1037.4 KiB\n",
      "24/08/21 20:37:17 WARN DAGScheduler: Broadcasting large task binary with size 1038.1 KiB\n",
      "24/08/21 20:37:17 WARN DAGScheduler: Broadcasting large task binary with size 1039.1 KiB\n",
      "24/08/21 20:37:18 WARN DAGScheduler: Broadcasting large task binary with size 1041.1 KiB\n",
      "24/08/21 20:37:19 WARN DAGScheduler: Broadcasting large task binary with size 1042.9 KiB\n",
      "24/08/21 20:37:20 WARN DAGScheduler: Broadcasting large task binary with size 1043.4 KiB\n",
      "24/08/21 20:37:21 WARN DAGScheduler: Broadcasting large task binary with size 1044.1 KiB\n",
      "24/08/21 20:37:22 WARN DAGScheduler: Broadcasting large task binary with size 1045.1 KiB\n",
      "24/08/21 20:37:23 WARN DAGScheduler: Broadcasting large task binary with size 1046.8 KiB\n",
      "24/08/21 20:37:30 WARN DAGScheduler: Broadcasting large task binary with size 1037.6 KiB\n",
      "24/08/21 20:37:30 WARN InstanceBuilder: Failed to load implementation from:dev.ludovic.netlib.blas.JNIBLAS\n",
      "                                                                                \r"
     ]
    },
    {
     "name": "stdout",
     "output_type": "stream",
     "text": [
      "Accuracy on test data: 0.7579941860465116\n"
     ]
    },
    {
     "name": "stderr",
     "output_type": "stream",
     "text": [
      "                                                                                \r"
     ]
    },
    {
     "name": "stdout",
     "output_type": "stream",
     "text": [
      "Accuracy on test data: 0.590843023255814\n"
     ]
    },
    {
     "name": "stderr",
     "output_type": "stream",
     "text": [
      "                                                                                \r"
     ]
    },
    {
     "name": "stdout",
     "output_type": "stream",
     "text": [
      "+--------------------+------+----------+\n",
      "|            features|target|prediction|\n",
      "+--------------------+------+----------+\n",
      "|[1.1701167E7,1.57...|     0|       1.0|\n",
      "|[1.186737E7,1.575...|     0|       0.0|\n",
      "|[1.1977835E7,1.57...|     0|       0.0|\n",
      "|[1.1904492E7,1.57...|     0|       0.0|\n",
      "|[1.1943472E7,1.57...|     1|       1.0|\n",
      "+--------------------+------+----------+\n",
      "only showing top 5 rows\n",
      "\n"
     ]
    },
    {
     "name": "stderr",
     "output_type": "stream",
     "text": [
      "24/08/21 20:41:35 WARN DAGScheduler: Broadcasting large task binary with size 1016.1 KiB\n",
      "                                                                                \r"
     ]
    },
    {
     "name": "stdout",
     "output_type": "stream",
     "text": [
      "Accuracy on test data: 0.6395348837209303\n"
     ]
    },
    {
     "name": "stderr",
     "output_type": "stream",
     "text": [
      "                                                                                \r"
     ]
    },
    {
     "name": "stdout",
     "output_type": "stream",
     "text": [
      "+--------------------+------+----------+\n",
      "|            features|target|prediction|\n",
      "+--------------------+------+----------+\n",
      "|[1.1701167E7,1.57...|     0|       1.0|\n",
      "|[1.186737E7,1.575...|     0|       0.0|\n",
      "|[1.1977835E7,1.57...|     0|       0.0|\n",
      "|[1.1904492E7,1.57...|     0|       0.0|\n",
      "|[1.1943472E7,1.57...|     1|       1.0|\n",
      "+--------------------+------+----------+\n",
      "only showing top 5 rows\n",
      "\n"
     ]
    },
    {
     "name": "stderr",
     "output_type": "stream",
     "text": [
      "                                                                                \r"
     ]
    },
    {
     "name": "stdout",
     "output_type": "stream",
     "text": [
      "Accuracy on test data: 0.59375\n"
     ]
    },
    {
     "name": "stderr",
     "output_type": "stream",
     "text": [
      "                                                                                \r"
     ]
    },
    {
     "name": "stdout",
     "output_type": "stream",
     "text": [
      "+--------------------+------+----------+\n",
      "|            features|target|prediction|\n",
      "+--------------------+------+----------+\n",
      "|[1.1701167E7,1.57...|     0|       1.0|\n",
      "|[1.186737E7,1.575...|     0|       1.0|\n",
      "|[1.1977835E7,1.57...|     0|       0.0|\n",
      "|[1.1904492E7,1.57...|     0|       0.0|\n",
      "|[1.1943472E7,1.57...|     1|       1.0|\n",
      "+--------------------+------+----------+\n",
      "only showing top 5 rows\n",
      "\n"
     ]
    },
    {
     "name": "stderr",
     "output_type": "stream",
     "text": [
      "                                                                                \r"
     ]
    },
    {
     "name": "stdout",
     "output_type": "stream",
     "text": [
      "Accuracy on test data: 0.6007092198581561\n"
     ]
    },
    {
     "name": "stderr",
     "output_type": "stream",
     "text": [
      "                                                                                \r"
     ]
    },
    {
     "name": "stdout",
     "output_type": "stream",
     "text": [
      "+--------------------+------+----------+\n",
      "|            features|target|prediction|\n",
      "+--------------------+------+----------+\n",
      "|[1.1897602E7,1.57...|     1|       1.0|\n",
      "|[1.186737E7,1.575...|     0|       0.0|\n",
      "|[1.1935104E7,1.57...|     0|       0.0|\n",
      "|[1.1956947E7,1.57...|     1|       1.0|\n",
      "|[1.1904982E7,1.57...|     0|       0.0|\n",
      "+--------------------+------+----------+\n",
      "only showing top 5 rows\n",
      "\n"
     ]
    },
    {
     "data": {
      "image/png": "[encoded data removed]",
      "text/plain": [
       "<Figure size 864x576 with 1 Axes>"
      ]
     },
     "metadata": {
      "needs_background": "light"
     },
     "output_type": "display_data"
    },
    {
     "name": "stdout",
     "output_type": "stream",
     "text": [
      "added features\n"
     ]
    },
    {
     "name": "stderr",
     "output_type": "stream",
     "text": [
      "                                                                                \r"
     ]
    },
    {
     "name": "stdout",
     "output_type": "stream",
     "text": [
      "fill NA in cols\n"
     ]
    },
    {
     "name": "stderr",
     "output_type": "stream",
     "text": [
      "                                                                                \r"
     ]
    },
    {
     "name": "stdout",
     "output_type": "stream",
     "text": [
      "convert string cols\n",
      "sumerize features\n"
     ]
    },
    {
     "name": "stderr",
     "output_type": "stream",
     "text": [
      "                                                                                \r"
     ]
    },
    {
     "name": "stdout",
     "output_type": "stream",
     "text": [
      "remove redundant features\n"
     ]
    },
    {
     "name": "stderr",
     "output_type": "stream",
     "text": [
      "24/08/21 20:48:53 WARN DAGScheduler: Broadcasting large task binary with size 1117.4 KiB\n",
      "24/08/21 20:50:04 WARN DAGScheduler: Broadcasting large task binary with size 1130.2 KiB\n",
      "24/08/21 20:50:06 WARN DAGScheduler: Broadcasting large task binary with size 1136.6 KiB\n",
      "                                                                                \r"
     ]
    },
    {
     "name": "stdout",
     "output_type": "stream",
     "text": [
      "Accuracy: 51.29%\n"
     ]
    },
    {
     "name": "stderr",
     "output_type": "stream",
     "text": [
      "24/08/21 20:51:17 WARN DAGScheduler: Broadcasting large task binary with size 1001.8 KiB\n",
      "24/08/21 20:51:18 WARN DAGScheduler: Broadcasting large task binary with size 1004.2 KiB\n",
      "24/08/21 20:51:19 WARN DAGScheduler: Broadcasting large task binary with size 1004.6 KiB\n",
      "24/08/21 20:51:20 WARN DAGScheduler: Broadcasting large task binary with size 1005.3 KiB\n",
      "24/08/21 20:51:21 WARN DAGScheduler: Broadcasting large task binary with size 1006.3 KiB\n",
      "24/08/21 20:51:22 WARN DAGScheduler: Broadcasting large task binary with size 1008.6 KiB\n",
      "24/08/21 20:51:23 WARN DAGScheduler: Broadcasting large task binary with size 1011.3 KiB\n",
      "24/08/21 20:51:23 WARN DAGScheduler: Broadcasting large task binary with size 1011.8 KiB\n",
      "24/08/21 20:51:24 WARN DAGScheduler: Broadcasting large task binary with size 1012.5 KiB\n",
      "24/08/21 20:51:25 WARN DAGScheduler: Broadcasting large task binary with size 1013.5 KiB\n",
      "24/08/21 20:51:26 WARN DAGScheduler: Broadcasting large task binary with size 1015.7 KiB\n",
      "24/08/21 20:51:27 WARN DAGScheduler: Broadcasting large task binary with size 1017.9 KiB\n",
      "24/08/21 20:51:28 WARN DAGScheduler: Broadcasting large task binary with size 1018.4 KiB\n",
      "24/08/21 20:51:29 WARN DAGScheduler: Broadcasting large task binary with size 1019.1 KiB\n",
      "24/08/21 20:51:30 WARN DAGScheduler: Broadcasting large task binary with size 1020.1 KiB\n",
      "24/08/21 20:51:31 WARN DAGScheduler: Broadcasting large task binary with size 1022.1 KiB\n",
      "24/08/21 20:51:32 WARN DAGScheduler: Broadcasting large task binary with size 1024.4 KiB\n",
      "24/08/21 20:51:33 WARN DAGScheduler: Broadcasting large task binary with size 1024.9 KiB\n",
      "24/08/21 20:51:34 WARN DAGScheduler: Broadcasting large task binary with size 1025.6 KiB\n",
      "24/08/21 20:51:34 WARN DAGScheduler: Broadcasting large task binary with size 1026.6 KiB\n",
      "24/08/21 20:51:35 WARN DAGScheduler: Broadcasting large task binary with size 1028.8 KiB\n",
      "24/08/21 20:51:37 WARN DAGScheduler: Broadcasting large task binary with size 1031.2 KiB\n",
      "24/08/21 20:51:38 WARN DAGScheduler: Broadcasting large task binary with size 1031.7 KiB\n",
      "24/08/21 20:51:38 WARN DAGScheduler: Broadcasting large task binary with size 1032.4 KiB\n",
      "24/08/21 20:51:39 WARN DAGScheduler: Broadcasting large task binary with size 1033.4 KiB\n",
      "24/08/21 20:51:40 WARN DAGScheduler: Broadcasting large task binary with size 1035.7 KiB\n",
      "24/08/21 20:51:41 WARN DAGScheduler: Broadcasting large task binary with size 1038.3 KiB\n",
      "24/08/21 20:51:42 WARN DAGScheduler: Broadcasting large task binary with size 1038.8 KiB\n",
      "24/08/21 20:51:43 WARN DAGScheduler: Broadcasting large task binary with size 1039.5 KiB\n",
      "24/08/21 20:51:44 WARN DAGScheduler: Broadcasting large task binary with size 1040.5 KiB\n",
      "24/08/21 20:51:45 WARN DAGScheduler: Broadcasting large task binary with size 1042.8 KiB\n",
      "24/08/21 20:51:46 WARN DAGScheduler: Broadcasting large task binary with size 1045.0 KiB\n",
      "24/08/21 20:51:47 WARN DAGScheduler: Broadcasting large task binary with size 1045.5 KiB\n",
      "24/08/21 20:51:48 WARN DAGScheduler: Broadcasting large task binary with size 1046.2 KiB\n",
      "24/08/21 20:51:49 WARN DAGScheduler: Broadcasting large task binary with size 1047.1 KiB\n",
      "24/08/21 20:51:50 WARN DAGScheduler: Broadcasting large task binary with size 1048.6 KiB\n",
      "24/08/21 20:51:57 WARN DAGScheduler: Broadcasting large task binary with size 1039.0 KiB\n",
      "                                                                                \r"
     ]
    },
    {
     "name": "stdout",
     "output_type": "stream",
     "text": [
      "Accuracy on test data: 0.7021276595744681\n"
     ]
    },
    {
     "name": "stderr",
     "output_type": "stream",
     "text": [
      "                                                                                \r"
     ]
    },
    {
     "name": "stdout",
     "output_type": "stream",
     "text": [
      "Accuracy on test data: 0.6150740242261103\n"
     ]
    },
    {
     "name": "stderr",
     "output_type": "stream",
     "text": [
      "                                                                                \r"
     ]
    },
    {
     "name": "stdout",
     "output_type": "stream",
     "text": [
      "+--------------------+------+----------+\n",
      "|            features|target|prediction|\n",
      "+--------------------+------+----------+\n",
      "|[1.1879846E7,1.57...|     1|       1.0|\n",
      "|[1.1911051E7,1.57...|     1|       1.0|\n",
      "|[1.1937581E7,1.57...|     1|       1.0|\n",
      "|[1.1950869E7,1.57...|     0|       1.0|\n",
      "|[1.1919491E7,1.57...|     1|       0.0|\n",
      "+--------------------+------+----------+\n",
      "only showing top 5 rows\n",
      "\n"
     ]
    },
    {
     "name": "stderr",
     "output_type": "stream",
     "text": [
      "24/08/21 20:56:06 WARN DAGScheduler: Broadcasting large task binary with size 1015.9 KiB\n",
      "                                                                                \r"
     ]
    },
    {
     "name": "stdout",
     "output_type": "stream",
     "text": [
      "Accuracy on test data: 0.6352624495289367\n"
     ]
    },
    {
     "name": "stderr",
     "output_type": "stream",
     "text": [
      "                                                                                \r"
     ]
    },
    {
     "name": "stdout",
     "output_type": "stream",
     "text": [
      "+--------------------+------+----------+\n",
      "|            features|target|prediction|\n",
      "+--------------------+------+----------+\n",
      "|[1.1879846E7,1.57...|     1|       1.0|\n",
      "|[1.1911051E7,1.57...|     1|       1.0|\n",
      "|[1.1937581E7,1.57...|     1|       1.0|\n",
      "|[1.1950869E7,1.57...|     0|       1.0|\n",
      "|[1.1919491E7,1.57...|     1|       1.0|\n",
      "+--------------------+------+----------+\n",
      "only showing top 5 rows\n",
      "\n"
     ]
    },
    {
     "name": "stderr",
     "output_type": "stream",
     "text": [
      "                                                                                \r"
     ]
    },
    {
     "name": "stdout",
     "output_type": "stream",
     "text": [
      "Accuracy on test data: 0.6036339165545087\n"
     ]
    },
    {
     "name": "stderr",
     "output_type": "stream",
     "text": [
      "                                                                                \r"
     ]
    },
    {
     "name": "stdout",
     "output_type": "stream",
     "text": [
      "+--------------------+------+----------+\n",
      "|            features|target|prediction|\n",
      "+--------------------+------+----------+\n",
      "|[1.1879846E7,1.57...|     1|       1.0|\n",
      "|[1.1911051E7,1.57...|     1|       1.0|\n",
      "|[1.1937581E7,1.57...|     1|       0.0|\n",
      "|[1.1950869E7,1.57...|     0|       1.0|\n",
      "|[1.1919491E7,1.57...|     1|       1.0|\n",
      "+--------------------+------+----------+\n",
      "only showing top 5 rows\n",
      "\n"
     ]
    },
    {
     "name": "stderr",
     "output_type": "stream",
     "text": [
      "                                                                                \r"
     ]
    },
    {
     "name": "stdout",
     "output_type": "stream",
     "text": [
      "Accuracy on test data: 0.6117092866756393\n"
     ]
    },
    {
     "name": "stderr",
     "output_type": "stream",
     "text": [
      "\r",
      "[Stage 4865:>                                                       (0 + 1) / 1]\r"
     ]
    },
    {
     "name": "stdout",
     "output_type": "stream",
     "text": [
      "+--------------------+------+----------+\n",
      "|            features|target|prediction|\n",
      "+--------------------+------+----------+\n",
      "|[1.1879846E7,1.57...|     1|       1.0|\n",
      "|[1.1911051E7,1.57...|     1|       1.0|\n",
      "|[1.1937581E7,1.57...|     1|       0.0|\n",
      "|[1.1950869E7,1.57...|     0|       1.0|\n",
      "|[1.1919491E7,1.57...|     1|       0.0|\n",
      "+--------------------+------+----------+\n",
      "only showing top 5 rows\n",
      "\n"
     ]
    },
    {
     "name": "stderr",
     "output_type": "stream",
     "text": [
      "\r",
      "                                                                                \r"
     ]
    },
    {
     "data": {
      "image/png": "[encoded data removed]",
      "text/plain": [
       "<Figure size 864x576 with 1 Axes>"
      ]
     },
     "metadata": {
      "needs_background": "light"
     },
     "output_type": "display_data"
    },
    {
     "name": "stdout",
     "output_type": "stream",
     "text": [
      "added features\n"
     ]
    },
    {
     "name": "stderr",
     "output_type": "stream",
     "text": [
      "                                                                                \r"
     ]
    },
    {
     "name": "stdout",
     "output_type": "stream",
     "text": [
      "fill NA in cols\n"
     ]
    },
    {
     "name": "stderr",
     "output_type": "stream",
     "text": [
      "                                                                                \r"
     ]
    },
    {
     "name": "stdout",
     "output_type": "stream",
     "text": [
      "convert string cols\n",
      "sumerize features\n"
     ]
    },
    {
     "name": "stderr",
     "output_type": "stream",
     "text": [
      "                                                                                \r"
     ]
    },
    {
     "name": "stdout",
     "output_type": "stream",
     "text": [
      "remove redundant features\n"
     ]
    },
    {
     "name": "stderr",
     "output_type": "stream",
     "text": [
      "24/08/21 21:03:22 WARN DAGScheduler: Broadcasting large task binary with size 1117.4 KiB\n",
      "24/08/21 21:04:39 WARN DAGScheduler: Broadcasting large task binary with size 1130.2 KiB\n",
      "24/08/21 21:04:41 WARN TaskMemoryManager: Failed to allocate a page (67108864 bytes), try again.\n",
      "24/08/21 21:04:43 WARN DAGScheduler: Broadcasting large task binary with size 1136.6 KiB\n",
      "                                                                                \r"
     ]
    },
    {
     "name": "stdout",
     "output_type": "stream",
     "text": [
      "Accuracy: 49.92%\n"
     ]
    },
    {
     "name": "stderr",
     "output_type": "stream",
     "text": [
      "24/08/21 21:05:53 WARN DAGScheduler: Broadcasting large task binary with size 1000.2 KiB\n",
      "24/08/21 21:05:54 WARN DAGScheduler: Broadcasting large task binary with size 1002.1 KiB\n",
      "24/08/21 21:05:55 WARN DAGScheduler: Broadcasting large task binary with size 1004.0 KiB\n",
      "24/08/21 21:05:55 WARN DAGScheduler: Broadcasting large task binary with size 1004.5 KiB\n",
      "24/08/21 21:05:56 WARN DAGScheduler: Broadcasting large task binary with size 1005.2 KiB\n",
      "24/08/21 21:05:57 WARN DAGScheduler: Broadcasting large task binary with size 1006.2 KiB\n",
      "24/08/21 21:05:58 WARN DAGScheduler: Broadcasting large task binary with size 1008.1 KiB\n",
      "24/08/21 21:05:59 WARN DAGScheduler: Broadcasting large task binary with size 1009.8 KiB\n",
      "24/08/21 21:06:00 WARN DAGScheduler: Broadcasting large task binary with size 1010.3 KiB\n",
      "24/08/21 21:06:01 WARN DAGScheduler: Broadcasting large task binary with size 1011.0 KiB\n",
      "24/08/21 21:06:02 WARN DAGScheduler: Broadcasting large task binary with size 1012.0 KiB\n",
      "24/08/21 21:06:03 WARN DAGScheduler: Broadcasting large task binary with size 1014.2 KiB\n",
      "24/08/21 21:06:04 WARN DAGScheduler: Broadcasting large task binary with size 1016.5 KiB\n",
      "24/08/21 21:06:05 WARN DAGScheduler: Broadcasting large task binary with size 1016.9 KiB\n",
      "24/08/21 21:06:06 WARN DAGScheduler: Broadcasting large task binary with size 1017.7 KiB\n",
      "24/08/21 21:06:07 WARN DAGScheduler: Broadcasting large task binary with size 1018.7 KiB\n",
      "24/08/21 21:06:08 WARN DAGScheduler: Broadcasting large task binary with size 1020.9 KiB\n",
      "24/08/21 21:06:09 WARN DAGScheduler: Broadcasting large task binary with size 1022.8 KiB\n",
      "24/08/21 21:06:10 WARN DAGScheduler: Broadcasting large task binary with size 1023.3 KiB\n",
      "24/08/21 21:06:11 WARN DAGScheduler: Broadcasting large task binary with size 1024.0 KiB\n",
      "24/08/21 21:06:12 WARN DAGScheduler: Broadcasting large task binary with size 1024.7 KiB\n",
      "24/08/21 21:06:13 WARN DAGScheduler: Broadcasting large task binary with size 1026.4 KiB\n",
      "24/08/21 21:06:14 WARN DAGScheduler: Broadcasting large task binary with size 1028.8 KiB\n",
      "24/08/21 21:06:15 WARN DAGScheduler: Broadcasting large task binary with size 1029.3 KiB\n",
      "24/08/21 21:06:16 WARN DAGScheduler: Broadcasting large task binary with size 1030.0 KiB\n",
      "24/08/21 21:06:17 WARN DAGScheduler: Broadcasting large task binary with size 1031.0 KiB\n",
      "24/08/21 21:06:18 WARN DAGScheduler: Broadcasting large task binary with size 1032.9 KiB\n",
      "24/08/21 21:06:19 WARN DAGScheduler: Broadcasting large task binary with size 1034.9 KiB\n",
      "24/08/21 21:06:20 WARN DAGScheduler: Broadcasting large task binary with size 1035.4 KiB\n",
      "24/08/21 21:06:21 WARN DAGScheduler: Broadcasting large task binary with size 1036.1 KiB\n",
      "24/08/21 21:06:22 WARN DAGScheduler: Broadcasting large task binary with size 1037.1 KiB\n",
      "24/08/21 21:06:23 WARN DAGScheduler: Broadcasting large task binary with size 1039.4 KiB\n",
      "24/08/21 21:06:24 WARN DAGScheduler: Broadcasting large task binary with size 1041.8 KiB\n",
      "24/08/21 21:06:25 WARN DAGScheduler: Broadcasting large task binary with size 1042.2 KiB\n",
      "24/08/21 21:06:25 WARN DAGScheduler: Broadcasting large task binary with size 1042.9 KiB\n",
      "24/08/21 21:06:26 WARN DAGScheduler: Broadcasting large task binary with size 1043.9 KiB\n",
      "24/08/21 21:06:27 WARN DAGScheduler: Broadcasting large task binary with size 1045.9 KiB\n",
      "24/08/21 21:06:35 WARN DAGScheduler: Broadcasting large task binary with size 1036.6 KiB\n",
      "                                                                                \r"
     ]
    },
    {
     "name": "stdout",
     "output_type": "stream",
     "text": [
      "Accuracy on test data: 0.7034574468085106\n"
     ]
    },
    {
     "name": "stderr",
     "output_type": "stream",
     "text": [
      "                                                                                \r"
     ]
    },
    {
     "name": "stdout",
     "output_type": "stream",
     "text": [
      "Accuracy on test data: 0.6014397905759162\n"
     ]
    },
    {
     "name": "stderr",
     "output_type": "stream",
     "text": [
      "                                                                                \r"
     ]
    },
    {
     "name": "stdout",
     "output_type": "stream",
     "text": [
      "+--------------------+------+----------+\n",
      "|            features|target|prediction|\n",
      "+--------------------+------+----------+\n",
      "|[1.1934235E7,1.57...|     1|       1.0|\n",
      "|[1.1941411E7,1.57...|     1|       1.0|\n",
      "|[1.1865473E7,1.57...|     0|       1.0|\n",
      "|(35,[0,1,2,3,4,5,...|     1|       0.0|\n",
      "|[1.1960516E7,1.57...|     0|       1.0|\n",
      "+--------------------+------+----------+\n",
      "only showing top 5 rows\n",
      "\n"
     ]
    },
    {
     "name": "stderr",
     "output_type": "stream",
     "text": [
      "24/08/21 21:11:04 WARN DAGScheduler: Broadcasting large task binary with size 1017.8 KiB\n",
      "                                                                                \r"
     ]
    },
    {
     "name": "stdout",
     "output_type": "stream",
     "text": [
      "Accuracy on test data: 0.6420157068062827\n"
     ]
    },
    {
     "name": "stderr",
     "output_type": "stream",
     "text": [
      "                                                                                \r"
     ]
    },
    {
     "name": "stdout",
     "output_type": "stream",
     "text": [
      "+--------------------+------+----------+\n",
      "|            features|target|prediction|\n",
      "+--------------------+------+----------+\n",
      "|[1.1934235E7,1.57...|     1|       1.0|\n",
      "|[1.1941411E7,1.57...|     1|       1.0|\n",
      "|[1.1865473E7,1.57...|     0|       1.0|\n",
      "|(35,[0,1,2,3,4,5,...|     1|       1.0|\n",
      "|[1.1960516E7,1.57...|     0|       1.0|\n",
      "+--------------------+------+----------+\n",
      "only showing top 5 rows\n",
      "\n"
     ]
    },
    {
     "name": "stderr",
     "output_type": "stream",
     "text": [
      "                                                                                \r"
     ]
    },
    {
     "name": "stdout",
     "output_type": "stream",
     "text": [
      "Accuracy on test data: 0.6073298429319371\n"
     ]
    },
    {
     "name": "stderr",
     "output_type": "stream",
     "text": [
      "                                                                                \r"
     ]
    },
    {
     "name": "stdout",
     "output_type": "stream",
     "text": [
      "+--------------------+------+----------+\n",
      "|            features|target|prediction|\n",
      "+--------------------+------+----------+\n",
      "|[1.1934235E7,1.57...|     1|       1.0|\n",
      "|[1.1941411E7,1.57...|     1|       1.0|\n",
      "|[1.1865473E7,1.57...|     0|       1.0|\n",
      "|(35,[0,1,2,3,4,5,...|     1|       1.0|\n",
      "|[1.1960516E7,1.57...|     0|       0.0|\n",
      "+--------------------+------+----------+\n",
      "only showing top 5 rows\n",
      "\n"
     ]
    },
    {
     "name": "stderr",
     "output_type": "stream",
     "text": [
      "                                                                                \r"
     ]
    },
    {
     "name": "stdout",
     "output_type": "stream",
     "text": [
      "Accuracy on test data: 0.6\n"
     ]
    },
    {
     "name": "stderr",
     "output_type": "stream",
     "text": [
      "                                                                                \r"
     ]
    },
    {
     "name": "stdout",
     "output_type": "stream",
     "text": [
      "+--------------------+------+----------+\n",
      "|            features|target|prediction|\n",
      "+--------------------+------+----------+\n",
      "|[1.1983503E7,1.57...|     1|       0.0|\n",
      "|[1.1883002E7,1.57...|     0|       1.0|\n",
      "|[1.1701176E7,1.57...|     1|       0.0|\n",
      "|[1.198361E7,1.575...|     1|       1.0|\n",
      "|[1.1906117E7,1.57...|     1|       1.0|\n",
      "+--------------------+------+----------+\n",
      "only showing top 5 rows\n",
      "\n"
     ]
    },
    {
     "data": {
      "image/png": "[encoded data removed]",
      "text/plain": [
       "<Figure size 864x576 with 1 Axes>"
      ]
     },
     "metadata": {
      "needs_background": "light"
     },
     "output_type": "display_data"
    },
    {
     "name": "stdout",
     "output_type": "stream",
     "text": [
      "added features\n"
     ]
    },
    {
     "name": "stderr",
     "output_type": "stream",
     "text": [
      "                                                                                \r"
     ]
    },
    {
     "name": "stdout",
     "output_type": "stream",
     "text": [
      "fill NA in cols\n"
     ]
    },
    {
     "name": "stderr",
     "output_type": "stream",
     "text": [
      "                                                                                \r"
     ]
    },
    {
     "name": "stdout",
     "output_type": "stream",
     "text": [
      "convert string cols\n",
      "sumerize features\n"
     ]
    },
    {
     "name": "stderr",
     "output_type": "stream",
     "text": [
      "                                                                                \r"
     ]
    },
    {
     "name": "stdout",
     "output_type": "stream",
     "text": [
      "remove redundant features\n"
     ]
    },
    {
     "name": "stderr",
     "output_type": "stream",
     "text": [
      "24/08/21 21:18:19 WARN DAGScheduler: Broadcasting large task binary with size 1117.4 KiB\n",
      "24/08/21 21:19:42 WARN DAGScheduler: Broadcasting large task binary with size 1130.2 KiB\n",
      "24/08/21 21:19:45 WARN DAGScheduler: Broadcasting large task binary with size 1136.6 KiB\n",
      "                                                                                \r"
     ]
    },
    {
     "name": "stdout",
     "output_type": "stream",
     "text": [
      "Accuracy: 52.00%\n"
     ]
    },
    {
     "name": "stderr",
     "output_type": "stream",
     "text": [
      "24/08/21 21:20:58 WARN DAGScheduler: Broadcasting large task binary with size 1000.0 KiB\n",
      "24/08/21 21:20:59 WARN DAGScheduler: Broadcasting large task binary with size 1002.3 KiB\n",
      "24/08/21 21:21:00 WARN DAGScheduler: Broadcasting large task binary with size 1004.8 KiB\n",
      "24/08/21 21:21:01 WARN DAGScheduler: Broadcasting large task binary with size 1005.3 KiB\n",
      "24/08/21 21:21:02 WARN DAGScheduler: Broadcasting large task binary with size 1006.0 KiB\n",
      "24/08/21 21:21:03 WARN DAGScheduler: Broadcasting large task binary with size 1007.0 KiB\n",
      "24/08/21 21:21:04 WARN DAGScheduler: Broadcasting large task binary with size 1009.3 KiB\n",
      "24/08/21 21:21:05 WARN DAGScheduler: Broadcasting large task binary with size 1011.8 KiB\n",
      "24/08/21 21:21:06 WARN DAGScheduler: Broadcasting large task binary with size 1012.3 KiB\n",
      "24/08/21 21:21:07 WARN DAGScheduler: Broadcasting large task binary with size 1013.0 KiB\n",
      "24/08/21 21:21:08 WARN DAGScheduler: Broadcasting large task binary with size 1014.0 KiB\n",
      "24/08/21 21:21:09 WARN DAGScheduler: Broadcasting large task binary with size 1016.3 KiB\n",
      "24/08/21 21:21:10 WARN DAGScheduler: Broadcasting large task binary with size 1018.9 KiB\n",
      "24/08/21 21:21:11 WARN DAGScheduler: Broadcasting large task binary with size 1019.4 KiB\n",
      "24/08/21 21:21:12 WARN DAGScheduler: Broadcasting large task binary with size 1020.1 KiB\n",
      "24/08/21 21:21:13 WARN DAGScheduler: Broadcasting large task binary with size 1021.1 KiB\n",
      "24/08/21 21:21:14 WARN DAGScheduler: Broadcasting large task binary with size 1023.4 KiB\n",
      "24/08/21 21:21:15 WARN DAGScheduler: Broadcasting large task binary with size 1025.9 KiB\n",
      "24/08/21 21:21:16 WARN DAGScheduler: Broadcasting large task binary with size 1026.4 KiB\n",
      "24/08/21 21:21:17 WARN DAGScheduler: Broadcasting large task binary with size 1027.1 KiB\n",
      "24/08/21 21:21:18 WARN DAGScheduler: Broadcasting large task binary with size 1028.1 KiB\n",
      "24/08/21 21:21:19 WARN DAGScheduler: Broadcasting large task binary with size 1029.8 KiB\n",
      "24/08/21 21:21:20 WARN DAGScheduler: Broadcasting large task binary with size 1032.1 KiB\n",
      "24/08/21 21:21:21 WARN DAGScheduler: Broadcasting large task binary with size 1032.5 KiB\n",
      "24/08/21 21:21:22 WARN DAGScheduler: Broadcasting large task binary with size 1033.3 KiB\n",
      "24/08/21 21:21:23 WARN DAGScheduler: Broadcasting large task binary with size 1034.2 KiB\n",
      "24/08/21 21:21:24 WARN DAGScheduler: Broadcasting large task binary with size 1036.5 KiB\n",
      "24/08/21 21:21:25 WARN DAGScheduler: Broadcasting large task binary with size 1038.9 KiB\n",
      "24/08/21 21:21:26 WARN DAGScheduler: Broadcasting large task binary with size 1039.3 KiB\n",
      "24/08/21 21:21:27 WARN DAGScheduler: Broadcasting large task binary with size 1040.1 KiB\n",
      "24/08/21 21:21:28 WARN DAGScheduler: Broadcasting large task binary with size 1041.1 KiB\n",
      "24/08/21 21:21:29 WARN DAGScheduler: Broadcasting large task binary with size 1043.3 KiB\n",
      "24/08/21 21:21:30 WARN DAGScheduler: Broadcasting large task binary with size 1045.8 KiB\n",
      "24/08/21 21:21:31 WARN DAGScheduler: Broadcasting large task binary with size 1046.3 KiB\n",
      "24/08/21 21:21:32 WARN DAGScheduler: Broadcasting large task binary with size 1047.0 KiB\n",
      "24/08/21 21:21:33 WARN DAGScheduler: Broadcasting large task binary with size 1048.0 KiB\n",
      "24/08/21 21:21:34 WARN DAGScheduler: Broadcasting large task binary with size 1050.3 KiB\n",
      "24/08/21 21:21:41 WARN DAGScheduler: Broadcasting large task binary with size 1041.4 KiB\n",
      "                                                                                \r"
     ]
    },
    {
     "name": "stdout",
     "output_type": "stream",
     "text": [
      "Accuracy on test data: 0.7271028037383177\n"
     ]
    },
    {
     "name": "stderr",
     "output_type": "stream",
     "text": [
      "                                                                                \r"
     ]
    },
    {
     "name": "stdout",
     "output_type": "stream",
     "text": [
      "Accuracy on test data: 0.5895249695493301\n"
     ]
    },
    {
     "name": "stderr",
     "output_type": "stream",
     "text": [
      "                                                                                \r"
     ]
    },
    {
     "name": "stdout",
     "output_type": "stream",
     "text": [
      "+--------------------+------+----------+\n",
      "|            features|target|prediction|\n",
      "+--------------------+------+----------+\n",
      "|[1.1880155E7,1.57...|     1|       0.0|\n",
      "|[1.1957392E7,1.57...|     1|       1.0|\n",
      "|[1.1904493E7,1.57...|     1|       1.0|\n",
      "|[1.1962419E7,1.57...|     0|       0.0|\n",
      "|[1.1946521E7,1.57...|     1|       1.0|\n",
      "+--------------------+------+----------+\n",
      "only showing top 5 rows\n",
      "\n"
     ]
    },
    {
     "name": "stderr",
     "output_type": "stream",
     "text": [
      "24/08/21 21:26:11 WARN DAGScheduler: Broadcasting large task binary with size 1018.0 KiB\n",
      "                                                                                \r"
     ]
    },
    {
     "name": "stdout",
     "output_type": "stream",
     "text": [
      "Accuracy on test data: 0.6303288672350792\n"
     ]
    },
    {
     "name": "stderr",
     "output_type": "stream",
     "text": [
      "                                                                                \r"
     ]
    },
    {
     "name": "stdout",
     "output_type": "stream",
     "text": [
      "+--------------------+------+----------+\n",
      "|            features|target|prediction|\n",
      "+--------------------+------+----------+\n",
      "|[1.1880155E7,1.57...|     1|       0.0|\n",
      "|[1.1957392E7,1.57...|     1|       1.0|\n",
      "|[1.1904493E7,1.57...|     1|       1.0|\n",
      "|[1.1962419E7,1.57...|     0|       0.0|\n",
      "|[1.1946521E7,1.57...|     1|       1.0|\n",
      "+--------------------+------+----------+\n",
      "only showing top 5 rows\n",
      "\n"
     ]
    },
    {
     "name": "stderr",
     "output_type": "stream",
     "text": [
      "                                                                                \r"
     ]
    },
    {
     "name": "stdout",
     "output_type": "stream",
     "text": [
      "Accuracy on test data: 0.584652862362972\n"
     ]
    },
    {
     "name": "stderr",
     "output_type": "stream",
     "text": [
      "                                                                                \r"
     ]
    },
    {
     "name": "stdout",
     "output_type": "stream",
     "text": [
      "+--------------------+------+----------+\n",
      "|            features|target|prediction|\n",
      "+--------------------+------+----------+\n",
      "|[1.1880155E7,1.57...|     1|       1.0|\n",
      "|[1.1957392E7,1.57...|     1|       1.0|\n",
      "|[1.1904493E7,1.57...|     1|       1.0|\n",
      "|[1.1962419E7,1.57...|     0|       0.0|\n",
      "|[1.1946521E7,1.57...|     1|       0.0|\n",
      "+--------------------+------+----------+\n",
      "only showing top 5 rows\n",
      "\n"
     ]
    },
    {
     "name": "stderr",
     "output_type": "stream",
     "text": [
      "                                                                                \r"
     ]
    },
    {
     "name": "stdout",
     "output_type": "stream",
     "text": [
      "Accuracy on test data: 0.5858708891595615\n"
     ]
    },
    {
     "name": "stderr",
     "output_type": "stream",
     "text": [
      "\r",
      "[Stage 9903:>                                                       (0 + 1) / 1]\r"
     ]
    },
    {
     "name": "stdout",
     "output_type": "stream",
     "text": [
      "+--------------------+------+----------+\n",
      "|            features|target|prediction|\n",
      "+--------------------+------+----------+\n",
      "|[1.1880155E7,1.57...|     1|       0.0|\n",
      "|[1.1957392E7,1.57...|     1|       1.0|\n",
      "|[1.1904493E7,1.57...|     1|       1.0|\n",
      "|[1.1962419E7,1.57...|     0|       0.0|\n",
      "|[1.1946521E7,1.57...|     1|       1.0|\n",
      "+--------------------+------+----------+\n",
      "only showing top 5 rows\n",
      "\n"
     ]
    },
    {
     "name": "stderr",
     "output_type": "stream",
     "text": [
      "\r",
      "                                                                                \r"
     ]
    },
    {
     "data": {
      "image/png": "[encoded data removed]",
      "text/plain": [
       "<Figure size 864x576 with 1 Axes>"
      ]
     },
     "metadata": {
      "needs_background": "light"
     },
     "output_type": "display_data"
    },
    {
     "name": "stdout",
     "output_type": "stream",
     "text": [
      "added features\n"
     ]
    },
    {
     "name": "stderr",
     "output_type": "stream",
     "text": [
      "                                                                                \r"
     ]
    },
    {
     "name": "stdout",
     "output_type": "stream",
     "text": [
      "fill NA in cols\n"
     ]
    },
    {
     "name": "stderr",
     "output_type": "stream",
     "text": [
      "                                                                                \r"
     ]
    },
    {
     "name": "stdout",
     "output_type": "stream",
     "text": [
      "convert string cols\n",
      "sumerize features\n"
     ]
    },
    {
     "name": "stderr",
     "output_type": "stream",
     "text": [
      "                                                                                \r"
     ]
    },
    {
     "name": "stdout",
     "output_type": "stream",
     "text": [
      "remove redundant features\n"
     ]
    },
    {
     "name": "stderr",
     "output_type": "stream",
     "text": [
      "24/08/21 21:33:29 WARN DAGScheduler: Broadcasting large task binary with size 1117.4 KiB\n",
      "24/08/21 21:35:02 WARN DAGScheduler: Broadcasting large task binary with size 1130.2 KiB\n",
      "24/08/21 21:35:06 WARN DAGScheduler: Broadcasting large task binary with size 1136.6 KiB\n",
      "                                                                                \r"
     ]
    },
    {
     "name": "stdout",
     "output_type": "stream",
     "text": [
      "Accuracy: 49.66%\n"
     ]
    },
    {
     "name": "stderr",
     "output_type": "stream",
     "text": [
      "24/08/21 21:36:16 WARN DAGScheduler: Broadcasting large task binary with size 1000.3 KiB\n",
      "24/08/21 21:36:17 WARN DAGScheduler: Broadcasting large task binary with size 1001.0 KiB\n",
      "24/08/21 21:36:18 WARN DAGScheduler: Broadcasting large task binary with size 1002.0 KiB\n",
      "24/08/21 21:36:19 WARN DAGScheduler: Broadcasting large task binary with size 1003.7 KiB\n",
      "24/08/21 21:36:20 WARN DAGScheduler: Broadcasting large task binary with size 1005.6 KiB\n",
      "24/08/21 21:36:21 WARN DAGScheduler: Broadcasting large task binary with size 1006.1 KiB\n",
      "24/08/21 21:36:22 WARN DAGScheduler: Broadcasting large task binary with size 1006.7 KiB\n",
      "24/08/21 21:36:23 WARN DAGScheduler: Broadcasting large task binary with size 1007.5 KiB\n",
      "24/08/21 21:36:24 WARN DAGScheduler: Broadcasting large task binary with size 1009.2 KiB\n",
      "24/08/21 21:36:25 WARN DAGScheduler: Broadcasting large task binary with size 1011.5 KiB\n",
      "24/08/21 21:36:26 WARN DAGScheduler: Broadcasting large task binary with size 1012.0 KiB\n",
      "24/08/21 21:36:27 WARN DAGScheduler: Broadcasting large task binary with size 1012.7 KiB\n",
      "24/08/21 21:36:28 WARN DAGScheduler: Broadcasting large task binary with size 1013.7 KiB\n",
      "24/08/21 21:36:29 WARN DAGScheduler: Broadcasting large task binary with size 1015.9 KiB\n",
      "24/08/21 21:36:30 WARN DAGScheduler: Broadcasting large task binary with size 1018.6 KiB\n",
      "24/08/21 21:36:31 WARN DAGScheduler: Broadcasting large task binary with size 1019.1 KiB\n",
      "24/08/21 21:36:32 WARN DAGScheduler: Broadcasting large task binary with size 1019.8 KiB\n",
      "24/08/21 21:36:33 WARN DAGScheduler: Broadcasting large task binary with size 1020.8 KiB\n",
      "24/08/21 21:36:33 WARN DAGScheduler: Broadcasting large task binary with size 1022.4 KiB\n",
      "24/08/21 21:36:35 WARN DAGScheduler: Broadcasting large task binary with size 1024.4 KiB\n",
      "24/08/21 21:36:35 WARN DAGScheduler: Broadcasting large task binary with size 1024.9 KiB\n",
      "24/08/21 21:36:36 WARN DAGScheduler: Broadcasting large task binary with size 1025.6 KiB\n",
      "24/08/21 21:36:37 WARN DAGScheduler: Broadcasting large task binary with size 1026.6 KiB\n",
      "24/08/21 21:36:38 WARN DAGScheduler: Broadcasting large task binary with size 1028.9 KiB\n",
      "24/08/21 21:36:39 WARN DAGScheduler: Broadcasting large task binary with size 1031.4 KiB\n",
      "24/08/21 21:36:40 WARN DAGScheduler: Broadcasting large task binary with size 1031.9 KiB\n",
      "24/08/21 21:36:41 WARN DAGScheduler: Broadcasting large task binary with size 1032.6 KiB\n",
      "24/08/21 21:36:42 WARN DAGScheduler: Broadcasting large task binary with size 1033.6 KiB\n",
      "24/08/21 21:36:43 WARN DAGScheduler: Broadcasting large task binary with size 1035.8 KiB\n",
      "24/08/21 21:36:44 WARN DAGScheduler: Broadcasting large task binary with size 1037.7 KiB\n",
      "24/08/21 21:36:45 WARN DAGScheduler: Broadcasting large task binary with size 1038.2 KiB\n",
      "24/08/21 21:36:46 WARN DAGScheduler: Broadcasting large task binary with size 1038.9 KiB\n",
      "24/08/21 21:36:47 WARN DAGScheduler: Broadcasting large task binary with size 1039.9 KiB\n",
      "24/08/21 21:36:49 WARN DAGScheduler: Broadcasting large task binary with size 1042.2 KiB\n",
      "24/08/21 21:36:50 WARN DAGScheduler: Broadcasting large task binary with size 1044.7 KiB\n",
      "24/08/21 21:36:51 WARN DAGScheduler: Broadcasting large task binary with size 1045.2 KiB\n",
      "24/08/21 21:36:52 WARN DAGScheduler: Broadcasting large task binary with size 1045.9 KiB\n",
      "24/08/21 21:36:53 WARN DAGScheduler: Broadcasting large task binary with size 1046.8 KiB\n",
      "24/08/21 21:36:54 WARN DAGScheduler: Broadcasting large task binary with size 1048.5 KiB\n",
      "24/08/21 21:37:01 WARN DAGScheduler: Broadcasting large task binary with size 1039.0 KiB\n",
      "                                                                                \r"
     ]
    },
    {
     "name": "stdout",
     "output_type": "stream",
     "text": [
      "Accuracy on test data: 0.7573998839233894\n"
     ]
    },
    {
     "name": "stderr",
     "output_type": "stream",
     "text": [
      "                                                                                \r"
     ]
    },
    {
     "name": "stdout",
     "output_type": "stream",
     "text": [
      "Accuracy on test data: 0.596053395240859\n"
     ]
    },
    {
     "name": "stderr",
     "output_type": "stream",
     "text": [
      "                                                                                \r"
     ]
    },
    {
     "name": "stdout",
     "output_type": "stream",
     "text": [
      "+--------------------+------+----------+\n",
      "|            features|target|prediction|\n",
      "+--------------------+------+----------+\n",
      "|[1.1936345E7,1.57...|     1|       1.0|\n",
      "|[1.1983541E7,1.57...|     0|       0.0|\n",
      "|[1.1930796E7,1.57...|     1|       1.0|\n",
      "|[1.185853E7,1.575...|     1|       1.0|\n",
      "|[1.1946954E7,1.57...|     0|       1.0|\n",
      "+--------------------+------+----------+\n",
      "only showing top 5 rows\n",
      "\n"
     ]
    },
    {
     "name": "stderr",
     "output_type": "stream",
     "text": [
      "24/08/21 21:41:27 WARN DAGScheduler: Broadcasting large task binary with size 1018.1 KiB\n",
      "                                                                                \r"
     ]
    },
    {
     "name": "stdout",
     "output_type": "stream",
     "text": [
      "Accuracy on test data: 0.6343586767266396\n"
     ]
    },
    {
     "name": "stderr",
     "output_type": "stream",
     "text": [
      "                                                                                \r"
     ]
    },
    {
     "name": "stdout",
     "output_type": "stream",
     "text": [
      "+--------------------+------+----------+\n",
      "|            features|target|prediction|\n",
      "+--------------------+------+----------+\n",
      "|[1.1936345E7,1.57...|     1|       1.0|\n",
      "|[1.1983541E7,1.57...|     0|       0.0|\n",
      "|[1.1930796E7,1.57...|     1|       1.0|\n",
      "|[1.185853E7,1.575...|     1|       1.0|\n",
      "|[1.1946954E7,1.57...|     0|       0.0|\n",
      "+--------------------+------+----------+\n",
      "only showing top 5 rows\n",
      "\n"
     ]
    },
    {
     "name": "stderr",
     "output_type": "stream",
     "text": [
      "                                                                                \r"
     ]
    },
    {
     "name": "stdout",
     "output_type": "stream",
     "text": [
      "Accuracy on test data: 0.6006964596633778\n"
     ]
    },
    {
     "name": "stderr",
     "output_type": "stream",
     "text": [
      "                                                                                \r"
     ]
    },
    {
     "name": "stdout",
     "output_type": "stream",
     "text": [
      "+--------------------+------+----------+\n",
      "|            features|target|prediction|\n",
      "+--------------------+------+----------+\n",
      "|[1.1936345E7,1.57...|     1|       1.0|\n",
      "|[1.1983541E7,1.57...|     0|       1.0|\n",
      "|[1.1930796E7,1.57...|     1|       1.0|\n",
      "|[1.185853E7,1.575...|     1|       1.0|\n",
      "|[1.1946954E7,1.57...|     0|       1.0|\n",
      "+--------------------+------+----------+\n",
      "only showing top 5 rows\n",
      "\n"
     ]
    },
    {
     "name": "stderr",
     "output_type": "stream",
     "text": [
      "                                                                                \r"
     ]
    },
    {
     "name": "stdout",
     "output_type": "stream",
     "text": [
      "Accuracy on test data: 0.621867881548975\n"
     ]
    },
    {
     "name": "stderr",
     "output_type": "stream",
     "text": [
      "                                                                                \r"
     ]
    },
    {
     "name": "stdout",
     "output_type": "stream",
     "text": [
      "+--------------------+------+----------+\n",
      "|            features|target|prediction|\n",
      "+--------------------+------+----------+\n",
      "|[1.1901023E7,1.57...|     0|       1.0|\n",
      "|[1.1964385E7,1.57...|     1|       1.0|\n",
      "|[1.1893448E7,1.57...|     0|       0.0|\n",
      "|[1.189251E7,1.575...|     1|       1.0|\n",
      "|[1.194652E7,1.575...|     1|       0.0|\n",
      "+--------------------+------+----------+\n",
      "only showing top 5 rows\n",
      "\n"
     ]
    },
    {
     "data": {
      "image/png": "[encoded data removed]",
      "text/plain": [
       "<Figure size 864x576 with 1 Axes>"
      ]
     },
     "metadata": {
      "needs_background": "light"
     },
     "output_type": "display_data"
    },
    {
     "name": "stdout",
     "output_type": "stream",
     "text": [
      "added features\n"
     ]
    },
    {
     "name": "stderr",
     "output_type": "stream",
     "text": [
      "                                                                                \r"
     ]
    },
    {
     "name": "stdout",
     "output_type": "stream",
     "text": [
      "fill NA in cols\n"
     ]
    },
    {
     "name": "stderr",
     "output_type": "stream",
     "text": [
      "                                                                                \r"
     ]
    },
    {
     "name": "stdout",
     "output_type": "stream",
     "text": [
      "convert string cols\n",
      "sumerize features\n"
     ]
    },
    {
     "name": "stderr",
     "output_type": "stream",
     "text": [
      "                                                                                \r"
     ]
    },
    {
     "name": "stdout",
     "output_type": "stream",
     "text": [
      "remove redundant features\n"
     ]
    },
    {
     "name": "stderr",
     "output_type": "stream",
     "text": [
      "24/08/21 21:48:53 WARN DAGScheduler: Broadcasting large task binary with size 1138.7 KiB\n",
      "24/08/21 21:51:01 WARN DAGScheduler: Broadcasting large task binary with size 1151.4 KiB\n",
      "24/08/21 21:51:05 WARN DAGScheduler: Broadcasting large task binary with size 1157.8 KiB\n",
      "                                                                                \r"
     ]
    },
    {
     "name": "stdout",
     "output_type": "stream",
     "text": [
      "Accuracy: 52.13%\n"
     ]
    },
    {
     "name": "stderr",
     "output_type": "stream",
     "text": [
      "24/08/21 21:52:00 WARN DAGScheduler: Broadcasting large task binary with size 1000.4 KiB\n",
      "24/08/21 21:52:01 WARN DAGScheduler: Broadcasting large task binary with size 1001.4 KiB\n",
      "24/08/21 21:52:02 WARN DAGScheduler: Broadcasting large task binary with size 1003.6 KiB\n",
      "24/08/21 21:52:03 WARN DAGScheduler: Broadcasting large task binary with size 1006.3 KiB\n",
      "24/08/21 21:52:04 WARN DAGScheduler: Broadcasting large task binary with size 1006.8 KiB\n",
      "24/08/21 21:52:05 WARN DAGScheduler: Broadcasting large task binary with size 1007.5 KiB\n",
      "24/08/21 21:52:06 WARN DAGScheduler: Broadcasting large task binary with size 1008.5 KiB\n",
      "24/08/21 21:52:07 WARN DAGScheduler: Broadcasting large task binary with size 1010.8 KiB\n",
      "24/08/21 21:52:08 WARN DAGScheduler: Broadcasting large task binary with size 1013.3 KiB\n",
      "24/08/21 21:52:09 WARN DAGScheduler: Broadcasting large task binary with size 1013.8 KiB\n",
      "24/08/21 21:52:10 WARN DAGScheduler: Broadcasting large task binary with size 1014.5 KiB\n",
      "24/08/21 21:52:11 WARN DAGScheduler: Broadcasting large task binary with size 1015.2 KiB\n",
      "24/08/21 21:52:12 WARN DAGScheduler: Broadcasting large task binary with size 1016.7 KiB\n",
      "24/08/21 21:52:13 WARN DAGScheduler: Broadcasting large task binary with size 1018.8 KiB\n",
      "24/08/21 21:52:14 WARN DAGScheduler: Broadcasting large task binary with size 1019.3 KiB\n",
      "24/08/21 21:52:14 WARN DAGScheduler: Broadcasting large task binary with size 1020.0 KiB\n",
      "24/08/21 21:52:15 WARN DAGScheduler: Broadcasting large task binary with size 1021.0 KiB\n",
      "24/08/21 21:52:16 WARN DAGScheduler: Broadcasting large task binary with size 1023.3 KiB\n",
      "24/08/21 21:52:17 WARN DAGScheduler: Broadcasting large task binary with size 1025.9 KiB\n",
      "24/08/21 21:52:18 WARN DAGScheduler: Broadcasting large task binary with size 1026.4 KiB\n",
      "24/08/21 21:52:19 WARN DAGScheduler: Broadcasting large task binary with size 1027.1 KiB\n",
      "24/08/21 21:52:20 WARN DAGScheduler: Broadcasting large task binary with size 1028.1 KiB\n",
      "24/08/21 21:52:21 WARN DAGScheduler: Broadcasting large task binary with size 1030.1 KiB\n",
      "24/08/21 21:52:22 WARN DAGScheduler: Broadcasting large task binary with size 1032.3 KiB\n",
      "24/08/21 21:52:23 WARN DAGScheduler: Broadcasting large task binary with size 1032.7 KiB\n",
      "24/08/21 21:52:24 WARN DAGScheduler: Broadcasting large task binary with size 1033.4 KiB\n",
      "24/08/21 21:52:25 WARN DAGScheduler: Broadcasting large task binary with size 1034.4 KiB\n",
      "24/08/21 21:52:26 WARN DAGScheduler: Broadcasting large task binary with size 1036.1 KiB\n",
      "24/08/21 21:52:27 WARN DAGScheduler: Broadcasting large task binary with size 1038.1 KiB\n",
      "24/08/21 21:52:28 WARN DAGScheduler: Broadcasting large task binary with size 1038.6 KiB\n",
      "24/08/21 21:52:28 WARN DAGScheduler: Broadcasting large task binary with size 1039.3 KiB\n",
      "24/08/21 21:52:29 WARN DAGScheduler: Broadcasting large task binary with size 1040.3 KiB\n",
      "24/08/21 21:52:30 WARN DAGScheduler: Broadcasting large task binary with size 1042.5 KiB\n",
      "24/08/21 21:52:31 WARN DAGScheduler: Broadcasting large task binary with size 1045.2 KiB\n",
      "24/08/21 21:52:32 WARN DAGScheduler: Broadcasting large task binary with size 1045.7 KiB\n",
      "24/08/21 21:52:33 WARN DAGScheduler: Broadcasting large task binary with size 1046.4 KiB\n",
      "24/08/21 21:52:34 WARN DAGScheduler: Broadcasting large task binary with size 1047.4 KiB\n",
      "24/08/21 21:52:35 WARN DAGScheduler: Broadcasting large task binary with size 1049.7 KiB\n",
      "24/08/21 21:52:36 WARN DAGScheduler: Broadcasting large task binary with size 1052.3 KiB\n",
      "24/08/21 21:52:37 WARN DAGScheduler: Broadcasting large task binary with size 1052.8 KiB\n",
      "24/08/21 21:52:38 WARN DAGScheduler: Broadcasting large task binary with size 1053.5 KiB\n",
      "24/08/21 21:52:39 WARN DAGScheduler: Broadcasting large task binary with size 1054.5 KiB\n",
      "24/08/21 21:52:40 WARN DAGScheduler: Broadcasting large task binary with size 1056.8 KiB\n",
      "24/08/21 21:52:41 WARN DAGScheduler: Broadcasting large task binary with size 1059.5 KiB\n",
      "24/08/21 21:52:42 WARN DAGScheduler: Broadcasting large task binary with size 1060.0 KiB\n",
      "24/08/21 21:52:43 WARN DAGScheduler: Broadcasting large task binary with size 1060.7 KiB\n",
      "24/08/21 21:52:43 WARN DAGScheduler: Broadcasting large task binary with size 1061.7 KiB\n",
      "24/08/21 21:52:44 WARN DAGScheduler: Broadcasting large task binary with size 1063.9 KiB\n",
      "24/08/21 21:52:46 WARN DAGScheduler: Broadcasting large task binary with size 1066.6 KiB\n",
      "24/08/21 21:52:46 WARN DAGScheduler: Broadcasting large task binary with size 1067.1 KiB\n",
      "24/08/21 21:52:47 WARN DAGScheduler: Broadcasting large task binary with size 1067.8 KiB\n",
      "24/08/21 21:52:48 WARN DAGScheduler: Broadcasting large task binary with size 1068.8 KiB\n",
      "24/08/21 21:52:49 WARN DAGScheduler: Broadcasting large task binary with size 1071.0 KiB\n",
      "24/08/21 21:52:56 WARN DAGScheduler: Broadcasting large task binary with size 1061.9 KiB\n",
      "                                                                                \r"
     ]
    },
    {
     "name": "stdout",
     "output_type": "stream",
     "text": [
      "Accuracy on test data: 0.6933187294633077\n"
     ]
    },
    {
     "name": "stderr",
     "output_type": "stream",
     "text": [
      "                                                                                \r"
     ]
    },
    {
     "name": "stdout",
     "output_type": "stream",
     "text": [
      "Accuracy on test data: 0.6166666666666667\n"
     ]
    },
    {
     "name": "stderr",
     "output_type": "stream",
     "text": [
      "                                                                                \r"
     ]
    },
    {
     "name": "stdout",
     "output_type": "stream",
     "text": [
      "+--------------------+------+----------+\n",
      "|            features|target|prediction|\n",
      "+--------------------+------+----------+\n",
      "|[1.193454E7,1.575...|     0|       0.0|\n",
      "|[1.1956958E7,1.57...|     0|       1.0|\n",
      "|[1.1957405E7,1.57...|     1|       1.0|\n",
      "|[1.1943479E7,1.57...|     0|       0.0|\n",
      "|[1.1969957E7,1.57...|     0|       0.0|\n",
      "+--------------------+------+----------+\n",
      "only showing top 5 rows\n",
      "\n"
     ]
    },
    {
     "name": "stderr",
     "output_type": "stream",
     "text": [
      "24/08/21 21:56:59 WARN DAGScheduler: Broadcasting large task binary with size 1017.2 KiB\n",
      "24/08/21 21:57:17 WARN DAGScheduler: Broadcasting large task binary with size 1037.9 KiB\n",
      "                                                                                \r"
     ]
    },
    {
     "name": "stdout",
     "output_type": "stream",
     "text": [
      "Accuracy on test data: 0.6591397849462366\n"
     ]
    },
    {
     "name": "stderr",
     "output_type": "stream",
     "text": [
      "                                                                                \r"
     ]
    },
    {
     "name": "stdout",
     "output_type": "stream",
     "text": [
      "+--------------------+------+----------+\n",
      "|            features|target|prediction|\n",
      "+--------------------+------+----------+\n",
      "|[1.193454E7,1.575...|     0|       0.0|\n",
      "|[1.1956958E7,1.57...|     0|       1.0|\n",
      "|[1.1957405E7,1.57...|     1|       1.0|\n",
      "|[1.1943479E7,1.57...|     0|       0.0|\n",
      "|[1.1969957E7,1.57...|     0|       0.0|\n",
      "+--------------------+------+----------+\n",
      "only showing top 5 rows\n",
      "\n"
     ]
    },
    {
     "name": "stderr",
     "output_type": "stream",
     "text": [
      "                                                                                \r"
     ]
    },
    {
     "name": "stdout",
     "output_type": "stream",
     "text": [
      "Accuracy on test data: 0.621505376344086\n"
     ]
    },
    {
     "name": "stderr",
     "output_type": "stream",
     "text": [
      "                                                                                \r"
     ]
    },
    {
     "name": "stdout",
     "output_type": "stream",
     "text": [
      "+--------------------+------+----------+\n",
      "|            features|target|prediction|\n",
      "+--------------------+------+----------+\n",
      "|[1.193454E7,1.575...|     0|       0.0|\n",
      "|[1.1956958E7,1.57...|     0|       1.0|\n",
      "|[1.1957405E7,1.57...|     1|       1.0|\n",
      "|[1.1943479E7,1.57...|     0|       0.0|\n",
      "|[1.1969957E7,1.57...|     0|       0.0|\n",
      "+--------------------+------+----------+\n",
      "only showing top 5 rows\n",
      "\n"
     ]
    },
    {
     "name": "stderr",
     "output_type": "stream",
     "text": [
      "                                                                                \r"
     ]
    },
    {
     "name": "stdout",
     "output_type": "stream",
     "text": [
      "Accuracy on test data: 0.617741935483871\n"
     ]
    },
    {
     "name": "stderr",
     "output_type": "stream",
     "text": [
      "\r",
      "[Stage 14886:>                                                      (0 + 1) / 1]\r"
     ]
    },
    {
     "name": "stdout",
     "output_type": "stream",
     "text": [
      "+--------------------+------+----------+\n",
      "|            features|target|prediction|\n",
      "+--------------------+------+----------+\n",
      "|[1.193454E7,1.575...|     0|       0.0|\n",
      "|[1.1956958E7,1.57...|     0|       1.0|\n",
      "|[1.1957405E7,1.57...|     1|       1.0|\n",
      "|[1.1943479E7,1.57...|     0|       0.0|\n",
      "|[1.1969957E7,1.57...|     0|       0.0|\n",
      "+--------------------+------+----------+\n",
      "only showing top 5 rows\n",
      "\n"
     ]
    },
    {
     "name": "stderr",
     "output_type": "stream",
     "text": [
      "\r",
      "                                                                                \r"
     ]
    },
    {
     "data": {
      "image/png": "[encoded data removed]",
      "text/plain": [
       "<Figure size 864x576 with 1 Axes>"
      ]
     },
     "metadata": {
      "needs_background": "light"
     },
     "output_type": "display_data"
    },
    {
     "name": "stdout",
     "output_type": "stream",
     "text": [
      "added features\n"
     ]
    },
    {
     "name": "stderr",
     "output_type": "stream",
     "text": [
      "                                                                                \r"
     ]
    },
    {
     "name": "stdout",
     "output_type": "stream",
     "text": [
      "fill NA in cols\n"
     ]
    },
    {
     "name": "stderr",
     "output_type": "stream",
     "text": [
      "                                                                                \r"
     ]
    },
    {
     "name": "stdout",
     "output_type": "stream",
     "text": [
      "convert string cols\n",
      "sumerize features\n"
     ]
    },
    {
     "name": "stderr",
     "output_type": "stream",
     "text": [
      "24/08/21 22:03:20 WARN InternalKafkaConsumerPool: Pool exceeds its soft max size, cleaning up idle objects...\n",
      "                                                                                \r"
     ]
    },
    {
     "name": "stdout",
     "output_type": "stream",
     "text": [
      "remove redundant features\n"
     ]
    },
    {
     "name": "stderr",
     "output_type": "stream",
     "text": [
      "24/08/21 22:04:34 WARN DAGScheduler: Broadcasting large task binary with size 1162.4 KiB\n",
      "24/08/21 22:06:23 WARN DAGScheduler: Broadcasting large task binary with size 1175.2 KiB\n",
      "24/08/21 22:06:27 WARN DAGScheduler: Broadcasting large task binary with size 1181.6 KiB\n",
      "                                                                                \r"
     ]
    },
    {
     "name": "stdout",
     "output_type": "stream",
     "text": [
      "Accuracy: 51.52%\n"
     ]
    },
    {
     "name": "stderr",
     "output_type": "stream",
     "text": [
      "24/08/21 22:07:08 WARN DAGScheduler: Broadcasting large task binary with size 1001.3 KiB\n",
      "24/08/21 22:07:09 WARN DAGScheduler: Broadcasting large task binary with size 1003.2 KiB\n",
      "24/08/21 22:07:10 WARN DAGScheduler: Broadcasting large task binary with size 1003.7 KiB\n",
      "24/08/21 22:07:11 WARN DAGScheduler: Broadcasting large task binary with size 1004.4 KiB\n",
      "24/08/21 22:07:12 WARN DAGScheduler: Broadcasting large task binary with size 1005.1 KiB\n",
      "24/08/21 22:07:12 WARN DAGScheduler: Broadcasting large task binary with size 1006.5 KiB\n",
      "24/08/21 22:07:13 WARN DAGScheduler: Broadcasting large task binary with size 1008.7 KiB\n",
      "24/08/21 22:07:14 WARN DAGScheduler: Broadcasting large task binary with size 1009.2 KiB\n",
      "24/08/21 22:07:15 WARN DAGScheduler: Broadcasting large task binary with size 1009.9 KiB\n",
      "24/08/21 22:07:16 WARN DAGScheduler: Broadcasting large task binary with size 1010.9 KiB\n",
      "24/08/21 22:07:17 WARN DAGScheduler: Broadcasting large task binary with size 1013.1 KiB\n",
      "24/08/21 22:07:18 WARN DAGScheduler: Broadcasting large task binary with size 1015.5 KiB\n",
      "24/08/21 22:07:19 WARN DAGScheduler: Broadcasting large task binary with size 1016.0 KiB\n",
      "24/08/21 22:07:20 WARN DAGScheduler: Broadcasting large task binary with size 1016.7 KiB\n",
      "24/08/21 22:07:21 WARN DAGScheduler: Broadcasting large task binary with size 1017.7 KiB\n",
      "24/08/21 22:07:22 WARN DAGScheduler: Broadcasting large task binary with size 1019.9 KiB\n",
      "24/08/21 22:07:23 WARN DAGScheduler: Broadcasting large task binary with size 1022.0 KiB\n",
      "24/08/21 22:07:24 WARN DAGScheduler: Broadcasting large task binary with size 1022.5 KiB\n",
      "24/08/21 22:07:25 WARN DAGScheduler: Broadcasting large task binary with size 1023.2 KiB\n",
      "24/08/21 22:07:25 WARN DAGScheduler: Broadcasting large task binary with size 1024.2 KiB\n",
      "24/08/21 22:07:26 WARN DAGScheduler: Broadcasting large task binary with size 1026.4 KiB\n",
      "24/08/21 22:07:28 WARN DAGScheduler: Broadcasting large task binary with size 1028.6 KiB\n",
      "24/08/21 22:07:28 WARN DAGScheduler: Broadcasting large task binary with size 1029.1 KiB\n",
      "24/08/21 22:07:29 WARN DAGScheduler: Broadcasting large task binary with size 1029.8 KiB\n",
      "24/08/21 22:07:30 WARN DAGScheduler: Broadcasting large task binary with size 1030.5 KiB\n",
      "24/08/21 22:07:31 WARN DAGScheduler: Broadcasting large task binary with size 1031.9 KiB\n",
      "24/08/21 22:07:32 WARN DAGScheduler: Broadcasting large task binary with size 1034.1 KiB\n",
      "24/08/21 22:07:33 WARN DAGScheduler: Broadcasting large task binary with size 1034.6 KiB\n",
      "24/08/21 22:07:34 WARN DAGScheduler: Broadcasting large task binary with size 1035.3 KiB\n",
      "24/08/21 22:07:35 WARN DAGScheduler: Broadcasting large task binary with size 1036.3 KiB\n",
      "24/08/21 22:07:36 WARN DAGScheduler: Broadcasting large task binary with size 1038.6 KiB\n",
      "24/08/21 22:07:37 WARN DAGScheduler: Broadcasting large task binary with size 1041.1 KiB\n",
      "24/08/21 22:07:38 WARN DAGScheduler: Broadcasting large task binary with size 1041.6 KiB\n",
      "24/08/21 22:07:39 WARN DAGScheduler: Broadcasting large task binary with size 1042.3 KiB\n",
      "24/08/21 22:07:40 WARN DAGScheduler: Broadcasting large task binary with size 1043.3 KiB\n",
      "24/08/21 22:07:41 WARN DAGScheduler: Broadcasting large task binary with size 1045.0 KiB\n",
      "24/08/21 22:07:42 WARN DAGScheduler: Broadcasting large task binary with size 1047.1 KiB\n",
      "24/08/21 22:07:43 WARN DAGScheduler: Broadcasting large task binary with size 1047.6 KiB\n",
      "24/08/21 22:07:44 WARN DAGScheduler: Broadcasting large task binary with size 1048.3 KiB\n",
      "24/08/21 22:07:45 WARN DAGScheduler: Broadcasting large task binary with size 1049.3 KiB\n",
      "24/08/21 22:07:46 WARN DAGScheduler: Broadcasting large task binary with size 1051.2 KiB\n",
      "24/08/21 22:07:47 WARN DAGScheduler: Broadcasting large task binary with size 1053.4 KiB\n",
      "24/08/21 22:07:48 WARN DAGScheduler: Broadcasting large task binary with size 1053.9 KiB\n",
      "24/08/21 22:07:49 WARN DAGScheduler: Broadcasting large task binary with size 1054.6 KiB\n",
      "24/08/21 22:07:50 WARN DAGScheduler: Broadcasting large task binary with size 1055.6 KiB\n",
      "24/08/21 22:07:51 WARN DAGScheduler: Broadcasting large task binary with size 1057.9 KiB\n",
      "24/08/21 22:07:52 WARN DAGScheduler: Broadcasting large task binary with size 1060.4 KiB\n",
      "24/08/21 22:07:53 WARN DAGScheduler: Broadcasting large task binary with size 1060.9 KiB\n",
      "24/08/21 22:07:54 WARN DAGScheduler: Broadcasting large task binary with size 1061.6 KiB\n",
      "24/08/21 22:07:55 WARN DAGScheduler: Broadcasting large task binary with size 1062.6 KiB\n",
      "24/08/21 22:07:56 WARN DAGScheduler: Broadcasting large task binary with size 1064.8 KiB\n",
      "24/08/21 22:07:57 WARN DAGScheduler: Broadcasting large task binary with size 1067.0 KiB\n",
      "24/08/21 22:07:58 WARN DAGScheduler: Broadcasting large task binary with size 1067.5 KiB\n",
      "24/08/21 22:07:59 WARN DAGScheduler: Broadcasting large task binary with size 1068.2 KiB\n",
      "24/08/21 22:08:00 WARN DAGScheduler: Broadcasting large task binary with size 1069.2 KiB\n",
      "24/08/21 22:08:01 WARN DAGScheduler: Broadcasting large task binary with size 1071.5 KiB\n",
      "24/08/21 22:08:02 WARN DAGScheduler: Broadcasting large task binary with size 1074.0 KiB\n",
      "24/08/21 22:08:03 WARN DAGScheduler: Broadcasting large task binary with size 1074.5 KiB\n",
      "24/08/21 22:08:04 WARN DAGScheduler: Broadcasting large task binary with size 1075.2 KiB\n",
      "24/08/21 22:08:05 WARN DAGScheduler: Broadcasting large task binary with size 1076.2 KiB\n",
      "24/08/21 22:08:06 WARN DAGScheduler: Broadcasting large task binary with size 1078.5 KiB\n",
      "24/08/21 22:08:07 WARN DAGScheduler: Broadcasting large task binary with size 1081.0 KiB\n",
      "24/08/21 22:08:08 WARN DAGScheduler: Broadcasting large task binary with size 1081.4 KiB\n",
      "24/08/21 22:08:08 WARN DAGScheduler: Broadcasting large task binary with size 1082.0 KiB\n",
      "24/08/21 22:08:09 WARN DAGScheduler: Broadcasting large task binary with size 1082.9 KiB\n",
      "24/08/21 22:08:10 WARN DAGScheduler: Broadcasting large task binary with size 1084.6 KiB\n",
      "24/08/21 22:08:11 WARN DAGScheduler: Broadcasting large task binary with size 1086.8 KiB\n",
      "24/08/21 22:08:12 WARN DAGScheduler: Broadcasting large task binary with size 1087.3 KiB\n",
      "24/08/21 22:08:13 WARN DAGScheduler: Broadcasting large task binary with size 1088.0 KiB\n",
      "24/08/21 22:08:15 WARN DAGScheduler: Broadcasting large task binary with size 1089.0 KiB\n",
      "24/08/21 22:08:16 WARN DAGScheduler: Broadcasting large task binary with size 1091.3 KiB\n",
      "24/08/21 22:08:23 WARN DAGScheduler: Broadcasting large task binary with size 1082.2 KiB\n",
      "                                                                                \r"
     ]
    },
    {
     "name": "stdout",
     "output_type": "stream",
     "text": [
      "Accuracy on test data: 0.7489361702127659\n"
     ]
    },
    {
     "name": "stderr",
     "output_type": "stream",
     "text": [
      "                                                                                \r"
     ]
    },
    {
     "name": "stdout",
     "output_type": "stream",
     "text": [
      "Accuracy on test data: 0.5925531914893617\n"
     ]
    },
    {
     "name": "stderr",
     "output_type": "stream",
     "text": [
      "                                                                                \r"
     ]
    },
    {
     "name": "stdout",
     "output_type": "stream",
     "text": [
      "+--------------------+------+----------+\n",
      "|            features|target|prediction|\n",
      "+--------------------+------+----------+\n",
      "|[1.1946955E7,1.57...|     0|       1.0|\n",
      "|[1.1880156E7,1.57...|     1|       1.0|\n",
      "|[1.1983591E7,1.57...|     0|       1.0|\n",
      "|[1.1948791E7,1.57...|     1|       0.0|\n",
      "|[1.1977431E7,1.57...|     1|       1.0|\n",
      "+--------------------+------+----------+\n",
      "only showing top 5 rows\n",
      "\n"
     ]
    },
    {
     "name": "stderr",
     "output_type": "stream",
     "text": [
      "24/08/21 22:12:36 WARN DAGScheduler: Broadcasting large task binary with size 1001.8 KiB\n",
      "24/08/21 22:12:37 WARN DAGScheduler: Broadcasting large task binary with size 1044.0 KiB\n",
      "24/08/21 22:12:55 WARN DAGScheduler: Broadcasting large task binary with size 1062.1 KiB\n",
      "                                                                                \r"
     ]
    },
    {
     "name": "stdout",
     "output_type": "stream",
     "text": [
      "Accuracy on test data: 0.6196808510638298\n"
     ]
    },
    {
     "name": "stderr",
     "output_type": "stream",
     "text": [
      "                                                                                \r"
     ]
    },
    {
     "name": "stdout",
     "output_type": "stream",
     "text": [
      "+--------------------+------+----------+\n",
      "|            features|target|prediction|\n",
      "+--------------------+------+----------+\n",
      "|[1.1946955E7,1.57...|     0|       1.0|\n",
      "|[1.1880156E7,1.57...|     1|       1.0|\n",
      "|[1.1983591E7,1.57...|     0|       1.0|\n",
      "|[1.1948791E7,1.57...|     1|       1.0|\n",
      "|[1.1977431E7,1.57...|     1|       1.0|\n",
      "+--------------------+------+----------+\n",
      "only showing top 5 rows\n",
      "\n"
     ]
    },
    {
     "name": "stderr",
     "output_type": "stream",
     "text": [
      "                                                                                \r"
     ]
    },
    {
     "name": "stdout",
     "output_type": "stream",
     "text": [
      "Accuracy on test data: 0.592901878914405\n"
     ]
    },
    {
     "name": "stderr",
     "output_type": "stream",
     "text": [
      "                                                                                \r"
     ]
    },
    {
     "name": "stdout",
     "output_type": "stream",
     "text": [
      "+--------------------+------+----------+\n",
      "|            features|target|prediction|\n",
      "+--------------------+------+----------+\n",
      "|[1.1891437E7,1.57...|     1|       1.0|\n",
      "|[1.1972148E7,1.57...|     1|       0.0|\n",
      "|[1.1979247E7,1.57...|     1|       1.0|\n",
      "|[1.1909911E7,1.57...|     0|       1.0|\n",
      "|[1.1887942E7,1.57...|     1|       1.0|\n",
      "+--------------------+------+----------+\n",
      "only showing top 5 rows\n",
      "\n"
     ]
    },
    {
     "name": "stderr",
     "output_type": "stream",
     "text": [
      "                                                                                \r"
     ]
    },
    {
     "name": "stdout",
     "output_type": "stream",
     "text": [
      "Accuracy on test data: 0.5944676409185804\n"
     ]
    },
    {
     "name": "stderr",
     "output_type": "stream",
     "text": [
      "\r",
      "[Stage 17390:>                                                      (0 + 1) / 1]\r"
     ]
    },
    {
     "name": "stdout",
     "output_type": "stream",
     "text": [
      "+--------------------+------+----------+\n",
      "|            features|target|prediction|\n",
      "+--------------------+------+----------+\n",
      "|[1.1891437E7,1.57...|     1|       1.0|\n",
      "|[1.1972148E7,1.57...|     1|       1.0|\n",
      "|[1.1979247E7,1.57...|     1|       1.0|\n",
      "|[1.1909911E7,1.57...|     0|       1.0|\n",
      "|[1.1887942E7,1.57...|     1|       1.0|\n",
      "+--------------------+------+----------+\n",
      "only showing top 5 rows\n",
      "\n"
     ]
    },
    {
     "name": "stderr",
     "output_type": "stream",
     "text": [
      "\r",
      "                                                                                \r"
     ]
    },
    {
     "data": {
      "image/png": "[encoded data removed]",
      "text/plain": [
       "<Figure size 864x576 with 1 Axes>"
      ]
     },
     "metadata": {
      "needs_background": "light"
     },
     "output_type": "display_data"
    },
    {
     "name": "stdout",
     "output_type": "stream",
     "text": [
      "added features\n"
     ]
    },
    {
     "name": "stderr",
     "output_type": "stream",
     "text": [
      "                                                                                \r"
     ]
    },
    {
     "name": "stdout",
     "output_type": "stream",
     "text": [
      "fill NA in cols\n"
     ]
    },
    {
     "name": "stderr",
     "output_type": "stream",
     "text": [
      "                                                                                \r"
     ]
    },
    {
     "name": "stdout",
     "output_type": "stream",
     "text": [
      "convert string cols\n",
      "sumerize features\n"
     ]
    },
    {
     "name": "stderr",
     "output_type": "stream",
     "text": [
      "                                                                                \r"
     ]
    },
    {
     "name": "stdout",
     "output_type": "stream",
     "text": [
      "remove redundant features\n"
     ]
    },
    {
     "name": "stderr",
     "output_type": "stream",
     "text": [
      "24/08/21 22:20:27 WARN DAGScheduler: Broadcasting large task binary with size 1178.1 KiB\n",
      "24/08/21 22:22:27 WARN DAGScheduler: Broadcasting large task binary with size 1190.9 KiB\n",
      "24/08/21 22:22:32 WARN DAGScheduler: Broadcasting large task binary with size 1197.3 KiB\n",
      "                                                                                \r"
     ]
    },
    {
     "name": "stdout",
     "output_type": "stream",
     "text": [
      "Accuracy: 49.74%\n"
     ]
    },
    {
     "name": "stderr",
     "output_type": "stream",
     "text": [
      "24/08/21 22:23:00 WARN DAGScheduler: Broadcasting large task binary with size 1000.1 KiB\n",
      "24/08/21 22:23:01 WARN DAGScheduler: Broadcasting large task binary with size 1000.6 KiB\n",
      "24/08/21 22:23:02 WARN DAGScheduler: Broadcasting large task binary with size 1001.3 KiB\n",
      "24/08/21 22:23:03 WARN DAGScheduler: Broadcasting large task binary with size 1002.3 KiB\n",
      "24/08/21 22:23:04 WARN DAGScheduler: Broadcasting large task binary with size 1004.2 KiB\n",
      "24/08/21 22:23:05 WARN DAGScheduler: Broadcasting large task binary with size 1006.4 KiB\n",
      "24/08/21 22:23:07 WARN DAGScheduler: Broadcasting large task binary with size 1006.9 KiB\n",
      "24/08/21 22:23:08 WARN DAGScheduler: Broadcasting large task binary with size 1007.6 KiB\n",
      "24/08/21 22:23:09 WARN DAGScheduler: Broadcasting large task binary with size 1008.6 KiB\n",
      "24/08/21 22:23:10 WARN DAGScheduler: Broadcasting large task binary with size 1010.9 KiB\n",
      "24/08/21 22:23:11 WARN DAGScheduler: Broadcasting large task binary with size 1013.4 KiB\n",
      "24/08/21 22:23:12 WARN DAGScheduler: Broadcasting large task binary with size 1013.9 KiB\n",
      "24/08/21 22:23:13 WARN DAGScheduler: Broadcasting large task binary with size 1014.6 KiB\n",
      "24/08/21 22:23:14 WARN DAGScheduler: Broadcasting large task binary with size 1015.6 KiB\n",
      "24/08/21 22:23:15 WARN DAGScheduler: Broadcasting large task binary with size 1017.8 KiB\n",
      "24/08/21 22:23:16 WARN DAGScheduler: Broadcasting large task binary with size 1020.3 KiB\n",
      "24/08/21 22:23:17 WARN DAGScheduler: Broadcasting large task binary with size 1020.8 KiB\n",
      "24/08/21 22:23:18 WARN DAGScheduler: Broadcasting large task binary with size 1021.5 KiB\n",
      "24/08/21 22:23:19 WARN DAGScheduler: Broadcasting large task binary with size 1022.5 KiB\n",
      "24/08/21 22:23:20 WARN DAGScheduler: Broadcasting large task binary with size 1024.8 KiB\n",
      "24/08/21 22:23:21 WARN DAGScheduler: Broadcasting large task binary with size 1027.5 KiB\n",
      "24/08/21 22:23:22 WARN DAGScheduler: Broadcasting large task binary with size 1028.0 KiB\n",
      "24/08/21 22:23:23 WARN DAGScheduler: Broadcasting large task binary with size 1028.7 KiB\n",
      "24/08/21 22:23:24 WARN DAGScheduler: Broadcasting large task binary with size 1029.6 KiB\n",
      "24/08/21 22:23:25 WARN DAGScheduler: Broadcasting large task binary with size 1031.6 KiB\n",
      "24/08/21 22:23:26 WARN DAGScheduler: Broadcasting large task binary with size 1033.8 KiB\n",
      "24/08/21 22:23:28 WARN DAGScheduler: Broadcasting large task binary with size 1034.3 KiB\n",
      "24/08/21 22:23:29 WARN DAGScheduler: Broadcasting large task binary with size 1035.0 KiB\n",
      "24/08/21 22:23:29 WARN DAGScheduler: Broadcasting large task binary with size 1036.0 KiB\n",
      "24/08/21 22:23:31 WARN DAGScheduler: Broadcasting large task binary with size 1038.2 KiB\n",
      "24/08/21 22:23:32 WARN DAGScheduler: Broadcasting large task binary with size 1040.9 KiB\n",
      "24/08/21 22:23:33 WARN DAGScheduler: Broadcasting large task binary with size 1041.4 KiB\n",
      "24/08/21 22:23:34 WARN DAGScheduler: Broadcasting large task binary with size 1042.1 KiB\n",
      "24/08/21 22:23:34 WARN DAGScheduler: Broadcasting large task binary with size 1043.1 KiB\n",
      "24/08/21 22:23:36 WARN DAGScheduler: Broadcasting large task binary with size 1045.1 KiB\n",
      "24/08/21 22:23:37 WARN DAGScheduler: Broadcasting large task binary with size 1047.6 KiB\n",
      "24/08/21 22:23:38 WARN DAGScheduler: Broadcasting large task binary with size 1048.1 KiB\n",
      "24/08/21 22:23:38 WARN DAGScheduler: Broadcasting large task binary with size 1048.6 KiB\n",
      "24/08/21 22:23:39 WARN DAGScheduler: Broadcasting large task binary with size 1049.6 KiB\n",
      "24/08/21 22:23:40 WARN DAGScheduler: Broadcasting large task binary with size 1050.5 KiB\n",
      "24/08/21 22:23:41 WARN DAGScheduler: Broadcasting large task binary with size 1052.6 KiB\n",
      "24/08/21 22:23:42 WARN DAGScheduler: Broadcasting large task binary with size 1053.1 KiB\n",
      "24/08/21 22:23:43 WARN DAGScheduler: Broadcasting large task binary with size 1053.6 KiB\n",
      "24/08/21 22:23:44 WARN DAGScheduler: Broadcasting large task binary with size 1054.5 KiB\n",
      "24/08/21 22:23:45 WARN DAGScheduler: Broadcasting large task binary with size 1056.1 KiB\n",
      "24/08/21 22:23:46 WARN DAGScheduler: Broadcasting large task binary with size 1058.3 KiB\n",
      "24/08/21 22:23:47 WARN DAGScheduler: Broadcasting large task binary with size 1058.7 KiB\n",
      "24/08/21 22:23:48 WARN DAGScheduler: Broadcasting large task binary with size 1059.5 KiB\n",
      "24/08/21 22:23:49 WARN DAGScheduler: Broadcasting large task binary with size 1060.5 KiB\n",
      "24/08/21 22:23:50 WARN DAGScheduler: Broadcasting large task binary with size 1062.7 KiB\n",
      "24/08/21 22:23:51 WARN DAGScheduler: Broadcasting large task binary with size 1064.9 KiB\n",
      "24/08/21 22:23:52 WARN DAGScheduler: Broadcasting large task binary with size 1065.4 KiB\n",
      "24/08/21 22:23:54 WARN DAGScheduler: Broadcasting large task binary with size 1065.9 KiB\n",
      "24/08/21 22:23:55 WARN DAGScheduler: Broadcasting large task binary with size 1066.8 KiB\n",
      "24/08/21 22:23:56 WARN DAGScheduler: Broadcasting large task binary with size 1068.5 KiB\n",
      "24/08/21 22:23:57 WARN DAGScheduler: Broadcasting large task binary with size 1070.7 KiB\n",
      "24/08/21 22:23:58 WARN DAGScheduler: Broadcasting large task binary with size 1071.2 KiB\n",
      "24/08/21 22:24:00 WARN DAGScheduler: Broadcasting large task binary with size 1071.9 KiB\n",
      "24/08/21 22:24:01 WARN DAGScheduler: Broadcasting large task binary with size 1072.9 KiB\n",
      "24/08/21 22:24:03 WARN DAGScheduler: Broadcasting large task binary with size 1074.6 KiB\n",
      "24/08/21 22:24:04 WARN DAGScheduler: Broadcasting large task binary with size 1076.6 KiB\n",
      "24/08/21 22:24:05 WARN DAGScheduler: Broadcasting large task binary with size 1077.1 KiB\n",
      "24/08/21 22:24:07 WARN DAGScheduler: Broadcasting large task binary with size 1077.8 KiB\n",
      "24/08/21 22:24:08 WARN DAGScheduler: Broadcasting large task binary with size 1078.8 KiB\n",
      "24/08/21 22:24:09 WARN DAGScheduler: Broadcasting large task binary with size 1081.0 KiB\n",
      "24/08/21 22:24:10 WARN DAGScheduler: Broadcasting large task binary with size 1083.6 KiB\n",
      "24/08/21 22:24:12 WARN DAGScheduler: Broadcasting large task binary with size 1084.0 KiB\n",
      "24/08/21 22:24:13 WARN DAGScheduler: Broadcasting large task binary with size 1084.7 KiB\n",
      "24/08/21 22:24:14 WARN DAGScheduler: Broadcasting large task binary with size 1085.7 KiB\n",
      "24/08/21 22:24:15 WARN DAGScheduler: Broadcasting large task binary with size 1088.0 KiB\n",
      "24/08/21 22:24:16 WARN DAGScheduler: Broadcasting large task binary with size 1090.5 KiB\n",
      "24/08/21 22:24:18 WARN DAGScheduler: Broadcasting large task binary with size 1091.0 KiB\n",
      "24/08/21 22:24:20 WARN DAGScheduler: Broadcasting large task binary with size 1091.7 KiB\n",
      "24/08/21 22:24:21 WARN DAGScheduler: Broadcasting large task binary with size 1092.7 KiB\n",
      "24/08/21 22:24:22 WARN DAGScheduler: Broadcasting large task binary with size 1094.6 KiB\n",
      "24/08/21 22:24:23 WARN DAGScheduler: Broadcasting large task binary with size 1096.5 KiB\n",
      "24/08/21 22:24:25 WARN DAGScheduler: Broadcasting large task binary with size 1097.0 KiB\n",
      "24/08/21 22:24:26 WARN DAGScheduler: Broadcasting large task binary with size 1097.7 KiB\n",
      "24/08/21 22:24:27 WARN DAGScheduler: Broadcasting large task binary with size 1098.7 KiB\n",
      "24/08/21 22:24:28 WARN DAGScheduler: Broadcasting large task binary with size 1101.0 KiB\n",
      "24/08/21 22:24:29 WARN DAGScheduler: Broadcasting large task binary with size 1103.6 KiB\n",
      "24/08/21 22:24:31 WARN DAGScheduler: Broadcasting large task binary with size 1104.1 KiB\n",
      "24/08/21 22:24:32 WARN DAGScheduler: Broadcasting large task binary with size 1104.8 KiB\n",
      "24/08/21 22:24:33 WARN DAGScheduler: Broadcasting large task binary with size 1105.8 KiB\n",
      "24/08/21 22:24:34 WARN DAGScheduler: Broadcasting large task binary with size 1108.1 KiB\n",
      "24/08/21 22:24:41 WARN DAGScheduler: Broadcasting large task binary with size 1099.2 KiB\n",
      "                                                                                \r"
     ]
    },
    {
     "name": "stdout",
     "output_type": "stream",
     "text": [
      "Accuracy on test data: 0.6770996348461137\n"
     ]
    },
    {
     "name": "stderr",
     "output_type": "stream",
     "text": [
      "                                                                                \r"
     ]
    },
    {
     "name": "stdout",
     "output_type": "stream",
     "text": [
      "Accuracy on test data: 0.5849153412006157\n"
     ]
    },
    {
     "name": "stderr",
     "output_type": "stream",
     "text": [
      "                                                                                \r"
     ]
    },
    {
     "name": "stdout",
     "output_type": "stream",
     "text": [
      "+--------------------+------+----------+\n",
      "|            features|target|prediction|\n",
      "+--------------------+------+----------+\n",
      "|[1.1905314E7,1.57...|     0|       0.0|\n",
      "|[1.193362E7,1.575...|     1|       1.0|\n",
      "|[1.1878683E7,1.57...|     0|       1.0|\n",
      "|[1.1946269E7,1.57...|     0|       1.0|\n",
      "|[1.1877001E7,1.57...|     1|       1.0|\n",
      "+--------------------+------+----------+\n",
      "only showing top 5 rows\n",
      "\n"
     ]
    },
    {
     "name": "stderr",
     "output_type": "stream",
     "text": [
      "24/08/21 22:29:05 WARN DAGScheduler: Broadcasting large task binary with size 1017.5 KiB\n",
      "24/08/21 22:29:07 WARN DAGScheduler: Broadcasting large task binary with size 1059.4 KiB\n",
      "24/08/21 22:29:25 WARN DAGScheduler: Broadcasting large task binary with size 1075.3 KiB\n",
      "                                                                                \r"
     ]
    },
    {
     "name": "stdout",
     "output_type": "stream",
     "text": [
      "Accuracy on test data: 0.6187788609543355\n"
     ]
    },
    {
     "name": "stderr",
     "output_type": "stream",
     "text": [
      "                                                                                \r"
     ]
    },
    {
     "name": "stdout",
     "output_type": "stream",
     "text": [
      "+--------------------+------+----------+\n",
      "|            features|target|prediction|\n",
      "+--------------------+------+----------+\n",
      "|[1.1905314E7,1.57...|     0|       0.0|\n",
      "|[1.193362E7,1.575...|     1|       1.0|\n",
      "|[1.1878683E7,1.57...|     0|       1.0|\n",
      "|[1.1946269E7,1.57...|     0|       1.0|\n",
      "|[1.1877001E7,1.57...|     1|       1.0|\n",
      "+--------------------+------+----------+\n",
      "only showing top 5 rows\n",
      "\n"
     ]
    },
    {
     "name": "stderr",
     "output_type": "stream",
     "text": [
      "                                                                                \r"
     ]
    },
    {
     "name": "stdout",
     "output_type": "stream",
     "text": [
      "Accuracy on test data: 0.5895330938943047\n"
     ]
    },
    {
     "name": "stderr",
     "output_type": "stream",
     "text": [
      "                                                                                \r"
     ]
    },
    {
     "name": "stdout",
     "output_type": "stream",
     "text": [
      "+--------------------+------+----------+\n",
      "|            features|target|prediction|\n",
      "+--------------------+------+----------+\n",
      "|[1.1905314E7,1.57...|     0|       1.0|\n",
      "|[1.193362E7,1.575...|     1|       1.0|\n",
      "|[1.1878683E7,1.57...|     0|       1.0|\n",
      "|[1.1946269E7,1.57...|     0|       1.0|\n",
      "|[1.1877001E7,1.57...|     1|       1.0|\n",
      "+--------------------+------+----------+\n",
      "only showing top 5 rows\n",
      "\n"
     ]
    },
    {
     "name": "stderr",
     "output_type": "stream",
     "text": [
      "                                                                                \r"
     ]
    },
    {
     "name": "stdout",
     "output_type": "stream",
     "text": [
      "Accuracy on test data: 0.5961538461538461\n"
     ]
    },
    {
     "name": "stderr",
     "output_type": "stream",
     "text": [
      "\r",
      "[Stage 19879:>                                                      (0 + 1) / 1]\r"
     ]
    },
    {
     "name": "stdout",
     "output_type": "stream",
     "text": [
      "+--------------------+------+----------+\n",
      "|            features|target|prediction|\n",
      "+--------------------+------+----------+\n",
      "|[1.1891437E7,1.57...|     1|       1.0|\n",
      "|[1.1962809E7,1.57...|     1|       1.0|\n",
      "|[1.1874879E7,1.57...|     0|       1.0|\n",
      "|[1.1985556E7,1.57...|     0|       0.0|\n",
      "|[1.1935277E7,1.57...|     1|       1.0|\n",
      "+--------------------+------+----------+\n",
      "only showing top 5 rows\n",
      "\n"
     ]
    },
    {
     "name": "stderr",
     "output_type": "stream",
     "text": [
      "\r",
      "                                                                                \r"
     ]
    },
    {
     "data": {
      "image/png": "[encoded data removed]",
      "text/plain": [
       "<Figure size 864x576 with 1 Axes>"
      ]
     },
     "metadata": {
      "needs_background": "light"
     },
     "output_type": "display_data"
    },
    {
     "name": "stdout",
     "output_type": "stream",
     "text": [
      "added features\n"
     ]
    },
    {
     "name": "stderr",
     "output_type": "stream",
     "text": [
      "                                                                                \r"
     ]
    },
    {
     "name": "stdout",
     "output_type": "stream",
     "text": [
      "fill NA in cols\n"
     ]
    },
    {
     "name": "stderr",
     "output_type": "stream",
     "text": [
      "                                                                                \r"
     ]
    },
    {
     "name": "stdout",
     "output_type": "stream",
     "text": [
      "convert string cols\n",
      "sumerize features\n"
     ]
    },
    {
     "name": "stderr",
     "output_type": "stream",
     "text": [
      "                                                                                \r"
     ]
    },
    {
     "name": "stdout",
     "output_type": "stream",
     "text": [
      "remove redundant features\n"
     ]
    },
    {
     "name": "stderr",
     "output_type": "stream",
     "text": [
      "24/08/21 22:37:08 WARN DAGScheduler: Broadcasting large task binary with size 1202.6 KiB\n",
      "24/08/21 22:39:18 WARN DAGScheduler: Broadcasting large task binary with size 1215.4 KiB\n",
      "[Stage 20064:>                                                      (0 + 4) / 5]\r"
     ]
    },
    {
     "name": "stdout",
     "output_type": "stream",
     "text": [
      "[7811.874s][warning][gc,alloc] Executor task launch worker for task 2.0 in stage 20064.0 (TID 456547): Retried waiting for GCLocker too often allocating 8388610 words\n"
     ]
    },
    {
     "name": "stderr",
     "output_type": "stream",
     "text": [
      "24/08/21 22:39:20 WARN TaskMemoryManager: Failed to allocate a page (67108864 bytes), try again.\n",
      "24/08/21 22:39:21 WARN TaskMemoryManager: Failed to allocate a page (46110299 bytes), try again.\n",
      "24/08/21 22:39:21 ERROR Executor: Exception in task 2.0 in stage 20064.0 (TID 456547)\n",
      "org.apache.spark.memory.SparkOutOfMemoryError: [UNABLE_TO_ACQUIRE_MEMORY] Unable to acquire 65536 bytes of memory, got 0.\n",
      "\tat org.apache.spark.errors.SparkCoreErrors$.outOfMemoryError(SparkCoreErrors.scala:467)\n",
      "\tat org.apache.spark.errors.SparkCoreErrors.outOfMemoryError(SparkCoreErrors.scala)\n",
      "\tat org.apache.spark.memory.MemoryConsumer.throwOom(MemoryConsumer.java:157)\n",
      "\tat org.apache.spark.memory.MemoryConsumer.allocateArray(MemoryConsumer.java:98)\n",
      "\tat org.apache.spark.util.collection.unsafe.sort.UnsafeExternalSorter.growPointerArrayIfNecessary(UnsafeExternalSorter.java:415)\n",
      "\tat org.apache.spark.util.collection.unsafe.sort.UnsafeExternalSorter.allocateMemoryForRecordIfNecessary(UnsafeExternalSorter.java:449)\n",
      "\tat org.apache.spark.util.collection.unsafe.sort.UnsafeExternalSorter.insertRecord(UnsafeExternalSorter.java:487)\n",
      "\tat org.apache.spark.sql.execution.UnsafeExternalRowSorter.insertRow(UnsafeExternalRowSorter.java:138)\n",
      "\tat org.apache.spark.sql.catalyst.expressions.GeneratedClass$GeneratedIteratorForCodegenStage7.sort_addToSorter_0$(Unknown Source)\n",
      "\tat org.apache.spark.sql.catalyst.expressions.GeneratedClass$GeneratedIteratorForCodegenStage7.processNext(Unknown Source)\n",
      "\tat org.apache.spark.sql.execution.BufferedRowIterator.hasNext(BufferedRowIterator.java:43)\n",
      "\tat org.apache.spark.sql.execution.WholeStageCodegenEvaluatorFactory$WholeStageCodegenPartitionEvaluator$$anon$1.hasNext(WholeStageCodegenEvaluatorFactory.scala:43)\n",
      "\tat org.apache.spark.sql.execution.window.GroupedLimitIterator.fetchNextRow(WindowGroupLimitExec.scala:213)\n",
      "\tat org.apache.spark.sql.execution.window.GroupedLimitIterator.<init>(WindowGroupLimitExec.scala:219)\n",
      "\tat org.apache.spark.sql.execution.window.WindowGroupLimitEvaluatorFactory.$anonfun$createEvaluator$4(WindowGroupLimitEvaluatorFactory.scala:50)\n",
      "\tat org.apache.spark.sql.execution.window.WindowGroupLimitEvaluatorFactory$WindowGroupLimitPartitionEvaluator.eval(WindowGroupLimitEvaluatorFactory.scala:60)\n",
      "\tat org.apache.spark.sql.execution.window.WindowGroupLimitExec.$anonfun$doExecute$1(WindowGroupLimitExec.scala:89)\n",
      "\tat org.apache.spark.sql.execution.window.WindowGroupLimitExec.$anonfun$doExecute$1$adapted(WindowGroupLimitExec.scala:87)\n",
      "\tat org.apache.spark.rdd.RDD.$anonfun$mapPartitionsWithIndexInternal$2(RDD.scala:877)\n",
      "\tat org.apache.spark.rdd.RDD.$anonfun$mapPartitionsWithIndexInternal$2$adapted(RDD.scala:877)\n",
      "\tat org.apache.spark.rdd.MapPartitionsRDD.compute(MapPartitionsRDD.scala:52)\n",
      "\tat org.apache.spark.rdd.RDD.computeOrReadCheckpoint(RDD.scala:364)\n",
      "\tat org.apache.spark.rdd.RDD.iterator(RDD.scala:328)\n",
      "\tat org.apache.spark.rdd.MapPartitionsRDD.compute(MapPartitionsRDD.scala:52)\n",
      "\tat org.apache.spark.rdd.RDD.computeOrReadCheckpoint(RDD.scala:364)\n",
      "\tat org.apache.spark.rdd.RDD.iterator(RDD.scala:328)\n",
      "\tat org.apache.spark.rdd.MapPartitionsRDD.compute(MapPartitionsRDD.scala:52)\n",
      "\tat org.apache.spark.rdd.RDD.computeOrReadCheckpoint(RDD.scala:364)\n",
      "\tat org.apache.spark.rdd.RDD.iterator(RDD.scala:328)\n",
      "\tat org.apache.spark.rdd.MapPartitionsRDD.compute(MapPartitionsRDD.scala:52)\n",
      "\tat org.apache.spark.rdd.RDD.computeOrReadCheckpoint(RDD.scala:364)\n",
      "\tat org.apache.spark.rdd.RDD.iterator(RDD.scala:328)\n",
      "\tat org.apache.spark.shuffle.ShuffleWriteProcessor.write(ShuffleWriteProcessor.scala:59)\n",
      "\tat org.apache.spark.scheduler.ShuffleMapTask.runTask(ShuffleMapTask.scala:104)\n",
      "\tat org.apache.spark.scheduler.ShuffleMapTask.runTask(ShuffleMapTask.scala:54)\n",
      "\tat org.apache.spark.TaskContext.runTaskWithListeners(TaskContext.scala:161)\n",
      "\tat org.apache.spark.scheduler.Task.run(Task.scala:141)\n",
      "\tat org.apache.spark.executor.Executor$TaskRunner.$anonfun$run$4(Executor.scala:620)\n",
      "\tat org.apache.spark.util.SparkErrorUtils.tryWithSafeFinally(SparkErrorUtils.scala:64)\n",
      "\tat org.apache.spark.util.SparkErrorUtils.tryWithSafeFinally$(SparkErrorUtils.scala:61)\n",
      "\tat org.apache.spark.util.Utils$.tryWithSafeFinally(Utils.scala:94)\n",
      "\tat org.apache.spark.executor.Executor$TaskRunner.run(Executor.scala:623)\n",
      "\tat java.base/java.util.concurrent.ThreadPoolExecutor.runWorker(ThreadPoolExecutor.java:1128)\n",
      "\tat java.base/java.util.concurrent.ThreadPoolExecutor$Worker.run(ThreadPoolExecutor.java:628)\n",
      "\tat java.base/java.lang.Thread.run(Thread.java:829)\n",
      "24/08/21 22:39:22 WARN TaskMemoryManager: Failed to allocate a page (67108864 bytes), try again.\n",
      "24/08/21 22:39:22 WARN TaskMemoryManager: Failed to allocate a page (67108864 bytes), try again.\n",
      "24/08/21 22:39:22 WARN TaskSetManager: Lost task 2.0 in stage 20064.0 (TID 456547) (192.168.90.19 executor driver): org.apache.spark.memory.SparkOutOfMemoryError: [UNABLE_TO_ACQUIRE_MEMORY] Unable to acquire 65536 bytes of memory, got 0.\n",
      "\tat org.apache.spark.errors.SparkCoreErrors$.outOfMemoryError(SparkCoreErrors.scala:467)\n",
      "\tat org.apache.spark.errors.SparkCoreErrors.outOfMemoryError(SparkCoreErrors.scala)\n",
      "\tat org.apache.spark.memory.MemoryConsumer.throwOom(MemoryConsumer.java:157)\n",
      "\tat org.apache.spark.memory.MemoryConsumer.allocateArray(MemoryConsumer.java:98)\n",
      "\tat org.apache.spark.util.collection.unsafe.sort.UnsafeExternalSorter.growPointerArrayIfNecessary(UnsafeExternalSorter.java:415)\n",
      "\tat org.apache.spark.util.collection.unsafe.sort.UnsafeExternalSorter.allocateMemoryForRecordIfNecessary(UnsafeExternalSorter.java:449)\n",
      "\tat org.apache.spark.util.collection.unsafe.sort.UnsafeExternalSorter.insertRecord(UnsafeExternalSorter.java:487)\n",
      "\tat org.apache.spark.sql.execution.UnsafeExternalRowSorter.insertRow(UnsafeExternalRowSorter.java:138)\n",
      "\tat org.apache.spark.sql.catalyst.expressions.GeneratedClass$GeneratedIteratorForCodegenStage7.sort_addToSorter_0$(Unknown Source)\n",
      "\tat org.apache.spark.sql.catalyst.expressions.GeneratedClass$GeneratedIteratorForCodegenStage7.processNext(Unknown Source)\n",
      "\tat org.apache.spark.sql.execution.BufferedRowIterator.hasNext(BufferedRowIterator.java:43)\n",
      "\tat org.apache.spark.sql.execution.WholeStageCodegenEvaluatorFactory$WholeStageCodegenPartitionEvaluator$$anon$1.hasNext(WholeStageCodegenEvaluatorFactory.scala:43)\n",
      "\tat org.apache.spark.sql.execution.window.GroupedLimitIterator.fetchNextRow(WindowGroupLimitExec.scala:213)\n",
      "\tat org.apache.spark.sql.execution.window.GroupedLimitIterator.<init>(WindowGroupLimitExec.scala:219)\n",
      "\tat org.apache.spark.sql.execution.window.WindowGroupLimitEvaluatorFactory.$anonfun$createEvaluator$4(WindowGroupLimitEvaluatorFactory.scala:50)\n",
      "\tat org.apache.spark.sql.execution.window.WindowGroupLimitEvaluatorFactory$WindowGroupLimitPartitionEvaluator.eval(WindowGroupLimitEvaluatorFactory.scala:60)\n",
      "\tat org.apache.spark.sql.execution.window.WindowGroupLimitExec.$anonfun$doExecute$1(WindowGroupLimitExec.scala:89)\n",
      "\tat org.apache.spark.sql.execution.window.WindowGroupLimitExec.$anonfun$doExecute$1$adapted(WindowGroupLimitExec.scala:87)\n",
      "\tat org.apache.spark.rdd.RDD.$anonfun$mapPartitionsWithIndexInternal$2(RDD.scala:877)\n",
      "\tat org.apache.spark.rdd.RDD.$anonfun$mapPartitionsWithIndexInternal$2$adapted(RDD.scala:877)\n",
      "\tat org.apache.spark.rdd.MapPartitionsRDD.compute(MapPartitionsRDD.scala:52)\n",
      "\tat org.apache.spark.rdd.RDD.computeOrReadCheckpoint(RDD.scala:364)\n",
      "\tat org.apache.spark.rdd.RDD.iterator(RDD.scala:328)\n",
      "\tat org.apache.spark.rdd.MapPartitionsRDD.compute(MapPartitionsRDD.scala:52)\n",
      "\tat org.apache.spark.rdd.RDD.computeOrReadCheckpoint(RDD.scala:364)\n",
      "\tat org.apache.spark.rdd.RDD.iterator(RDD.scala:328)\n",
      "\tat org.apache.spark.rdd.MapPartitionsRDD.compute(MapPartitionsRDD.scala:52)\n",
      "\tat org.apache.spark.rdd.RDD.computeOrReadCheckpoint(RDD.scala:364)\n",
      "\tat org.apache.spark.rdd.RDD.iterator(RDD.scala:328)\n",
      "\tat org.apache.spark.rdd.MapPartitionsRDD.compute(MapPartitionsRDD.scala:52)\n",
      "\tat org.apache.spark.rdd.RDD.computeOrReadCheckpoint(RDD.scala:364)\n",
      "\tat org.apache.spark.rdd.RDD.iterator(RDD.scala:328)\n",
      "\tat org.apache.spark.shuffle.ShuffleWriteProcessor.write(ShuffleWriteProcessor.scala:59)\n",
      "\tat org.apache.spark.scheduler.ShuffleMapTask.runTask(ShuffleMapTask.scala:104)\n",
      "\tat org.apache.spark.scheduler.ShuffleMapTask.runTask(ShuffleMapTask.scala:54)\n",
      "\tat org.apache.spark.TaskContext.runTaskWithListeners(TaskContext.scala:161)\n",
      "\tat org.apache.spark.scheduler.Task.run(Task.scala:141)\n",
      "\tat org.apache.spark.executor.Executor$TaskRunner.$anonfun$run$4(Executor.scala:620)\n",
      "\tat org.apache.spark.util.SparkErrorUtils.tryWithSafeFinally(SparkErrorUtils.scala:64)\n",
      "\tat org.apache.spark.util.SparkErrorUtils.tryWithSafeFinally$(SparkErrorUtils.scala:61)\n",
      "\tat org.apache.spark.util.Utils$.tryWithSafeFinally(Utils.scala:94)\n",
      "\tat org.apache.spark.executor.Executor$TaskRunner.run(Executor.scala:623)\n",
      "\tat java.base/java.util.concurrent.ThreadPoolExecutor.runWorker(ThreadPoolExecutor.java:1128)\n",
      "\tat java.base/java.util.concurrent.ThreadPoolExecutor$Worker.run(ThreadPoolExecutor.java:628)\n",
      "\tat java.base/java.lang.Thread.run(Thread.java:829)\n",
      "\n",
      "24/08/21 22:39:22 ERROR TaskSetManager: Task 2 in stage 20064.0 failed 1 times; aborting job\n",
      "24/08/21 22:39:22 WARN TaskSetManager: Lost task 3.0 in stage 20064.0 (TID 456548) (192.168.90.19 executor driver): TaskKilled (Stage cancelled: Job aborted due to stage failure: Task 2 in stage 20064.0 failed 1 times, most recent failure: Lost task 2.0 in stage 20064.0 (TID 456547) (192.168.90.19 executor driver): org.apache.spark.memory.SparkOutOfMemoryError: [UNABLE_TO_ACQUIRE_MEMORY] Unable to acquire 65536 bytes of memory, got 0.\n",
      "\tat org.apache.spark.errors.SparkCoreErrors$.outOfMemoryError(SparkCoreErrors.scala:467)\n",
      "\tat org.apache.spark.errors.SparkCoreErrors.outOfMemoryError(SparkCoreErrors.scala)\n",
      "\tat org.apache.spark.memory.MemoryConsumer.throwOom(MemoryConsumer.java:157)\n",
      "\tat org.apache.spark.memory.MemoryConsumer.allocateArray(MemoryConsumer.java:98)\n",
      "\tat org.apache.spark.util.collection.unsafe.sort.UnsafeExternalSorter.growPointerArrayIfNecessary(UnsafeExternalSorter.java:415)\n",
      "\tat org.apache.spark.util.collection.unsafe.sort.UnsafeExternalSorter.allocateMemoryForRecordIfNecessary(UnsafeExternalSorter.java:449)\n",
      "\tat org.apache.spark.util.collection.unsafe.sort.UnsafeExternalSorter.insertRecord(UnsafeExternalSorter.java:487)\n",
      "\tat org.apache.spark.sql.execution.UnsafeExternalRowSorter.insertRow(UnsafeExternalRowSorter.java:138)\n",
      "\tat org.apache.spark.sql.catalyst.expressions.GeneratedClass$GeneratedIteratorForCodegenStage7.sort_addToSorter_0$(Unknown Source)\n",
      "\tat org.apache.spark.sql.catalyst.expressions.GeneratedClass$GeneratedIteratorForCodegenStage7.processNext(Unknown Source)\n",
      "\tat org.apache.spark.sql.execution.BufferedRowIterator.hasNext(BufferedRowIterator.java:43)\n",
      "\tat org.apache.spark.sql.execution.WholeStageCodegenEvaluatorFactory$WholeStageCodegenPartitionEvaluator$$anon$1.hasNext(WholeStageCodegenEvaluatorFactory.scala:43)\n",
      "\tat org.apache.spark.sql.execution.window.GroupedLimitIterator.fetchNextRow(WindowGroupLimitExec.scala:213)\n",
      "\tat org.apache.spark.sql.execution.window.GroupedLimitIterator.<init>(WindowGroupLimitExec.scala:219)\n",
      "\tat org.apache.spark.sql.execution.window.WindowGroupLimitEvaluatorFactory.$anonfun$createEvaluator$4(WindowGroupLimitEvaluatorFactory.scala:50)\n",
      "\tat org.apache.spark.sql.execution.window.WindowGroupLimitEvaluatorFactory$WindowGroupLimitPartitionEvaluator.eval(WindowGroupLimitEvaluatorFactory.scala:60)\n",
      "\tat org.apache.spark.sql.execution.window.WindowGroupLimitExec.$anonfun$doExecute$1(WindowGroupLimitExec.scala:89)\n",
      "\tat org.apache.spark.sql.execution.window.WindowGroupLimitExec.$anonfun$doExecute$1$adapted(WindowGroupLimitExec.scala:87)\n",
      "\tat org.apache.spark.rdd.RDD.$anonfun$mapPartitionsWithIndexInternal$2(RDD.scala:877)\n",
      "\tat org.apache.spark.rdd.RDD.$anonfun$mapPartitionsWithIndexInternal$2$adapted(RDD.scala:877)\n",
      "\tat org.apache.spark.rdd.MapPartitionsRDD.compute(MapPartitionsRDD.scala:52)\n",
      "\tat org.apache.spark.rdd.RDD.computeOrReadCheckpoint(RDD.scala:364)\n",
      "\tat org.apache.spark.rdd.RDD.iterator(RDD.scala:328)\n",
      "\tat org.apache.spark.rdd.MapPartitionsRDD.compute(MapPartitionsRDD.scala:52)\n",
      "\tat org.apache.spark.rdd.RDD.computeOrReadCheckpoint(RDD.scala:364)\n",
      "\tat org.apache.spark.rdd.RDD.iterator(RDD.scala:328)\n",
      "\tat org.apache.spark.rdd.MapPartitionsRDD.compute(MapPartitionsRDD.scala:52)\n",
      "\tat org.apache.spark.rdd.RDD.computeOrReadCheckpoint(RDD.scala:364)\n",
      "\tat org.apache.spark.rdd.RDD.iterator(RDD.scala:328)\n",
      "\tat org.apache.spark.rdd.MapPartitionsRDD.compute(MapPartitionsRDD.scala:52)\n",
      "\tat org.apache.spark.rdd.RDD.computeOrReadCheckpoint(RDD.scala:364)\n",
      "\tat org.apache.spark.rdd.RDD.iterator(RDD.scala:328)\n",
      "\tat org.apache.spark.shuffle.ShuffleWriteProcessor.write(ShuffleWriteProcessor.scala:59)\n",
      "\tat org.apache.spark.scheduler.ShuffleMapTask.runTask(ShuffleMapTask.scala:104)\n",
      "\tat org.apache.spark.scheduler.ShuffleMapTask.runTask(ShuffleMapTask.scala:54)\n",
      "\tat org.apache.spark.TaskContext.runTaskWithListeners(TaskContext.scala:161)\n",
      "\tat org.apache.spark.scheduler.Task.run(Task.scala:141)\n",
      "\tat org.apache.spark.executor.Executor$TaskRunner.$anonfun$run$4(Executor.scala:620)\n",
      "\tat org.apache.spark.util.SparkErrorUtils.tryWithSafeFinally(SparkErrorUtils.scala:64)\n",
      "\tat org.apache.spark.util.SparkErrorUtils.tryWithSafeFinally$(SparkErrorUtils.scala:61)\n",
      "\tat org.apache.spark.util.Utils$.tryWithSafeFinally(Utils.scala:94)\n",
      "\tat org.apache.spark.executor.Executor$TaskRunner.run(Executor.scala:623)\n",
      "\tat java.base/java.util.concurrent.ThreadPoolExecutor.runWorker(ThreadPoolExecutor.java:1128)\n",
      "\tat java.base/java.util.concurrent.ThreadPoolExecutor$Worker.run(ThreadPoolExecutor.java:628)\n",
      "\tat java.base/java.lang.Thread.run(Thread.java:829)\n",
      "\n",
      "Driver stacktrace:)\n",
      "24/08/21 22:39:22 WARN TaskSetManager: Lost task 0.0 in stage 20064.0 (TID 456545) (192.168.90.19 executor driver): TaskKilled (Stage cancelled: Job aborted due to stage failure: Task 2 in stage 20064.0 failed 1 times, most recent failure: Lost task 2.0 in stage 20064.0 (TID 456547) (192.168.90.19 executor driver): org.apache.spark.memory.SparkOutOfMemoryError: [UNABLE_TO_ACQUIRE_MEMORY] Unable to acquire 65536 bytes of memory, got 0.\n",
      "\tat org.apache.spark.errors.SparkCoreErrors$.outOfMemoryError(SparkCoreErrors.scala:467)\n",
      "\tat org.apache.spark.errors.SparkCoreErrors.outOfMemoryError(SparkCoreErrors.scala)\n",
      "\tat org.apache.spark.memory.MemoryConsumer.throwOom(MemoryConsumer.java:157)\n",
      "\tat org.apache.spark.memory.MemoryConsumer.allocateArray(MemoryConsumer.java:98)\n",
      "\tat org.apache.spark.util.collection.unsafe.sort.UnsafeExternalSorter.growPointerArrayIfNecessary(UnsafeExternalSorter.java:415)\n",
      "\tat org.apache.spark.util.collection.unsafe.sort.UnsafeExternalSorter.allocateMemoryForRecordIfNecessary(UnsafeExternalSorter.java:449)\n",
      "\tat org.apache.spark.util.collection.unsafe.sort.UnsafeExternalSorter.insertRecord(UnsafeExternalSorter.java:487)\n",
      "\tat org.apache.spark.sql.execution.UnsafeExternalRowSorter.insertRow(UnsafeExternalRowSorter.java:138)\n",
      "\tat org.apache.spark.sql.catalyst.expressions.GeneratedClass$GeneratedIteratorForCodegenStage7.sort_addToSorter_0$(Unknown Source)\n",
      "\tat org.apache.spark.sql.catalyst.expressions.GeneratedClass$GeneratedIteratorForCodegenStage7.processNext(Unknown Source)\n",
      "\tat org.apache.spark.sql.execution.BufferedRowIterator.hasNext(BufferedRowIterator.java:43)\n",
      "\tat org.apache.spark.sql.execution.WholeStageCodegenEvaluatorFactory$WholeStageCodegenPartitionEvaluator$$anon$1.hasNext(WholeStageCodegenEvaluatorFactory.scala:43)\n",
      "\tat org.apache.spark.sql.execution.window.GroupedLimitIterator.fetchNextRow(WindowGroupLimitExec.scala:213)\n",
      "\tat org.apache.spark.sql.execution.window.GroupedLimitIterator.<init>(WindowGroupLimitExec.scala:219)\n",
      "\tat org.apache.spark.sql.execution.window.WindowGroupLimitEvaluatorFactory.$anonfun$createEvaluator$4(WindowGroupLimitEvaluatorFactory.scala:50)\n",
      "\tat org.apache.spark.sql.execution.window.WindowGroupLimitEvaluatorFactory$WindowGroupLimitPartitionEvaluator.eval(WindowGroupLimitEvaluatorFactory.scala:60)\n",
      "\tat org.apache.spark.sql.execution.window.WindowGroupLimitExec.$anonfun$doExecute$1(WindowGroupLimitExec.scala:89)\n",
      "\tat org.apache.spark.sql.execution.window.WindowGroupLimitExec.$anonfun$doExecute$1$adapted(WindowGroupLimitExec.scala:87)\n",
      "\tat org.apache.spark.rdd.RDD.$anonfun$mapPartitionsWithIndexInternal$2(RDD.scala:877)\n",
      "\tat org.apache.spark.rdd.RDD.$anonfun$mapPartitionsWithIndexInternal$2$adapted(RDD.scala:877)\n",
      "\tat org.apache.spark.rdd.MapPartitionsRDD.compute(MapPartitionsRDD.scala:52)\n",
      "\tat org.apache.spark.rdd.RDD.computeOrReadCheckpoint(RDD.scala:364)\n",
      "\tat org.apache.spark.rdd.RDD.iterator(RDD.scala:328)\n",
      "\tat org.apache.spark.rdd.MapPartitionsRDD.compute(MapPartitionsRDD.scala:52)\n",
      "\tat org.apache.spark.rdd.RDD.computeOrReadCheckpoint(RDD.scala:364)\n",
      "\tat org.apache.spark.rdd.RDD.iterator(RDD.scala:328)\n",
      "\tat org.apache.spark.rdd.MapPartitionsRDD.compute(MapPartitionsRDD.scala:52)\n",
      "\tat org.apache.spark.rdd.RDD.computeOrReadCheckpoint(RDD.scala:364)\n",
      "\tat org.apache.spark.rdd.RDD.iterator(RDD.scala:328)\n",
      "\tat org.apache.spark.rdd.MapPartitionsRDD.compute(MapPartitionsRDD.scala:52)\n",
      "\tat org.apache.spark.rdd.RDD.computeOrReadCheckpoint(RDD.scala:364)\n",
      "\tat org.apache.spark.rdd.RDD.iterator(RDD.scala:328)\n",
      "\tat org.apache.spark.shuffle.ShuffleWriteProcessor.write(ShuffleWriteProcessor.scala:59)\n",
      "\tat org.apache.spark.scheduler.ShuffleMapTask.runTask(ShuffleMapTask.scala:104)\n",
      "\tat org.apache.spark.scheduler.ShuffleMapTask.runTask(ShuffleMapTask.scala:54)\n",
      "\tat org.apache.spark.TaskContext.runTaskWithListeners(TaskContext.scala:161)\n",
      "\tat org.apache.spark.scheduler.Task.run(Task.scala:141)\n",
      "\tat org.apache.spark.executor.Executor$TaskRunner.$anonfun$run$4(Executor.scala:620)\n",
      "\tat org.apache.spark.util.SparkErrorUtils.tryWithSafeFinally(SparkErrorUtils.scala:64)\n",
      "\tat org.apache.spark.util.SparkErrorUtils.tryWithSafeFinally$(SparkErrorUtils.scala:61)\n",
      "\tat org.apache.spark.util.Utils$.tryWithSafeFinally(Utils.scala:94)\n",
      "\tat org.apache.spark.executor.Executor$TaskRunner.run(Executor.scala:623)\n",
      "\tat java.base/java.util.concurrent.ThreadPoolExecutor.runWorker(ThreadPoolExecutor.java:1128)\n",
      "\tat java.base/java.util.concurrent.ThreadPoolExecutor$Worker.run(ThreadPoolExecutor.java:628)\n",
      "\tat java.base/java.lang.Thread.run(Thread.java:829)\n",
      "\n",
      "Driver stacktrace:)\n",
      "24/08/21 22:39:22 WARN TaskSetManager: Lost task 1.0 in stage 20064.0 (TID 456546) (192.168.90.19 executor driver): TaskKilled (Stage cancelled: Job aborted due to stage failure: Task 2 in stage 20064.0 failed 1 times, most recent failure: Lost task 2.0 in stage 20064.0 (TID 456547) (192.168.90.19 executor driver): org.apache.spark.memory.SparkOutOfMemoryError: [UNABLE_TO_ACQUIRE_MEMORY] Unable to acquire 65536 bytes of memory, got 0.\n",
      "\tat org.apache.spark.errors.SparkCoreErrors$.outOfMemoryError(SparkCoreErrors.scala:467)\n",
      "\tat org.apache.spark.errors.SparkCoreErrors.outOfMemoryError(SparkCoreErrors.scala)\n",
      "\tat org.apache.spark.memory.MemoryConsumer.throwOom(MemoryConsumer.java:157)\n",
      "\tat org.apache.spark.memory.MemoryConsumer.allocateArray(MemoryConsumer.java:98)\n",
      "\tat org.apache.spark.util.collection.unsafe.sort.UnsafeExternalSorter.growPointerArrayIfNecessary(UnsafeExternalSorter.java:415)\n",
      "\tat org.apache.spark.util.collection.unsafe.sort.UnsafeExternalSorter.allocateMemoryForRecordIfNecessary(UnsafeExternalSorter.java:449)\n",
      "\tat org.apache.spark.util.collection.unsafe.sort.UnsafeExternalSorter.insertRecord(UnsafeExternalSorter.java:487)\n",
      "\tat org.apache.spark.sql.execution.UnsafeExternalRowSorter.insertRow(UnsafeExternalRowSorter.java:138)\n",
      "\tat org.apache.spark.sql.catalyst.expressions.GeneratedClass$GeneratedIteratorForCodegenStage7.sort_addToSorter_0$(Unknown Source)\n",
      "\tat org.apache.spark.sql.catalyst.expressions.GeneratedClass$GeneratedIteratorForCodegenStage7.processNext(Unknown Source)\n",
      "\tat org.apache.spark.sql.execution.BufferedRowIterator.hasNext(BufferedRowIterator.java:43)\n",
      "\tat org.apache.spark.sql.execution.WholeStageCodegenEvaluatorFactory$WholeStageCodegenPartitionEvaluator$$anon$1.hasNext(WholeStageCodegenEvaluatorFactory.scala:43)\n",
      "\tat org.apache.spark.sql.execution.window.GroupedLimitIterator.fetchNextRow(WindowGroupLimitExec.scala:213)\n",
      "\tat org.apache.spark.sql.execution.window.GroupedLimitIterator.<init>(WindowGroupLimitExec.scala:219)\n",
      "\tat org.apache.spark.sql.execution.window.WindowGroupLimitEvaluatorFactory.$anonfun$createEvaluator$4(WindowGroupLimitEvaluatorFactory.scala:50)\n",
      "\tat org.apache.spark.sql.execution.window.WindowGroupLimitEvaluatorFactory$WindowGroupLimitPartitionEvaluator.eval(WindowGroupLimitEvaluatorFactory.scala:60)\n",
      "\tat org.apache.spark.sql.execution.window.WindowGroupLimitExec.$anonfun$doExecute$1(WindowGroupLimitExec.scala:89)\n",
      "\tat org.apache.spark.sql.execution.window.WindowGroupLimitExec.$anonfun$doExecute$1$adapted(WindowGroupLimitExec.scala:87)\n",
      "\tat org.apache.spark.rdd.RDD.$anonfun$mapPartitionsWithIndexInternal$2(RDD.scala:877)\n",
      "\tat org.apache.spark.rdd.RDD.$anonfun$mapPartitionsWithIndexInternal$2$adapted(RDD.scala:877)\n",
      "\tat org.apache.spark.rdd.MapPartitionsRDD.compute(MapPartitionsRDD.scala:52)\n",
      "\tat org.apache.spark.rdd.RDD.computeOrReadCheckpoint(RDD.scala:364)\n",
      "\tat org.apache.spark.rdd.RDD.iterator(RDD.scala:328)\n",
      "\tat org.apache.spark.rdd.MapPartitionsRDD.compute(MapPartitionsRDD.scala:52)\n",
      "\tat org.apache.spark.rdd.RDD.computeOrReadCheckpoint(RDD.scala:364)\n",
      "\tat org.apache.spark.rdd.RDD.iterator(RDD.scala:328)\n",
      "\tat org.apache.spark.rdd.MapPartitionsRDD.compute(MapPartitionsRDD.scala:52)\n",
      "\tat org.apache.spark.rdd.RDD.computeOrReadCheckpoint(RDD.scala:364)\n",
      "\tat org.apache.spark.rdd.RDD.iterator(RDD.scala:328)\n",
      "\tat org.apache.spark.rdd.MapPartitionsRDD.compute(MapPartitionsRDD.scala:52)\n",
      "\tat org.apache.spark.rdd.RDD.computeOrReadCheckpoint(RDD.scala:364)\n",
      "\tat org.apache.spark.rdd.RDD.iterator(RDD.scala:328)\n",
      "\tat org.apache.spark.shuffle.ShuffleWriteProcessor.write(ShuffleWriteProcessor.scala:59)\n",
      "\tat org.apache.spark.scheduler.ShuffleMapTask.runTask(ShuffleMapTask.scala:104)\n",
      "\tat org.apache.spark.scheduler.ShuffleMapTask.runTask(ShuffleMapTask.scala:54)\n",
      "\tat org.apache.spark.TaskContext.runTaskWithListeners(TaskContext.scala:161)\n",
      "\tat org.apache.spark.scheduler.Task.run(Task.scala:141)\n",
      "\tat org.apache.spark.executor.Executor$TaskRunner.$anonfun$run$4(Executor.scala:620)\n",
      "\tat org.apache.spark.util.SparkErrorUtils.tryWithSafeFinally(SparkErrorUtils.scala:64)\n",
      "\tat org.apache.spark.util.SparkErrorUtils.tryWithSafeFinally$(SparkErrorUtils.scala:61)\n",
      "\tat org.apache.spark.util.Utils$.tryWithSafeFinally(Utils.scala:94)\n",
      "\tat org.apache.spark.executor.Executor$TaskRunner.run(Executor.scala:623)\n",
      "\tat java.base/java.util.concurrent.ThreadPoolExecutor.runWorker(ThreadPoolExecutor.java:1128)\n",
      "\tat java.base/java.util.concurrent.ThreadPoolExecutor$Worker.run(ThreadPoolExecutor.java:628)\n",
      "\tat java.base/java.lang.Thread.run(Thread.java:829)\n",
      "\n",
      "Driver stacktrace:)\n"
     ]
    },
    {
     "name": "stderr",
     "output_type": "stream",
     "text": [
      "[Stage 20064:>                                                      (0 + 1) / 5]\r",
      "24/08/21 22:39:23 WARN TaskSetManager: Lost task 4.0 in stage 20064.0 (TID 456549) (192.168.90.19 executor driver): TaskKilled (Stage cancelled: Job aborted due to stage failure: Task 2 in stage 20064.0 failed 1 times, most recent failure: Lost task 2.0 in stage 20064.0 (TID 456547) (192.168.90.19 executor driver): org.apache.spark.memory.SparkOutOfMemoryError: [UNABLE_TO_ACQUIRE_MEMORY] Unable to acquire 65536 bytes of memory, got 0.\n",
      "\tat org.apache.spark.errors.SparkCoreErrors$.outOfMemoryError(SparkCoreErrors.scala:467)\n",
      "\tat org.apache.spark.errors.SparkCoreErrors.outOfMemoryError(SparkCoreErrors.scala)\n",
      "\tat org.apache.spark.memory.MemoryConsumer.throwOom(MemoryConsumer.java:157)\n",
      "\tat org.apache.spark.memory.MemoryConsumer.allocateArray(MemoryConsumer.java:98)\n",
      "\tat org.apache.spark.util.collection.unsafe.sort.UnsafeExternalSorter.growPointerArrayIfNecessary(UnsafeExternalSorter.java:415)\n",
      "\tat org.apache.spark.util.collection.unsafe.sort.UnsafeExternalSorter.allocateMemoryForRecordIfNecessary(UnsafeExternalSorter.java:449)\n",
      "\tat org.apache.spark.util.collection.unsafe.sort.UnsafeExternalSorter.insertRecord(UnsafeExternalSorter.java:487)\n",
      "\tat org.apache.spark.sql.execution.UnsafeExternalRowSorter.insertRow(UnsafeExternalRowSorter.java:138)\n",
      "\tat org.apache.spark.sql.catalyst.expressions.GeneratedClass$GeneratedIteratorForCodegenStage7.sort_addToSorter_0$(Unknown Source)\n",
      "\tat org.apache.spark.sql.catalyst.expressions.GeneratedClass$GeneratedIteratorForCodegenStage7.processNext(Unknown Source)\n",
      "\tat org.apache.spark.sql.execution.BufferedRowIterator.hasNext(BufferedRowIterator.java:43)\n",
      "\tat org.apache.spark.sql.execution.WholeStageCodegenEvaluatorFactory$WholeStageCodegenPartitionEvaluator$$anon$1.hasNext(WholeStageCodegenEvaluatorFactory.scala:43)\n",
      "\tat org.apache.spark.sql.execution.window.GroupedLimitIterator.fetchNextRow(WindowGroupLimitExec.scala:213)\n",
      "\tat org.apache.spark.sql.execution.window.GroupedLimitIterator.<init>(WindowGroupLimitExec.scala:219)\n",
      "\tat org.apache.spark.sql.execution.window.WindowGroupLimitEvaluatorFactory.$anonfun$createEvaluator$4(WindowGroupLimitEvaluatorFactory.scala:50)\n",
      "\tat org.apache.spark.sql.execution.window.WindowGroupLimitEvaluatorFactory$WindowGroupLimitPartitionEvaluator.eval(WindowGroupLimitEvaluatorFactory.scala:60)\n",
      "\tat org.apache.spark.sql.execution.window.WindowGroupLimitExec.$anonfun$doExecute$1(WindowGroupLimitExec.scala:89)\n",
      "\tat org.apache.spark.sql.execution.window.WindowGroupLimitExec.$anonfun$doExecute$1$adapted(WindowGroupLimitExec.scala:87)\n",
      "\tat org.apache.spark.rdd.RDD.$anonfun$mapPartitionsWithIndexInternal$2(RDD.scala:877)\n",
      "\tat org.apache.spark.rdd.RDD.$anonfun$mapPartitionsWithIndexInternal$2$adapted(RDD.scala:877)\n",
      "\tat org.apache.spark.rdd.MapPartitionsRDD.compute(MapPartitionsRDD.scala:52)\n",
      "\tat org.apache.spark.rdd.RDD.computeOrReadCheckpoint(RDD.scala:364)\n",
      "\tat org.apache.spark.rdd.RDD.iterator(RDD.scala:328)\n",
      "\tat org.apache.spark.rdd.MapPartitionsRDD.compute(MapPartitionsRDD.scala:52)\n",
      "\tat org.apache.spark.rdd.RDD.computeOrReadCheckpoint(RDD.scala:364)\n",
      "\tat org.apache.spark.rdd.RDD.iterator(RDD.scala:328)\n",
      "\tat org.apache.spark.rdd.MapPartitionsRDD.compute(MapPartitionsRDD.scala:52)\n",
      "\tat org.apache.spark.rdd.RDD.computeOrReadCheckpoint(RDD.scala:364)\n",
      "\tat org.apache.spark.rdd.RDD.iterator(RDD.scala:328)\n",
      "\tat org.apache.spark.rdd.MapPartitionsRDD.compute(MapPartitionsRDD.scala:52)\n",
      "\tat org.apache.spark.rdd.RDD.computeOrReadCheckpoint(RDD.scala:364)\n",
      "\tat org.apache.spark.rdd.RDD.iterator(RDD.scala:328)\n",
      "\tat org.apache.spark.shuffle.ShuffleWriteProcessor.write(ShuffleWriteProcessor.scala:59)\n",
      "\tat org.apache.spark.scheduler.ShuffleMapTask.runTask(ShuffleMapTask.scala:104)\n",
      "\tat org.apache.spark.scheduler.ShuffleMapTask.runTask(ShuffleMapTask.scala:54)\n",
      "\tat org.apache.spark.TaskContext.runTaskWithListeners(TaskContext.scala:161)\n",
      "\tat org.apache.spark.scheduler.Task.run(Task.scala:141)\n",
      "\tat org.apache.spark.executor.Executor$TaskRunner.$anonfun$run$4(Executor.scala:620)\n",
      "\tat org.apache.spark.util.SparkErrorUtils.tryWithSafeFinally(SparkErrorUtils.scala:64)\n",
      "\tat org.apache.spark.util.SparkErrorUtils.tryWithSafeFinally$(SparkErrorUtils.scala:61)\n",
      "\tat org.apache.spark.util.Utils$.tryWithSafeFinally(Utils.scala:94)\n",
      "\tat org.apache.spark.executor.Executor$TaskRunner.run(Executor.scala:623)\n",
      "\tat java.base/java.util.concurrent.ThreadPoolExecutor.runWorker(ThreadPoolExecutor.java:1128)\n",
      "\tat java.base/java.util.concurrent.ThreadPoolExecutor$Worker.run(ThreadPoolExecutor.java:628)\n",
      "\tat java.base/java.lang.Thread.run(Thread.java:829)\n",
      "\n",
      "Driver stacktrace:)\n"
     ]
    },
    {
     "ename": "Py4JJavaError",
     "evalue": "An error occurred while calling o40782.collectToPython.\n: org.apache.spark.SparkException: Job aborted due to stage failure: Task 2 in stage 20064.0 failed 1 times, most recent failure: Lost task 2.0 in stage 20064.0 (TID 456547) (192.168.90.19 executor driver): org.apache.spark.memory.SparkOutOfMemoryError: [UNABLE_TO_ACQUIRE_MEMORY] Unable to acquire 65536 bytes of memory, got 0.\n\tat org.apache.spark.errors.SparkCoreErrors$.outOfMemoryError(SparkCoreErrors.scala:467)\n\tat org.apache.spark.errors.SparkCoreErrors.outOfMemoryError(SparkCoreErrors.scala)\n\tat org.apache.spark.memory.MemoryConsumer.throwOom(MemoryConsumer.java:157)\n\tat org.apache.spark.memory.MemoryConsumer.allocateArray(MemoryConsumer.java:98)\n\tat org.apache.spark.util.collection.unsafe.sort.UnsafeExternalSorter.growPointerArrayIfNecessary(UnsafeExternalSorter.java:415)\n\tat org.apache.spark.util.collection.unsafe.sort.UnsafeExternalSorter.allocateMemoryForRecordIfNecessary(UnsafeExternalSorter.java:449)\n\tat org.apache.spark.util.collection.unsafe.sort.UnsafeExternalSorter.insertRecord(UnsafeExternalSorter.java:487)\n\tat org.apache.spark.sql.execution.UnsafeExternalRowSorter.insertRow(UnsafeExternalRowSorter.java:138)\n\tat org.apache.spark.sql.catalyst.expressions.GeneratedClass$GeneratedIteratorForCodegenStage7.sort_addToSorter_0$(Unknown Source)\n\tat org.apache.spark.sql.catalyst.expressions.GeneratedClass$GeneratedIteratorForCodegenStage7.processNext(Unknown Source)\n\tat org.apache.spark.sql.execution.BufferedRowIterator.hasNext(BufferedRowIterator.java:43)\n\tat org.apache.spark.sql.execution.WholeStageCodegenEvaluatorFactory$WholeStageCodegenPartitionEvaluator$$anon$1.hasNext(WholeStageCodegenEvaluatorFactory.scala:43)\n\tat org.apache.spark.sql.execution.window.GroupedLimitIterator.fetchNextRow(WindowGroupLimitExec.scala:213)\n\tat org.apache.spark.sql.execution.window.GroupedLimitIterator.<init>(WindowGroupLimitExec.scala:219)\n\tat org.apache.spark.sql.execution.window.WindowGroupLimitEvaluatorFactory.$anonfun$createEvaluator$4(WindowGroupLimitEvaluatorFactory.scala:50)\n\tat org.apache.spark.sql.execution.window.WindowGroupLimitEvaluatorFactory$WindowGroupLimitPartitionEvaluator.eval(WindowGroupLimitEvaluatorFactory.scala:60)\n\tat org.apache.spark.sql.execution.window.WindowGroupLimitExec.$anonfun$doExecute$1(WindowGroupLimitExec.scala:89)\n\tat org.apache.spark.sql.execution.window.WindowGroupLimitExec.$anonfun$doExecute$1$adapted(WindowGroupLimitExec.scala:87)\n\tat org.apache.spark.rdd.RDD.$anonfun$mapPartitionsWithIndexInternal$2(RDD.scala:877)\n\tat org.apache.spark.rdd.RDD.$anonfun$mapPartitionsWithIndexInternal$2$adapted(RDD.scala:877)\n\tat org.apache.spark.rdd.MapPartitionsRDD.compute(MapPartitionsRDD.scala:52)\n\tat org.apache.spark.rdd.RDD.computeOrReadCheckpoint(RDD.scala:364)\n\tat org.apache.spark.rdd.RDD.iterator(RDD.scala:328)\n\tat org.apache.spark.rdd.MapPartitionsRDD.compute(MapPartitionsRDD.scala:52)\n\tat org.apache.spark.rdd.RDD.computeOrReadCheckpoint(RDD.scala:364)\n\tat org.apache.spark.rdd.RDD.iterator(RDD.scala:328)\n\tat org.apache.spark.rdd.MapPartitionsRDD.compute(MapPartitionsRDD.scala:52)\n\tat org.apache.spark.rdd.RDD.computeOrReadCheckpoint(RDD.scala:364)\n\tat org.apache.spark.rdd.RDD.iterator(RDD.scala:328)\n\tat org.apache.spark.rdd.MapPartitionsRDD.compute(MapPartitionsRDD.scala:52)\n\tat org.apache.spark.rdd.RDD.computeOrReadCheckpoint(RDD.scala:364)\n\tat org.apache.spark.rdd.RDD.iterator(RDD.scala:328)\n\tat org.apache.spark.shuffle.ShuffleWriteProcessor.write(ShuffleWriteProcessor.scala:59)\n\tat org.apache.spark.scheduler.ShuffleMapTask.runTask(ShuffleMapTask.scala:104)\n\tat org.apache.spark.scheduler.ShuffleMapTask.runTask(ShuffleMapTask.scala:54)\n\tat org.apache.spark.TaskContext.runTaskWithListeners(TaskContext.scala:161)\n\tat org.apache.spark.scheduler.Task.run(Task.scala:141)\n\tat org.apache.spark.executor.Executor$TaskRunner.$anonfun$run$4(Executor.scala:620)\n\tat org.apache.spark.util.SparkErrorUtils.tryWithSafeFinally(SparkErrorUtils.scala:64)\n\tat org.apache.spark.util.SparkErrorUtils.tryWithSafeFinally$(SparkErrorUtils.scala:61)\n\tat org.apache.spark.util.Utils$.tryWithSafeFinally(Utils.scala:94)\n\tat org.apache.spark.executor.Executor$TaskRunner.run(Executor.scala:623)\n\tat java.base/java.util.concurrent.ThreadPoolExecutor.runWorker(ThreadPoolExecutor.java:1128)\n\tat java.base/java.util.concurrent.ThreadPoolExecutor$Worker.run(ThreadPoolExecutor.java:628)\n\tat java.base/java.lang.Thread.run(Thread.java:829)\n\nDriver stacktrace:\n\tat org.apache.spark.scheduler.DAGScheduler.failJobAndIndependentStages(DAGScheduler.scala:2844)\n\tat org.apache.spark.scheduler.DAGScheduler.$anonfun$abortStage$2(DAGScheduler.scala:2780)\n\tat org.apache.spark.scheduler.DAGScheduler.$anonfun$abortStage$2$adapted(DAGScheduler.scala:2779)\n\tat scala.collection.mutable.ResizableArray.foreach(ResizableArray.scala:62)\n\tat scala.collection.mutable.ResizableArray.foreach$(ResizableArray.scala:55)\n\tat scala.collection.mutable.ArrayBuffer.foreach(ArrayBuffer.scala:49)\n\tat org.apache.spark.scheduler.DAGScheduler.abortStage(DAGScheduler.scala:2779)\n\tat org.apache.spark.scheduler.DAGScheduler.$anonfun$handleTaskSetFailed$1(DAGScheduler.scala:1242)\n\tat org.apache.spark.scheduler.DAGScheduler.$anonfun$handleTaskSetFailed$1$adapted(DAGScheduler.scala:1242)\n\tat scala.Option.foreach(Option.scala:407)\n\tat org.apache.spark.scheduler.DAGScheduler.handleTaskSetFailed(DAGScheduler.scala:1242)\n\tat org.apache.spark.scheduler.DAGSchedulerEventProcessLoop.doOnReceive(DAGScheduler.scala:3048)\n\tat org.apache.spark.scheduler.DAGSchedulerEventProcessLoop.onReceive(DAGScheduler.scala:2982)\n\tat org.apache.spark.scheduler.DAGSchedulerEventProcessLoop.onReceive(DAGScheduler.scala:2971)\n\tat org.apache.spark.util.EventLoop$$anon$1.run(EventLoop.scala:49)\nCaused by: org.apache.spark.memory.SparkOutOfMemoryError: [UNABLE_TO_ACQUIRE_MEMORY] Unable to acquire 65536 bytes of memory, got 0.\n\tat org.apache.spark.errors.SparkCoreErrors$.outOfMemoryError(SparkCoreErrors.scala:467)\n\tat org.apache.spark.errors.SparkCoreErrors.outOfMemoryError(SparkCoreErrors.scala)\n\tat org.apache.spark.memory.MemoryConsumer.throwOom(MemoryConsumer.java:157)\n\tat org.apache.spark.memory.MemoryConsumer.allocateArray(MemoryConsumer.java:98)\n\tat org.apache.spark.util.collection.unsafe.sort.UnsafeExternalSorter.growPointerArrayIfNecessary(UnsafeExternalSorter.java:415)\n\tat org.apache.spark.util.collection.unsafe.sort.UnsafeExternalSorter.allocateMemoryForRecordIfNecessary(UnsafeExternalSorter.java:449)\n\tat org.apache.spark.util.collection.unsafe.sort.UnsafeExternalSorter.insertRecord(UnsafeExternalSorter.java:487)\n\tat org.apache.spark.sql.execution.UnsafeExternalRowSorter.insertRow(UnsafeExternalRowSorter.java:138)\n\tat org.apache.spark.sql.catalyst.expressions.GeneratedClass$GeneratedIteratorForCodegenStage7.sort_addToSorter_0$(Unknown Source)\n\tat org.apache.spark.sql.catalyst.expressions.GeneratedClass$GeneratedIteratorForCodegenStage7.processNext(Unknown Source)\n\tat org.apache.spark.sql.execution.BufferedRowIterator.hasNext(BufferedRowIterator.java:43)\n\tat org.apache.spark.sql.execution.WholeStageCodegenEvaluatorFactory$WholeStageCodegenPartitionEvaluator$$anon$1.hasNext(WholeStageCodegenEvaluatorFactory.scala:43)\n\tat org.apache.spark.sql.execution.window.GroupedLimitIterator.fetchNextRow(WindowGroupLimitExec.scala:213)\n\tat org.apache.spark.sql.execution.window.GroupedLimitIterator.<init>(WindowGroupLimitExec.scala:219)\n\tat org.apache.spark.sql.execution.window.WindowGroupLimitEvaluatorFactory.$anonfun$createEvaluator$4(WindowGroupLimitEvaluatorFactory.scala:50)\n\tat org.apache.spark.sql.execution.window.WindowGroupLimitEvaluatorFactory$WindowGroupLimitPartitionEvaluator.eval(WindowGroupLimitEvaluatorFactory.scala:60)\n\tat org.apache.spark.sql.execution.window.WindowGroupLimitExec.$anonfun$doExecute$1(WindowGroupLimitExec.scala:89)\n\tat org.apache.spark.sql.execution.window.WindowGroupLimitExec.$anonfun$doExecute$1$adapted(WindowGroupLimitExec.scala:87)\n\tat org.apache.spark.rdd.RDD.$anonfun$mapPartitionsWithIndexInternal$2(RDD.scala:877)\n\tat org.apache.spark.rdd.RDD.$anonfun$mapPartitionsWithIndexInternal$2$adapted(RDD.scala:877)\n\tat org.apache.spark.rdd.MapPartitionsRDD.compute(MapPartitionsRDD.scala:52)\n\tat org.apache.spark.rdd.RDD.computeOrReadCheckpoint(RDD.scala:364)\n\tat org.apache.spark.rdd.RDD.iterator(RDD.scala:328)\n\tat org.apache.spark.rdd.MapPartitionsRDD.compute(MapPartitionsRDD.scala:52)\n\tat org.apache.spark.rdd.RDD.computeOrReadCheckpoint(RDD.scala:364)\n\tat org.apache.spark.rdd.RDD.iterator(RDD.scala:328)\n\tat org.apache.spark.rdd.MapPartitionsRDD.compute(MapPartitionsRDD.scala:52)\n\tat org.apache.spark.rdd.RDD.computeOrReadCheckpoint(RDD.scala:364)\n\tat org.apache.spark.rdd.RDD.iterator(RDD.scala:328)\n\tat org.apache.spark.rdd.MapPartitionsRDD.compute(MapPartitionsRDD.scala:52)\n\tat org.apache.spark.rdd.RDD.computeOrReadCheckpoint(RDD.scala:364)\n\tat org.apache.spark.rdd.RDD.iterator(RDD.scala:328)\n\tat org.apache.spark.shuffle.ShuffleWriteProcessor.write(ShuffleWriteProcessor.scala:59)\n\tat org.apache.spark.scheduler.ShuffleMapTask.runTask(ShuffleMapTask.scala:104)\n\tat org.apache.spark.scheduler.ShuffleMapTask.runTask(ShuffleMapTask.scala:54)\n\tat org.apache.spark.TaskContext.runTaskWithListeners(TaskContext.scala:161)\n\tat org.apache.spark.scheduler.Task.run(Task.scala:141)\n\tat org.apache.spark.executor.Executor$TaskRunner.$anonfun$run$4(Executor.scala:620)\n\tat org.apache.spark.util.SparkErrorUtils.tryWithSafeFinally(SparkErrorUtils.scala:64)\n\tat org.apache.spark.util.SparkErrorUtils.tryWithSafeFinally$(SparkErrorUtils.scala:61)\n\tat org.apache.spark.util.Utils$.tryWithSafeFinally(Utils.scala:94)\n\tat org.apache.spark.executor.Executor$TaskRunner.run(Executor.scala:623)\n\tat java.base/java.util.concurrent.ThreadPoolExecutor.runWorker(ThreadPoolExecutor.java:1128)\n\tat java.base/java.util.concurrent.ThreadPoolExecutor$Worker.run(ThreadPoolExecutor.java:628)\n\tat java.base/java.lang.Thread.run(Thread.java:829)\n",
     "output_type": "error",
     "traceback": [
      "\u001b[0;31m---------------------------------------------------------------------------\u001b[0m",
      "\u001b[0;31mPy4JJavaError\u001b[0m                             Traceback (most recent call last)",
      "Input \u001b[0;32mIn [34]\u001b[0m, in \u001b[0;36m<cell line: 3>\u001b[0;34m()\u001b[0m\n\u001b[1;32m     16\u001b[0m \u001b[38;5;66;03m# Apply preprocessing function\u001b[39;00m\n\u001b[1;32m     17\u001b[0m processed_df \u001b[38;5;241m=\u001b[39m preprocession(messages_df)\n\u001b[0;32m---> 19\u001b[0m \u001b[43mmodels_preds\u001b[49m\u001b[43m(\u001b[49m\u001b[43mprocessed_df\u001b[49m\u001b[43m,\u001b[49m\u001b[43m \u001b[49m\u001b[43mGBT_List\u001b[49m\u001b[43m,\u001b[49m\n\u001b[1;32m     20\u001b[0m \u001b[43m            \u001b[49m\u001b[43mrandom_forest_List\u001b[49m\u001b[43m,\u001b[49m\u001b[43m \u001b[49m\u001b[43mdecision_tree_List\u001b[49m\u001b[43m,\u001b[49m\n\u001b[1;32m     21\u001b[0m \u001b[43m            \u001b[49m\u001b[43mLinear_regression_List\u001b[49m\u001b[43m,\u001b[49m\u001b[43m \u001b[49m\u001b[43mSVC_List\u001b[49m\u001b[43m,\u001b[49m\u001b[43m \u001b[49m\u001b[43mKNN_List\u001b[49m\u001b[43m,\u001b[49m\u001b[43m \u001b[49m\u001b[43mcount\u001b[49m\u001b[43m)\u001b[49m\n\u001b[1;32m     23\u001b[0m plot_model_acc(GBT_List, random_forest_List, decision_tree_List,\n\u001b[1;32m     24\u001b[0m                Linear_regression_List, SVC_List)\n\u001b[1;32m     27\u001b[0m count \u001b[38;5;241m+\u001b[39m\u001b[38;5;241m=\u001b[39m \u001b[38;5;241m1\u001b[39m\n",
      "Input \u001b[0;32mIn [31]\u001b[0m, in \u001b[0;36mmodels_preds\u001b[0;34m(df, GBT_List, random_forest_List, decision_tree_List, Linear_regression_List, SVC_List, KNN_List, count)\u001b[0m\n\u001b[1;32m      6\u001b[0m trainingData \u001b[38;5;241m=\u001b[39m trainingData\u001b[38;5;241m.\u001b[39mrepartition(\u001b[38;5;241m100\u001b[39m)\n\u001b[1;32m      7\u001b[0m testData \u001b[38;5;241m=\u001b[39m testData\u001b[38;5;241m.\u001b[39mrepartition(\u001b[38;5;241m100\u001b[39m)\n\u001b[0;32m----> 8\u001b[0m \u001b[43mknn_pred\u001b[49m\u001b[43m(\u001b[49m\u001b[43mtrainingData\u001b[49m\u001b[43m,\u001b[49m\u001b[43m \u001b[49m\u001b[43mtestData\u001b[49m\u001b[43m,\u001b[49m\u001b[43m \u001b[49m\u001b[38;5;124;43m\"\u001b[39;49m\u001b[38;5;124;43mtarget\u001b[39;49m\u001b[38;5;124;43m\"\u001b[39;49m\u001b[43m,\u001b[49m\u001b[43m \u001b[49m\u001b[38;5;241;43m5\u001b[39;49m\u001b[43m,\u001b[49m\u001b[43m \u001b[49m\u001b[43mcount\u001b[49m\u001b[43m)\u001b[49m\n\u001b[1;32m      9\u001b[0m windowSpec \u001b[38;5;241m=\u001b[39m Window\u001b[38;5;241m.\u001b[39mpartitionBy(partition_col)\u001b[38;5;241m.\u001b[39morderBy(\u001b[38;5;124m'\u001b[39m\u001b[38;5;124mmatch_date\u001b[39m\u001b[38;5;124m'\u001b[39m)\n\u001b[1;32m     11\u001b[0m GBT_pred(trainingData, testData, GBT_List, count) \u001b[38;5;66;03m#does not support multi-class only 0,1 not 0,1,2\u001b[39;00m\n",
      "Input \u001b[0;32mIn [30]\u001b[0m, in \u001b[0;36mknn_pred\u001b[0;34m(train_df, test_df, label_col, k, count)\u001b[0m\n\u001b[1;32m     51\u001b[0m \u001b[38;5;66;03m# Calculate accuracy by comparing the true label with the predicted label\u001b[39;00m\n\u001b[1;32m     52\u001b[0m accuracy_df \u001b[38;5;241m=\u001b[39m predicted_df\u001b[38;5;241m.\u001b[39mwithColumn(\u001b[38;5;124m\"\u001b[39m\u001b[38;5;124mcorrect\u001b[39m\u001b[38;5;124m\"\u001b[39m, F\u001b[38;5;241m.\u001b[39mwhen(F\u001b[38;5;241m.\u001b[39mcol(\u001b[38;5;124m\"\u001b[39m\u001b[38;5;124mtrue_label\u001b[39m\u001b[38;5;124m\"\u001b[39m) \u001b[38;5;241m==\u001b[39m F\u001b[38;5;241m.\u001b[39mcol(\u001b[38;5;124m\"\u001b[39m\u001b[38;5;124mpredicted_label\u001b[39m\u001b[38;5;124m\"\u001b[39m), \u001b[38;5;241m1\u001b[39m)\u001b[38;5;241m.\u001b[39motherwise(\u001b[38;5;241m0\u001b[39m))\n\u001b[0;32m---> 53\u001b[0m accuracy \u001b[38;5;241m=\u001b[39m \u001b[43maccuracy_df\u001b[49m\u001b[38;5;241;43m.\u001b[39;49m\u001b[43mselect\u001b[49m\u001b[43m(\u001b[49m\u001b[43mF\u001b[49m\u001b[38;5;241;43m.\u001b[39;49m\u001b[43mavg\u001b[49m\u001b[43m(\u001b[49m\u001b[38;5;124;43m\"\u001b[39;49m\u001b[38;5;124;43mcorrect\u001b[39;49m\u001b[38;5;124;43m\"\u001b[39;49m\u001b[43m)\u001b[49m\u001b[43m)\u001b[49m\u001b[38;5;241;43m.\u001b[39;49m\u001b[43mfirst\u001b[49m\u001b[43m(\u001b[49m\u001b[43m)\u001b[49m[\u001b[38;5;241m0\u001b[39m] \u001b[38;5;241m*\u001b[39m \u001b[38;5;241m100\u001b[39m\n\u001b[1;32m     55\u001b[0m \u001b[38;5;28mprint\u001b[39m(\u001b[38;5;124mf\u001b[39m\u001b[38;5;124m\"\u001b[39m\u001b[38;5;124mAccuracy: \u001b[39m\u001b[38;5;132;01m{\u001b[39;00maccuracy\u001b[38;5;132;01m:\u001b[39;00m\u001b[38;5;124m.2f\u001b[39m\u001b[38;5;132;01m}\u001b[39;00m\u001b[38;5;124m%\u001b[39m\u001b[38;5;124m\"\u001b[39m)\n\u001b[1;32m     57\u001b[0m \u001b[38;5;66;03m# Append results to the list\u001b[39;00m\n",
      "File \u001b[0;32m/usr/local/spark/spark/python/pyspark/sql/dataframe.py:2991\u001b[0m, in \u001b[0;36mDataFrame.first\u001b[0;34m(self)\u001b[0m\n\u001b[1;32m   2971\u001b[0m \u001b[38;5;28;01mdef\u001b[39;00m \u001b[38;5;21mfirst\u001b[39m(\u001b[38;5;28mself\u001b[39m) \u001b[38;5;241m-\u001b[39m\u001b[38;5;241m>\u001b[39m Optional[Row]:\n\u001b[1;32m   2972\u001b[0m     \u001b[38;5;124;03m\"\"\"Returns the first row as a :class:`Row`.\u001b[39;00m\n\u001b[1;32m   2973\u001b[0m \n\u001b[1;32m   2974\u001b[0m \u001b[38;5;124;03m    .. versionadded:: 1.3.0\u001b[39;00m\n\u001b[0;32m   (...)\u001b[0m\n\u001b[1;32m   2989\u001b[0m \u001b[38;5;124;03m    Row(age=2, name='Alice')\u001b[39;00m\n\u001b[1;32m   2990\u001b[0m \u001b[38;5;124;03m    \"\"\"\u001b[39;00m\n\u001b[0;32m-> 2991\u001b[0m     \u001b[38;5;28;01mreturn\u001b[39;00m \u001b[38;5;28;43mself\u001b[39;49m\u001b[38;5;241;43m.\u001b[39;49m\u001b[43mhead\u001b[49m\u001b[43m(\u001b[49m\u001b[43m)\u001b[49m\n",
      "File \u001b[0;32m/usr/local/spark/spark/python/pyspark/sql/dataframe.py:2967\u001b[0m, in \u001b[0;36mDataFrame.head\u001b[0;34m(self, n)\u001b[0m\n\u001b[1;32m   2935\u001b[0m \u001b[38;5;124;03m\"\"\"Returns the first ``n`` rows.\u001b[39;00m\n\u001b[1;32m   2936\u001b[0m \n\u001b[1;32m   2937\u001b[0m \u001b[38;5;124;03m.. versionadded:: 1.3.0\u001b[39;00m\n\u001b[0;32m   (...)\u001b[0m\n\u001b[1;32m   2964\u001b[0m \u001b[38;5;124;03m[Row(age=2, name='Alice')]\u001b[39;00m\n\u001b[1;32m   2965\u001b[0m \u001b[38;5;124;03m\"\"\"\u001b[39;00m\n\u001b[1;32m   2966\u001b[0m \u001b[38;5;28;01mif\u001b[39;00m n \u001b[38;5;129;01mis\u001b[39;00m \u001b[38;5;28;01mNone\u001b[39;00m:\n\u001b[0;32m-> 2967\u001b[0m     rs \u001b[38;5;241m=\u001b[39m \u001b[38;5;28;43mself\u001b[39;49m\u001b[38;5;241;43m.\u001b[39;49m\u001b[43mhead\u001b[49m\u001b[43m(\u001b[49m\u001b[38;5;241;43m1\u001b[39;49m\u001b[43m)\u001b[49m\n\u001b[1;32m   2968\u001b[0m     \u001b[38;5;28;01mreturn\u001b[39;00m rs[\u001b[38;5;241m0\u001b[39m] \u001b[38;5;28;01mif\u001b[39;00m rs \u001b[38;5;28;01melse\u001b[39;00m \u001b[38;5;28;01mNone\u001b[39;00m\n\u001b[1;32m   2969\u001b[0m \u001b[38;5;28;01mreturn\u001b[39;00m \u001b[38;5;28mself\u001b[39m\u001b[38;5;241m.\u001b[39mtake(n)\n",
      "File \u001b[0;32m/usr/local/spark/spark/python/pyspark/sql/dataframe.py:2969\u001b[0m, in \u001b[0;36mDataFrame.head\u001b[0;34m(self, n)\u001b[0m\n\u001b[1;32m   2967\u001b[0m     rs \u001b[38;5;241m=\u001b[39m \u001b[38;5;28mself\u001b[39m\u001b[38;5;241m.\u001b[39mhead(\u001b[38;5;241m1\u001b[39m)\n\u001b[1;32m   2968\u001b[0m     \u001b[38;5;28;01mreturn\u001b[39;00m rs[\u001b[38;5;241m0\u001b[39m] \u001b[38;5;28;01mif\u001b[39;00m rs \u001b[38;5;28;01melse\u001b[39;00m \u001b[38;5;28;01mNone\u001b[39;00m\n\u001b[0;32m-> 2969\u001b[0m \u001b[38;5;28;01mreturn\u001b[39;00m \u001b[38;5;28;43mself\u001b[39;49m\u001b[38;5;241;43m.\u001b[39;49m\u001b[43mtake\u001b[49m\u001b[43m(\u001b[49m\u001b[43mn\u001b[49m\u001b[43m)\u001b[49m\n",
      "File \u001b[0;32m/usr/local/spark/spark/python/pyspark/sql/dataframe.py:1401\u001b[0m, in \u001b[0;36mDataFrame.take\u001b[0;34m(self, num)\u001b[0m\n\u001b[1;32m   1372\u001b[0m \u001b[38;5;28;01mdef\u001b[39;00m \u001b[38;5;21mtake\u001b[39m(\u001b[38;5;28mself\u001b[39m, num: \u001b[38;5;28mint\u001b[39m) \u001b[38;5;241m-\u001b[39m\u001b[38;5;241m>\u001b[39m List[Row]:\n\u001b[1;32m   1373\u001b[0m     \u001b[38;5;124;03m\"\"\"Returns the first ``num`` rows as a :class:`list` of :class:`Row`.\u001b[39;00m\n\u001b[1;32m   1374\u001b[0m \n\u001b[1;32m   1375\u001b[0m \u001b[38;5;124;03m    .. versionadded:: 1.3.0\u001b[39;00m\n\u001b[0;32m   (...)\u001b[0m\n\u001b[1;32m   1399\u001b[0m \u001b[38;5;124;03m    [Row(age=14, name='Tom'), Row(age=23, name='Alice')]\u001b[39;00m\n\u001b[1;32m   1400\u001b[0m \u001b[38;5;124;03m    \"\"\"\u001b[39;00m\n\u001b[0;32m-> 1401\u001b[0m     \u001b[38;5;28;01mreturn\u001b[39;00m \u001b[38;5;28;43mself\u001b[39;49m\u001b[38;5;241;43m.\u001b[39;49m\u001b[43mlimit\u001b[49m\u001b[43m(\u001b[49m\u001b[43mnum\u001b[49m\u001b[43m)\u001b[49m\u001b[38;5;241;43m.\u001b[39;49m\u001b[43mcollect\u001b[49m\u001b[43m(\u001b[49m\u001b[43m)\u001b[49m\n",
      "File \u001b[0;32m/usr/local/spark/spark/python/pyspark/sql/dataframe.py:1257\u001b[0m, in \u001b[0;36mDataFrame.collect\u001b[0;34m(self)\u001b[0m\n\u001b[1;32m   1237\u001b[0m \u001b[38;5;124;03m\"\"\"Returns all the records as a list of :class:`Row`.\u001b[39;00m\n\u001b[1;32m   1238\u001b[0m \n\u001b[1;32m   1239\u001b[0m \u001b[38;5;124;03m.. versionadded:: 1.3.0\u001b[39;00m\n\u001b[0;32m   (...)\u001b[0m\n\u001b[1;32m   1254\u001b[0m \u001b[38;5;124;03m[Row(age=14, name='Tom'), Row(age=23, name='Alice'), Row(age=16, name='Bob')]\u001b[39;00m\n\u001b[1;32m   1255\u001b[0m \u001b[38;5;124;03m\"\"\"\u001b[39;00m\n\u001b[1;32m   1256\u001b[0m \u001b[38;5;28;01mwith\u001b[39;00m SCCallSiteSync(\u001b[38;5;28mself\u001b[39m\u001b[38;5;241m.\u001b[39m_sc):\n\u001b[0;32m-> 1257\u001b[0m     sock_info \u001b[38;5;241m=\u001b[39m \u001b[38;5;28;43mself\u001b[39;49m\u001b[38;5;241;43m.\u001b[39;49m\u001b[43m_jdf\u001b[49m\u001b[38;5;241;43m.\u001b[39;49m\u001b[43mcollectToPython\u001b[49m\u001b[43m(\u001b[49m\u001b[43m)\u001b[49m\n\u001b[1;32m   1258\u001b[0m \u001b[38;5;28;01mreturn\u001b[39;00m \u001b[38;5;28mlist\u001b[39m(_load_from_socket(sock_info, BatchedSerializer(CPickleSerializer())))\n",
      "File \u001b[0;32m/usr/local/spark/spark/python/lib/py4j-0.10.9.7-src.zip/py4j/java_gateway.py:1322\u001b[0m, in \u001b[0;36mJavaMember.__call__\u001b[0;34m(self, *args)\u001b[0m\n\u001b[1;32m   1316\u001b[0m command \u001b[38;5;241m=\u001b[39m proto\u001b[38;5;241m.\u001b[39mCALL_COMMAND_NAME \u001b[38;5;241m+\u001b[39m\\\n\u001b[1;32m   1317\u001b[0m     \u001b[38;5;28mself\u001b[39m\u001b[38;5;241m.\u001b[39mcommand_header \u001b[38;5;241m+\u001b[39m\\\n\u001b[1;32m   1318\u001b[0m     args_command \u001b[38;5;241m+\u001b[39m\\\n\u001b[1;32m   1319\u001b[0m     proto\u001b[38;5;241m.\u001b[39mEND_COMMAND_PART\n\u001b[1;32m   1321\u001b[0m answer \u001b[38;5;241m=\u001b[39m \u001b[38;5;28mself\u001b[39m\u001b[38;5;241m.\u001b[39mgateway_client\u001b[38;5;241m.\u001b[39msend_command(command)\n\u001b[0;32m-> 1322\u001b[0m return_value \u001b[38;5;241m=\u001b[39m \u001b[43mget_return_value\u001b[49m\u001b[43m(\u001b[49m\n\u001b[1;32m   1323\u001b[0m \u001b[43m    \u001b[49m\u001b[43manswer\u001b[49m\u001b[43m,\u001b[49m\u001b[43m \u001b[49m\u001b[38;5;28;43mself\u001b[39;49m\u001b[38;5;241;43m.\u001b[39;49m\u001b[43mgateway_client\u001b[49m\u001b[43m,\u001b[49m\u001b[43m \u001b[49m\u001b[38;5;28;43mself\u001b[39;49m\u001b[38;5;241;43m.\u001b[39;49m\u001b[43mtarget_id\u001b[49m\u001b[43m,\u001b[49m\u001b[43m \u001b[49m\u001b[38;5;28;43mself\u001b[39;49m\u001b[38;5;241;43m.\u001b[39;49m\u001b[43mname\u001b[49m\u001b[43m)\u001b[49m\n\u001b[1;32m   1325\u001b[0m \u001b[38;5;28;01mfor\u001b[39;00m temp_arg \u001b[38;5;129;01min\u001b[39;00m temp_args:\n\u001b[1;32m   1326\u001b[0m     \u001b[38;5;28;01mif\u001b[39;00m \u001b[38;5;28mhasattr\u001b[39m(temp_arg, \u001b[38;5;124m\"\u001b[39m\u001b[38;5;124m_detach\u001b[39m\u001b[38;5;124m\"\u001b[39m):\n",
      "File \u001b[0;32m/usr/local/spark/spark/python/pyspark/errors/exceptions/captured.py:179\u001b[0m, in \u001b[0;36mcapture_sql_exception.<locals>.deco\u001b[0;34m(*a, **kw)\u001b[0m\n\u001b[1;32m    177\u001b[0m \u001b[38;5;28;01mdef\u001b[39;00m \u001b[38;5;21mdeco\u001b[39m(\u001b[38;5;241m*\u001b[39ma: Any, \u001b[38;5;241m*\u001b[39m\u001b[38;5;241m*\u001b[39mkw: Any) \u001b[38;5;241m-\u001b[39m\u001b[38;5;241m>\u001b[39m Any:\n\u001b[1;32m    178\u001b[0m     \u001b[38;5;28;01mtry\u001b[39;00m:\n\u001b[0;32m--> 179\u001b[0m         \u001b[38;5;28;01mreturn\u001b[39;00m \u001b[43mf\u001b[49m\u001b[43m(\u001b[49m\u001b[38;5;241;43m*\u001b[39;49m\u001b[43ma\u001b[49m\u001b[43m,\u001b[49m\u001b[43m \u001b[49m\u001b[38;5;241;43m*\u001b[39;49m\u001b[38;5;241;43m*\u001b[39;49m\u001b[43mkw\u001b[49m\u001b[43m)\u001b[49m\n\u001b[1;32m    180\u001b[0m     \u001b[38;5;28;01mexcept\u001b[39;00m Py4JJavaError \u001b[38;5;28;01mas\u001b[39;00m e:\n\u001b[1;32m    181\u001b[0m         converted \u001b[38;5;241m=\u001b[39m convert_exception(e\u001b[38;5;241m.\u001b[39mjava_exception)\n",
      "File \u001b[0;32m/usr/local/spark/spark/python/lib/py4j-0.10.9.7-src.zip/py4j/protocol.py:326\u001b[0m, in \u001b[0;36mget_return_value\u001b[0;34m(answer, gateway_client, target_id, name)\u001b[0m\n\u001b[1;32m    324\u001b[0m value \u001b[38;5;241m=\u001b[39m OUTPUT_CONVERTER[\u001b[38;5;28mtype\u001b[39m](answer[\u001b[38;5;241m2\u001b[39m:], gateway_client)\n\u001b[1;32m    325\u001b[0m \u001b[38;5;28;01mif\u001b[39;00m answer[\u001b[38;5;241m1\u001b[39m] \u001b[38;5;241m==\u001b[39m REFERENCE_TYPE:\n\u001b[0;32m--> 326\u001b[0m     \u001b[38;5;28;01mraise\u001b[39;00m Py4JJavaError(\n\u001b[1;32m    327\u001b[0m         \u001b[38;5;124m\"\u001b[39m\u001b[38;5;124mAn error occurred while calling \u001b[39m\u001b[38;5;132;01m{0}\u001b[39;00m\u001b[38;5;132;01m{1}\u001b[39;00m\u001b[38;5;132;01m{2}\u001b[39;00m\u001b[38;5;124m.\u001b[39m\u001b[38;5;130;01m\\n\u001b[39;00m\u001b[38;5;124m\"\u001b[39m\u001b[38;5;241m.\u001b[39m\n\u001b[1;32m    328\u001b[0m         \u001b[38;5;28mformat\u001b[39m(target_id, \u001b[38;5;124m\"\u001b[39m\u001b[38;5;124m.\u001b[39m\u001b[38;5;124m\"\u001b[39m, name), value)\n\u001b[1;32m    329\u001b[0m \u001b[38;5;28;01melse\u001b[39;00m:\n\u001b[1;32m    330\u001b[0m     \u001b[38;5;28;01mraise\u001b[39;00m Py4JError(\n\u001b[1;32m    331\u001b[0m         \u001b[38;5;124m\"\u001b[39m\u001b[38;5;124mAn error occurred while calling \u001b[39m\u001b[38;5;132;01m{0}\u001b[39;00m\u001b[38;5;132;01m{1}\u001b[39;00m\u001b[38;5;132;01m{2}\u001b[39;00m\u001b[38;5;124m. Trace:\u001b[39m\u001b[38;5;130;01m\\n\u001b[39;00m\u001b[38;5;132;01m{3}\u001b[39;00m\u001b[38;5;130;01m\\n\u001b[39;00m\u001b[38;5;124m\"\u001b[39m\u001b[38;5;241m.\u001b[39m\n\u001b[1;32m    332\u001b[0m         \u001b[38;5;28mformat\u001b[39m(target_id, \u001b[38;5;124m\"\u001b[39m\u001b[38;5;124m.\u001b[39m\u001b[38;5;124m\"\u001b[39m, name, value))\n",
      "\u001b[0;31mPy4JJavaError\u001b[0m: An error occurred while calling o40782.collectToPython.\n: org.apache.spark.SparkException: Job aborted due to stage failure: Task 2 in stage 20064.0 failed 1 times, most recent failure: Lost task 2.0 in stage 20064.0 (TID 456547) (192.168.90.19 executor driver): org.apache.spark.memory.SparkOutOfMemoryError: [UNABLE_TO_ACQUIRE_MEMORY] Unable to acquire 65536 bytes of memory, got 0.\n\tat org.apache.spark.errors.SparkCoreErrors$.outOfMemoryError(SparkCoreErrors.scala:467)\n\tat org.apache.spark.errors.SparkCoreErrors.outOfMemoryError(SparkCoreErrors.scala)\n\tat org.apache.spark.memory.MemoryConsumer.throwOom(MemoryConsumer.java:157)\n\tat org.apache.spark.memory.MemoryConsumer.allocateArray(MemoryConsumer.java:98)\n\tat org.apache.spark.util.collection.unsafe.sort.UnsafeExternalSorter.growPointerArrayIfNecessary(UnsafeExternalSorter.java:415)\n\tat org.apache.spark.util.collection.unsafe.sort.UnsafeExternalSorter.allocateMemoryForRecordIfNecessary(UnsafeExternalSorter.java:449)\n\tat org.apache.spark.util.collection.unsafe.sort.UnsafeExternalSorter.insertRecord(UnsafeExternalSorter.java:487)\n\tat org.apache.spark.sql.execution.UnsafeExternalRowSorter.insertRow(UnsafeExternalRowSorter.java:138)\n\tat org.apache.spark.sql.catalyst.expressions.GeneratedClass$GeneratedIteratorForCodegenStage7.sort_addToSorter_0$(Unknown Source)\n\tat org.apache.spark.sql.catalyst.expressions.GeneratedClass$GeneratedIteratorForCodegenStage7.processNext(Unknown Source)\n\tat org.apache.spark.sql.execution.BufferedRowIterator.hasNext(BufferedRowIterator.java:43)\n\tat org.apache.spark.sql.execution.WholeStageCodegenEvaluatorFactory$WholeStageCodegenPartitionEvaluator$$anon$1.hasNext(WholeStageCodegenEvaluatorFactory.scala:43)\n\tat org.apache.spark.sql.execution.window.GroupedLimitIterator.fetchNextRow(WindowGroupLimitExec.scala:213)\n\tat org.apache.spark.sql.execution.window.GroupedLimitIterator.<init>(WindowGroupLimitExec.scala:219)\n\tat org.apache.spark.sql.execution.window.WindowGroupLimitEvaluatorFactory.$anonfun$createEvaluator$4(WindowGroupLimitEvaluatorFactory.scala:50)\n\tat org.apache.spark.sql.execution.window.WindowGroupLimitEvaluatorFactory$WindowGroupLimitPartitionEvaluator.eval(WindowGroupLimitEvaluatorFactory.scala:60)\n\tat org.apache.spark.sql.execution.window.WindowGroupLimitExec.$anonfun$doExecute$1(WindowGroupLimitExec.scala:89)\n\tat org.apache.spark.sql.execution.window.WindowGroupLimitExec.$anonfun$doExecute$1$adapted(WindowGroupLimitExec.scala:87)\n\tat org.apache.spark.rdd.RDD.$anonfun$mapPartitionsWithIndexInternal$2(RDD.scala:877)\n\tat org.apache.spark.rdd.RDD.$anonfun$mapPartitionsWithIndexInternal$2$adapted(RDD.scala:877)\n\tat org.apache.spark.rdd.MapPartitionsRDD.compute(MapPartitionsRDD.scala:52)\n\tat org.apache.spark.rdd.RDD.computeOrReadCheckpoint(RDD.scala:364)\n\tat org.apache.spark.rdd.RDD.iterator(RDD.scala:328)\n\tat org.apache.spark.rdd.MapPartitionsRDD.compute(MapPartitionsRDD.scala:52)\n\tat org.apache.spark.rdd.RDD.computeOrReadCheckpoint(RDD.scala:364)\n\tat org.apache.spark.rdd.RDD.iterator(RDD.scala:328)\n\tat org.apache.spark.rdd.MapPartitionsRDD.compute(MapPartitionsRDD.scala:52)\n\tat org.apache.spark.rdd.RDD.computeOrReadCheckpoint(RDD.scala:364)\n\tat org.apache.spark.rdd.RDD.iterator(RDD.scala:328)\n\tat org.apache.spark.rdd.MapPartitionsRDD.compute(MapPartitionsRDD.scala:52)\n\tat org.apache.spark.rdd.RDD.computeOrReadCheckpoint(RDD.scala:364)\n\tat org.apache.spark.rdd.RDD.iterator(RDD.scala:328)\n\tat org.apache.spark.shuffle.ShuffleWriteProcessor.write(ShuffleWriteProcessor.scala:59)\n\tat org.apache.spark.scheduler.ShuffleMapTask.runTask(ShuffleMapTask.scala:104)\n\tat org.apache.spark.scheduler.ShuffleMapTask.runTask(ShuffleMapTask.scala:54)\n\tat org.apache.spark.TaskContext.runTaskWithListeners(TaskContext.scala:161)\n\tat org.apache.spark.scheduler.Task.run(Task.scala:141)\n\tat org.apache.spark.executor.Executor$TaskRunner.$anonfun$run$4(Executor.scala:620)\n\tat org.apache.spark.util.SparkErrorUtils.tryWithSafeFinally(SparkErrorUtils.scala:64)\n\tat org.apache.spark.util.SparkErrorUtils.tryWithSafeFinally$(SparkErrorUtils.scala:61)\n\tat org.apache.spark.util.Utils$.tryWithSafeFinally(Utils.scala:94)\n\tat org.apache.spark.executor.Executor$TaskRunner.run(Executor.scala:623)\n\tat java.base/java.util.concurrent.ThreadPoolExecutor.runWorker(ThreadPoolExecutor.java:1128)\n\tat java.base/java.util.concurrent.ThreadPoolExecutor$Worker.run(ThreadPoolExecutor.java:628)\n\tat java.base/java.lang.Thread.run(Thread.java:829)\n\nDriver stacktrace:\n\tat org.apache.spark.scheduler.DAGScheduler.failJobAndIndependentStages(DAGScheduler.scala:2844)\n\tat org.apache.spark.scheduler.DAGScheduler.$anonfun$abortStage$2(DAGScheduler.scala:2780)\n\tat org.apache.spark.scheduler.DAGScheduler.$anonfun$abortStage$2$adapted(DAGScheduler.scala:2779)\n\tat scala.collection.mutable.ResizableArray.foreach(ResizableArray.scala:62)\n\tat scala.collection.mutable.ResizableArray.foreach$(ResizableArray.scala:55)\n\tat scala.collection.mutable.ArrayBuffer.foreach(ArrayBuffer.scala:49)\n\tat org.apache.spark.scheduler.DAGScheduler.abortStage(DAGScheduler.scala:2779)\n\tat org.apache.spark.scheduler.DAGScheduler.$anonfun$handleTaskSetFailed$1(DAGScheduler.scala:1242)\n\tat org.apache.spark.scheduler.DAGScheduler.$anonfun$handleTaskSetFailed$1$adapted(DAGScheduler.scala:1242)\n\tat scala.Option.foreach(Option.scala:407)\n\tat org.apache.spark.scheduler.DAGScheduler.handleTaskSetFailed(DAGScheduler.scala:1242)\n\tat org.apache.spark.scheduler.DAGSchedulerEventProcessLoop.doOnReceive(DAGScheduler.scala:3048)\n\tat org.apache.spark.scheduler.DAGSchedulerEventProcessLoop.onReceive(DAGScheduler.scala:2982)\n\tat org.apache.spark.scheduler.DAGSchedulerEventProcessLoop.onReceive(DAGScheduler.scala:2971)\n\tat org.apache.spark.util.EventLoop$$anon$1.run(EventLoop.scala:49)\nCaused by: org.apache.spark.memory.SparkOutOfMemoryError: [UNABLE_TO_ACQUIRE_MEMORY] Unable to acquire 65536 bytes of memory, got 0.\n\tat org.apache.spark.errors.SparkCoreErrors$.outOfMemoryError(SparkCoreErrors.scala:467)\n\tat org.apache.spark.errors.SparkCoreErrors.outOfMemoryError(SparkCoreErrors.scala)\n\tat org.apache.spark.memory.MemoryConsumer.throwOom(MemoryConsumer.java:157)\n\tat org.apache.spark.memory.MemoryConsumer.allocateArray(MemoryConsumer.java:98)\n\tat org.apache.spark.util.collection.unsafe.sort.UnsafeExternalSorter.growPointerArrayIfNecessary(UnsafeExternalSorter.java:415)\n\tat org.apache.spark.util.collection.unsafe.sort.UnsafeExternalSorter.allocateMemoryForRecordIfNecessary(UnsafeExternalSorter.java:449)\n\tat org.apache.spark.util.collection.unsafe.sort.UnsafeExternalSorter.insertRecord(UnsafeExternalSorter.java:487)\n\tat org.apache.spark.sql.execution.UnsafeExternalRowSorter.insertRow(UnsafeExternalRowSorter.java:138)\n\tat org.apache.spark.sql.catalyst.expressions.GeneratedClass$GeneratedIteratorForCodegenStage7.sort_addToSorter_0$(Unknown Source)\n\tat org.apache.spark.sql.catalyst.expressions.GeneratedClass$GeneratedIteratorForCodegenStage7.processNext(Unknown Source)\n\tat org.apache.spark.sql.execution.BufferedRowIterator.hasNext(BufferedRowIterator.java:43)\n\tat org.apache.spark.sql.execution.WholeStageCodegenEvaluatorFactory$WholeStageCodegenPartitionEvaluator$$anon$1.hasNext(WholeStageCodegenEvaluatorFactory.scala:43)\n\tat org.apache.spark.sql.execution.window.GroupedLimitIterator.fetchNextRow(WindowGroupLimitExec.scala:213)\n\tat org.apache.spark.sql.execution.window.GroupedLimitIterator.<init>(WindowGroupLimitExec.scala:219)\n\tat org.apache.spark.sql.execution.window.WindowGroupLimitEvaluatorFactory.$anonfun$createEvaluator$4(WindowGroupLimitEvaluatorFactory.scala:50)\n\tat org.apache.spark.sql.execution.window.WindowGroupLimitEvaluatorFactory$WindowGroupLimitPartitionEvaluator.eval(WindowGroupLimitEvaluatorFactory.scala:60)\n\tat org.apache.spark.sql.execution.window.WindowGroupLimitExec.$anonfun$doExecute$1(WindowGroupLimitExec.scala:89)\n\tat org.apache.spark.sql.execution.window.WindowGroupLimitExec.$anonfun$doExecute$1$adapted(WindowGroupLimitExec.scala:87)\n\tat org.apache.spark.rdd.RDD.$anonfun$mapPartitionsWithIndexInternal$2(RDD.scala:877)\n\tat org.apache.spark.rdd.RDD.$anonfun$mapPartitionsWithIndexInternal$2$adapted(RDD.scala:877)\n\tat org.apache.spark.rdd.MapPartitionsRDD.compute(MapPartitionsRDD.scala:52)\n\tat org.apache.spark.rdd.RDD.computeOrReadCheckpoint(RDD.scala:364)\n\tat org.apache.spark.rdd.RDD.iterator(RDD.scala:328)\n\tat org.apache.spark.rdd.MapPartitionsRDD.compute(MapPartitionsRDD.scala:52)\n\tat org.apache.spark.rdd.RDD.computeOrReadCheckpoint(RDD.scala:364)\n\tat org.apache.spark.rdd.RDD.iterator(RDD.scala:328)\n\tat org.apache.spark.rdd.MapPartitionsRDD.compute(MapPartitionsRDD.scala:52)\n\tat org.apache.spark.rdd.RDD.computeOrReadCheckpoint(RDD.scala:364)\n\tat org.apache.spark.rdd.RDD.iterator(RDD.scala:328)\n\tat org.apache.spark.rdd.MapPartitionsRDD.compute(MapPartitionsRDD.scala:52)\n\tat org.apache.spark.rdd.RDD.computeOrReadCheckpoint(RDD.scala:364)\n\tat org.apache.spark.rdd.RDD.iterator(RDD.scala:328)\n\tat org.apache.spark.shuffle.ShuffleWriteProcessor.write(ShuffleWriteProcessor.scala:59)\n\tat org.apache.spark.scheduler.ShuffleMapTask.runTask(ShuffleMapTask.scala:104)\n\tat org.apache.spark.scheduler.ShuffleMapTask.runTask(ShuffleMapTask.scala:54)\n\tat org.apache.spark.TaskContext.runTaskWithListeners(TaskContext.scala:161)\n\tat org.apache.spark.scheduler.Task.run(Task.scala:141)\n\tat org.apache.spark.executor.Executor$TaskRunner.$anonfun$run$4(Executor.scala:620)\n\tat org.apache.spark.util.SparkErrorUtils.tryWithSafeFinally(SparkErrorUtils.scala:64)\n\tat org.apache.spark.util.SparkErrorUtils.tryWithSafeFinally$(SparkErrorUtils.scala:61)\n\tat org.apache.spark.util.Utils$.tryWithSafeFinally(Utils.scala:94)\n\tat org.apache.spark.executor.Executor$TaskRunner.run(Executor.scala:623)\n\tat java.base/java.util.concurrent.ThreadPoolExecutor.runWorker(ThreadPoolExecutor.java:1128)\n\tat java.base/java.util.concurrent.ThreadPoolExecutor$Worker.run(ThreadPoolExecutor.java:628)\n\tat java.base/java.lang.Thread.run(Thread.java:829)\n"
     ]
    }
   ],
   "source": [
    "while True:\n",
    "    # Read data from Kafka\n",
    "    kafka_batch_df = spark \\\n",
    "        .read \\\n",
    "        .format(\"kafka\") \\\n",
    "        .option(\"kafka.bootstrap.servers\", kafka_bootstrap_servers) \\\n",
    "        .option(\"subscribe\", kafka_topic) \\\n",
    "        .load()\n",
    "\n",
    "    # Kafka messages are in a binary format, so decode and cast to String\n",
    "    messages_df = kafka_batch_df.selectExpr(\"CAST(value AS STRING)\")\n",
    "\n",
    "    # Apply schema to the message values\n",
    "    messages_df = messages_df.selectExpr(\"value as json\").select(from_json(col(\"json\"), schema).alias(\"data\")).select(\"data.*\")\n",
    "\n",
    "    # Apply preprocessing function\n",
    "    processed_df = preprocession(messages_df)\n",
    "\n",
    "    models_preds(processed_df, GBT_List,\n",
    "                random_forest_List, decision_tree_List,\n",
    "                Linear_regression_List, SVC_List, KNN_List, count)\n",
    "\n",
    "    plot_model_acc(GBT_List, random_forest_List, decision_tree_List,\n",
    "                   Linear_regression_List, SVC_List)\n",
    "\n",
    "    \n",
    "    count += 1\n",
    "    # Check for new data (Optional: Add sleep or delay to avoid excessive polling)\n",
    "    if kafka_batch_df.count() == 0:\n",
    "        print(\"No more data available. Exiting.\")\n",
    "        break\n"
   ]
  },
  {
   "cell_type": "code",
   "execution_count": null,
   "id": "92e5a409",
   "metadata": {
    "scrolled": false
   },
   "outputs": [],
   "source": [
    "\n",
    "\n"
   ]
  },
  {
   "cell_type": "code",
   "execution_count": null,
   "id": "959a87ed",
   "metadata": {},
   "outputs": [],
   "source": []
  },
  {
   "cell_type": "code",
   "execution_count": null,
   "id": "a942ea6c",
   "metadata": {},
   "outputs": [],
   "source": []
  },
  {
   "cell_type": "code",
   "execution_count": null,
   "id": "b19a1a2e",
   "metadata": {},
   "outputs": [],
   "source": []
  },
  {
   "cell_type": "code",
   "execution_count": null,
   "id": "43e10623",
   "metadata": {},
   "outputs": [],
   "source": []
  }
 ],
 "metadata": {
  "kernelspec": {
   "display_name": "Python 3 (ipykernel)",
   "language": "python",
   "name": "python3"
  },
  "language_info": {
   "codemirror_mode": {
    "name": "ipython",
    "version": 3
   },
   "file_extension": ".py",
   "mimetype": "text/x-python",
   "name": "python",
   "nbconvert_exporter": "python",
   "pygments_lexer": "ipython3",
   "version": "3.9.12"
  }
 },
 "nbformat": 4,
 "nbformat_minor": 5
}
